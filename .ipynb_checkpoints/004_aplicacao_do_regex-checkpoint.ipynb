{
 "cells": [
  {
   "cell_type": "markdown",
   "id": "4191fd8b",
   "metadata": {},
   "source": [
    "# Aplicação do Regex"
   ]
  },
  {
   "cell_type": "code",
   "execution_count": 1,
   "id": "7a846264",
   "metadata": {
    "ExecuteTime": {
     "end_time": "2022-02-11T01:06:10.156960Z",
     "start_time": "2022-02-11T01:06:09.708260Z"
    }
   },
   "outputs": [],
   "source": [
    "import re\n",
    "import pandas as pd \n",
    "import numpy as np"
   ]
  },
  {
   "cell_type": "code",
   "execution_count": 2,
   "id": "b310ae29",
   "metadata": {
    "ExecuteTime": {
     "end_time": "2022-02-11T01:06:10.314829Z",
     "start_time": "2022-02-11T01:06:10.271572Z"
    }
   },
   "outputs": [
    {
     "data": {
      "text/html": [
       "<div>\n",
       "<style scoped>\n",
       "    .dataframe tbody tr th:only-of-type {\n",
       "        vertical-align: middle;\n",
       "    }\n",
       "\n",
       "    .dataframe tbody tr th {\n",
       "        vertical-align: top;\n",
       "    }\n",
       "\n",
       "    .dataframe thead th {\n",
       "        text-align: right;\n",
       "    }\n",
       "</style>\n",
       "<table border=\"1\" class=\"dataframe\">\n",
       "  <thead>\n",
       "    <tr style=\"text-align: right;\">\n",
       "      <th></th>\n",
       "      <th>Unnamed: 0</th>\n",
       "      <th>product_id_x</th>\n",
       "      <th>product_category</th>\n",
       "      <th>product_name</th>\n",
       "      <th>product_price</th>\n",
       "      <th>scrapy_datetime</th>\n",
       "      <th>style_id</th>\n",
       "      <th>color_id</th>\n",
       "      <th>product_id_y</th>\n",
       "      <th>color_name</th>\n",
       "      <th>color_id_x</th>\n",
       "      <th>Size</th>\n",
       "      <th>Fit</th>\n",
       "      <th>Composition</th>\n",
       "      <th>More sustainable materials</th>\n",
       "      <th>Art. No.</th>\n",
       "      <th>color_id_y</th>\n",
       "      <th>Product safety</th>\n",
       "    </tr>\n",
       "  </thead>\n",
       "  <tbody>\n",
       "    <tr>\n",
       "      <th>0</th>\n",
       "      <td>0</td>\n",
       "      <td>979945001</td>\n",
       "      <td>men_jeans_loose</td>\n",
       "      <td>Loose Jeans</td>\n",
       "      <td>$ 29.99</td>\n",
       "      <td>2022-02-05 11:58:59</td>\n",
       "      <td>979945</td>\n",
       "      <td>1</td>\n",
       "      <td>979945002</td>\n",
       "      <td>Denim blue</td>\n",
       "      <td>2</td>\n",
       "      <td>The model is 180cm/5'11\" and wears a size 31/32</td>\n",
       "      <td>Loose fit</td>\n",
       "      <td>Pocket lining: Polyester 65%, Cotton 35%</td>\n",
       "      <td>Recycled cotton 20%</td>\n",
       "      <td>979945001</td>\n",
       "      <td>1</td>\n",
       "      <td>NaN</td>\n",
       "    </tr>\n",
       "    <tr>\n",
       "      <th>1</th>\n",
       "      <td>1</td>\n",
       "      <td>979945001</td>\n",
       "      <td>men_jeans_loose</td>\n",
       "      <td>Loose Jeans</td>\n",
       "      <td>$ 29.99</td>\n",
       "      <td>2022-02-05 11:58:59</td>\n",
       "      <td>979945</td>\n",
       "      <td>1</td>\n",
       "      <td>979945002</td>\n",
       "      <td>Denim blue</td>\n",
       "      <td>2</td>\n",
       "      <td>The model is 180cm/5'11\" and wears a size 31/32</td>\n",
       "      <td>Loose fit</td>\n",
       "      <td>Shell: Cotton 100%</td>\n",
       "      <td>Recycled cotton 20%</td>\n",
       "      <td>979945001</td>\n",
       "      <td>1</td>\n",
       "      <td>NaN</td>\n",
       "    </tr>\n",
       "    <tr>\n",
       "      <th>2</th>\n",
       "      <td>2</td>\n",
       "      <td>979945001</td>\n",
       "      <td>men_jeans_loose</td>\n",
       "      <td>Loose Jeans</td>\n",
       "      <td>$ 29.99</td>\n",
       "      <td>2022-02-05 11:58:59</td>\n",
       "      <td>979945</td>\n",
       "      <td>1</td>\n",
       "      <td>979945003</td>\n",
       "      <td>Black</td>\n",
       "      <td>3</td>\n",
       "      <td>The model is 180cm/5'11\" and wears a size 31/32</td>\n",
       "      <td>Loose fit</td>\n",
       "      <td>Pocket lining: Polyester 65%, Cotton 35%</td>\n",
       "      <td>Recycled cotton 20%</td>\n",
       "      <td>979945001</td>\n",
       "      <td>1</td>\n",
       "      <td>NaN</td>\n",
       "    </tr>\n",
       "    <tr>\n",
       "      <th>3</th>\n",
       "      <td>3</td>\n",
       "      <td>979945001</td>\n",
       "      <td>men_jeans_loose</td>\n",
       "      <td>Loose Jeans</td>\n",
       "      <td>$ 29.99</td>\n",
       "      <td>2022-02-05 11:58:59</td>\n",
       "      <td>979945</td>\n",
       "      <td>1</td>\n",
       "      <td>979945003</td>\n",
       "      <td>Black</td>\n",
       "      <td>3</td>\n",
       "      <td>The model is 180cm/5'11\" and wears a size 31/32</td>\n",
       "      <td>Loose fit</td>\n",
       "      <td>Shell: Cotton 100%</td>\n",
       "      <td>Recycled cotton 20%</td>\n",
       "      <td>979945001</td>\n",
       "      <td>1</td>\n",
       "      <td>NaN</td>\n",
       "    </tr>\n",
       "    <tr>\n",
       "      <th>4</th>\n",
       "      <td>4</td>\n",
       "      <td>979945001</td>\n",
       "      <td>men_jeans_loose</td>\n",
       "      <td>Loose Jeans</td>\n",
       "      <td>$ 29.99</td>\n",
       "      <td>2022-02-05 11:58:59</td>\n",
       "      <td>979945</td>\n",
       "      <td>1</td>\n",
       "      <td>979945001</td>\n",
       "      <td>Light denim blue</td>\n",
       "      <td>1</td>\n",
       "      <td>NaN</td>\n",
       "      <td>Loose fit</td>\n",
       "      <td>Shell: Cotton 100%</td>\n",
       "      <td>Recycled cotton 20%</td>\n",
       "      <td>979945002</td>\n",
       "      <td>2</td>\n",
       "      <td>NaN</td>\n",
       "    </tr>\n",
       "  </tbody>\n",
       "</table>\n",
       "</div>"
      ],
      "text/plain": [
       "   Unnamed: 0  product_id_x product_category product_name product_price  \\\n",
       "0           0     979945001  men_jeans_loose  Loose Jeans       $ 29.99   \n",
       "1           1     979945001  men_jeans_loose  Loose Jeans       $ 29.99   \n",
       "2           2     979945001  men_jeans_loose  Loose Jeans       $ 29.99   \n",
       "3           3     979945001  men_jeans_loose  Loose Jeans       $ 29.99   \n",
       "4           4     979945001  men_jeans_loose  Loose Jeans       $ 29.99   \n",
       "\n",
       "       scrapy_datetime  style_id  color_id  product_id_y        color_name  \\\n",
       "0  2022-02-05 11:58:59    979945         1     979945002        Denim blue   \n",
       "1  2022-02-05 11:58:59    979945         1     979945002        Denim blue   \n",
       "2  2022-02-05 11:58:59    979945         1     979945003             Black   \n",
       "3  2022-02-05 11:58:59    979945         1     979945003             Black   \n",
       "4  2022-02-05 11:58:59    979945         1     979945001  Light denim blue   \n",
       "\n",
       "   color_id_x                                             Size        Fit  \\\n",
       "0           2  The model is 180cm/5'11\" and wears a size 31/32  Loose fit   \n",
       "1           2  The model is 180cm/5'11\" and wears a size 31/32  Loose fit   \n",
       "2           3  The model is 180cm/5'11\" and wears a size 31/32  Loose fit   \n",
       "3           3  The model is 180cm/5'11\" and wears a size 31/32  Loose fit   \n",
       "4           1                                              NaN  Loose fit   \n",
       "\n",
       "                                Composition More sustainable materials  \\\n",
       "0  Pocket lining: Polyester 65%, Cotton 35%        Recycled cotton 20%   \n",
       "1                        Shell: Cotton 100%        Recycled cotton 20%   \n",
       "2  Pocket lining: Polyester 65%, Cotton 35%        Recycled cotton 20%   \n",
       "3                        Shell: Cotton 100%        Recycled cotton 20%   \n",
       "4                        Shell: Cotton 100%        Recycled cotton 20%   \n",
       "\n",
       "    Art. No.  color_id_y Product safety  \n",
       "0  979945001           1            NaN  \n",
       "1  979945001           1            NaN  \n",
       "2  979945001           1            NaN  \n",
       "3  979945001           1            NaN  \n",
       "4  979945002           2            NaN  "
      ]
     },
     "execution_count": 2,
     "metadata": {},
     "output_type": "execute_result"
    }
   ],
   "source": [
    "data = pd.read_csv('products_hm.csv')\n",
    "data.head()"
   ]
  },
  {
   "cell_type": "code",
   "execution_count": 3,
   "id": "e9d7cb89",
   "metadata": {
    "ExecuteTime": {
     "end_time": "2022-02-11T01:06:11.263493Z",
     "start_time": "2022-02-11T01:06:11.249285Z"
    }
   },
   "outputs": [
    {
     "data": {
      "text/html": [
       "<div>\n",
       "<style scoped>\n",
       "    .dataframe tbody tr th:only-of-type {\n",
       "        vertical-align: middle;\n",
       "    }\n",
       "\n",
       "    .dataframe tbody tr th {\n",
       "        vertical-align: top;\n",
       "    }\n",
       "\n",
       "    .dataframe thead th {\n",
       "        text-align: right;\n",
       "    }\n",
       "</style>\n",
       "<table border=\"1\" class=\"dataframe\">\n",
       "  <thead>\n",
       "    <tr style=\"text-align: right;\">\n",
       "      <th></th>\n",
       "      <th>product_id_x</th>\n",
       "      <th>product_category</th>\n",
       "      <th>product_name</th>\n",
       "      <th>product_price</th>\n",
       "      <th>scrapy_datetime</th>\n",
       "      <th>style_id</th>\n",
       "      <th>color_id</th>\n",
       "      <th>product_id_y</th>\n",
       "      <th>color_name</th>\n",
       "      <th>color_id_x</th>\n",
       "      <th>Size</th>\n",
       "      <th>Fit</th>\n",
       "      <th>Composition</th>\n",
       "      <th>More sustainable materials</th>\n",
       "      <th>Art. No.</th>\n",
       "      <th>color_id_y</th>\n",
       "      <th>Product safety</th>\n",
       "    </tr>\n",
       "  </thead>\n",
       "  <tbody>\n",
       "    <tr>\n",
       "      <th>0</th>\n",
       "      <td>979945001</td>\n",
       "      <td>men_jeans_loose</td>\n",
       "      <td>Loose Jeans</td>\n",
       "      <td>$ 29.99</td>\n",
       "      <td>2022-02-05 11:58:59</td>\n",
       "      <td>979945</td>\n",
       "      <td>1</td>\n",
       "      <td>979945002</td>\n",
       "      <td>Denim blue</td>\n",
       "      <td>2</td>\n",
       "      <td>The model is 180cm/5'11\" and wears a size 31/32</td>\n",
       "      <td>Loose fit</td>\n",
       "      <td>Pocket lining: Polyester 65%, Cotton 35%</td>\n",
       "      <td>Recycled cotton 20%</td>\n",
       "      <td>979945001</td>\n",
       "      <td>1</td>\n",
       "      <td>NaN</td>\n",
       "    </tr>\n",
       "    <tr>\n",
       "      <th>1</th>\n",
       "      <td>979945001</td>\n",
       "      <td>men_jeans_loose</td>\n",
       "      <td>Loose Jeans</td>\n",
       "      <td>$ 29.99</td>\n",
       "      <td>2022-02-05 11:58:59</td>\n",
       "      <td>979945</td>\n",
       "      <td>1</td>\n",
       "      <td>979945002</td>\n",
       "      <td>Denim blue</td>\n",
       "      <td>2</td>\n",
       "      <td>The model is 180cm/5'11\" and wears a size 31/32</td>\n",
       "      <td>Loose fit</td>\n",
       "      <td>Shell: Cotton 100%</td>\n",
       "      <td>Recycled cotton 20%</td>\n",
       "      <td>979945001</td>\n",
       "      <td>1</td>\n",
       "      <td>NaN</td>\n",
       "    </tr>\n",
       "    <tr>\n",
       "      <th>2</th>\n",
       "      <td>979945001</td>\n",
       "      <td>men_jeans_loose</td>\n",
       "      <td>Loose Jeans</td>\n",
       "      <td>$ 29.99</td>\n",
       "      <td>2022-02-05 11:58:59</td>\n",
       "      <td>979945</td>\n",
       "      <td>1</td>\n",
       "      <td>979945003</td>\n",
       "      <td>Black</td>\n",
       "      <td>3</td>\n",
       "      <td>The model is 180cm/5'11\" and wears a size 31/32</td>\n",
       "      <td>Loose fit</td>\n",
       "      <td>Pocket lining: Polyester 65%, Cotton 35%</td>\n",
       "      <td>Recycled cotton 20%</td>\n",
       "      <td>979945001</td>\n",
       "      <td>1</td>\n",
       "      <td>NaN</td>\n",
       "    </tr>\n",
       "    <tr>\n",
       "      <th>3</th>\n",
       "      <td>979945001</td>\n",
       "      <td>men_jeans_loose</td>\n",
       "      <td>Loose Jeans</td>\n",
       "      <td>$ 29.99</td>\n",
       "      <td>2022-02-05 11:58:59</td>\n",
       "      <td>979945</td>\n",
       "      <td>1</td>\n",
       "      <td>979945003</td>\n",
       "      <td>Black</td>\n",
       "      <td>3</td>\n",
       "      <td>The model is 180cm/5'11\" and wears a size 31/32</td>\n",
       "      <td>Loose fit</td>\n",
       "      <td>Shell: Cotton 100%</td>\n",
       "      <td>Recycled cotton 20%</td>\n",
       "      <td>979945001</td>\n",
       "      <td>1</td>\n",
       "      <td>NaN</td>\n",
       "    </tr>\n",
       "    <tr>\n",
       "      <th>4</th>\n",
       "      <td>979945001</td>\n",
       "      <td>men_jeans_loose</td>\n",
       "      <td>Loose Jeans</td>\n",
       "      <td>$ 29.99</td>\n",
       "      <td>2022-02-05 11:58:59</td>\n",
       "      <td>979945</td>\n",
       "      <td>1</td>\n",
       "      <td>979945001</td>\n",
       "      <td>Light denim blue</td>\n",
       "      <td>1</td>\n",
       "      <td>NaN</td>\n",
       "      <td>Loose fit</td>\n",
       "      <td>Shell: Cotton 100%</td>\n",
       "      <td>Recycled cotton 20%</td>\n",
       "      <td>979945002</td>\n",
       "      <td>2</td>\n",
       "      <td>NaN</td>\n",
       "    </tr>\n",
       "  </tbody>\n",
       "</table>\n",
       "</div>"
      ],
      "text/plain": [
       "   product_id_x product_category product_name product_price  \\\n",
       "0     979945001  men_jeans_loose  Loose Jeans       $ 29.99   \n",
       "1     979945001  men_jeans_loose  Loose Jeans       $ 29.99   \n",
       "2     979945001  men_jeans_loose  Loose Jeans       $ 29.99   \n",
       "3     979945001  men_jeans_loose  Loose Jeans       $ 29.99   \n",
       "4     979945001  men_jeans_loose  Loose Jeans       $ 29.99   \n",
       "\n",
       "       scrapy_datetime  style_id  color_id  product_id_y        color_name  \\\n",
       "0  2022-02-05 11:58:59    979945         1     979945002        Denim blue   \n",
       "1  2022-02-05 11:58:59    979945         1     979945002        Denim blue   \n",
       "2  2022-02-05 11:58:59    979945         1     979945003             Black   \n",
       "3  2022-02-05 11:58:59    979945         1     979945003             Black   \n",
       "4  2022-02-05 11:58:59    979945         1     979945001  Light denim blue   \n",
       "\n",
       "   color_id_x                                             Size        Fit  \\\n",
       "0           2  The model is 180cm/5'11\" and wears a size 31/32  Loose fit   \n",
       "1           2  The model is 180cm/5'11\" and wears a size 31/32  Loose fit   \n",
       "2           3  The model is 180cm/5'11\" and wears a size 31/32  Loose fit   \n",
       "3           3  The model is 180cm/5'11\" and wears a size 31/32  Loose fit   \n",
       "4           1                                              NaN  Loose fit   \n",
       "\n",
       "                                Composition More sustainable materials  \\\n",
       "0  Pocket lining: Polyester 65%, Cotton 35%        Recycled cotton 20%   \n",
       "1                        Shell: Cotton 100%        Recycled cotton 20%   \n",
       "2  Pocket lining: Polyester 65%, Cotton 35%        Recycled cotton 20%   \n",
       "3                        Shell: Cotton 100%        Recycled cotton 20%   \n",
       "4                        Shell: Cotton 100%        Recycled cotton 20%   \n",
       "\n",
       "    Art. No.  color_id_y Product safety  \n",
       "0  979945001           1            NaN  \n",
       "1  979945001           1            NaN  \n",
       "2  979945001           1            NaN  \n",
       "3  979945001           1            NaN  \n",
       "4  979945002           2            NaN  "
      ]
     },
     "execution_count": 3,
     "metadata": {},
     "output_type": "execute_result"
    }
   ],
   "source": [
    "data = data.drop(['Unnamed: 0'], axis=1)\n",
    "data.head()"
   ]
  },
  {
   "cell_type": "code",
   "execution_count": 4,
   "id": "7ce62b73",
   "metadata": {
    "ExecuteTime": {
     "end_time": "2022-02-11T01:06:12.053902Z",
     "start_time": "2022-02-11T01:06:12.049426Z"
    }
   },
   "outputs": [],
   "source": [
    "data01 = data[['product_id_x', 'product_category', 'product_name', 'product_price', 'scrapy_datetime', 'style_id', 'color_id', 'color_name',\n",
    "              'Size', 'Fit', 'Composition', 'More sustainable materials']].copy()\n"
   ]
  },
  {
   "cell_type": "code",
   "execution_count": 5,
   "id": "432d872b",
   "metadata": {
    "ExecuteTime": {
     "end_time": "2022-02-11T01:06:12.848161Z",
     "start_time": "2022-02-11T01:06:12.836608Z"
    }
   },
   "outputs": [
    {
     "data": {
      "text/html": [
       "<div>\n",
       "<style scoped>\n",
       "    .dataframe tbody tr th:only-of-type {\n",
       "        vertical-align: middle;\n",
       "    }\n",
       "\n",
       "    .dataframe tbody tr th {\n",
       "        vertical-align: top;\n",
       "    }\n",
       "\n",
       "    .dataframe thead th {\n",
       "        text-align: right;\n",
       "    }\n",
       "</style>\n",
       "<table border=\"1\" class=\"dataframe\">\n",
       "  <thead>\n",
       "    <tr style=\"text-align: right;\">\n",
       "      <th></th>\n",
       "      <th>product_id</th>\n",
       "      <th>product_category</th>\n",
       "      <th>product_name</th>\n",
       "      <th>product_price</th>\n",
       "      <th>scrapy_datetime</th>\n",
       "      <th>style_id</th>\n",
       "      <th>color_id</th>\n",
       "      <th>color_name</th>\n",
       "      <th>size</th>\n",
       "      <th>fit</th>\n",
       "      <th>composition</th>\n",
       "      <th>product_safety</th>\n",
       "    </tr>\n",
       "  </thead>\n",
       "  <tbody>\n",
       "    <tr>\n",
       "      <th>0</th>\n",
       "      <td>979945001</td>\n",
       "      <td>men_jeans_loose</td>\n",
       "      <td>Loose Jeans</td>\n",
       "      <td>$ 29.99</td>\n",
       "      <td>2022-02-05 11:58:59</td>\n",
       "      <td>979945</td>\n",
       "      <td>1</td>\n",
       "      <td>Denim blue</td>\n",
       "      <td>The model is 180cm/5'11\" and wears a size 31/32</td>\n",
       "      <td>Loose fit</td>\n",
       "      <td>Pocket lining: Polyester 65%, Cotton 35%</td>\n",
       "      <td>Recycled cotton 20%</td>\n",
       "    </tr>\n",
       "    <tr>\n",
       "      <th>1</th>\n",
       "      <td>979945001</td>\n",
       "      <td>men_jeans_loose</td>\n",
       "      <td>Loose Jeans</td>\n",
       "      <td>$ 29.99</td>\n",
       "      <td>2022-02-05 11:58:59</td>\n",
       "      <td>979945</td>\n",
       "      <td>1</td>\n",
       "      <td>Denim blue</td>\n",
       "      <td>The model is 180cm/5'11\" and wears a size 31/32</td>\n",
       "      <td>Loose fit</td>\n",
       "      <td>Shell: Cotton 100%</td>\n",
       "      <td>Recycled cotton 20%</td>\n",
       "    </tr>\n",
       "    <tr>\n",
       "      <th>2</th>\n",
       "      <td>979945001</td>\n",
       "      <td>men_jeans_loose</td>\n",
       "      <td>Loose Jeans</td>\n",
       "      <td>$ 29.99</td>\n",
       "      <td>2022-02-05 11:58:59</td>\n",
       "      <td>979945</td>\n",
       "      <td>1</td>\n",
       "      <td>Black</td>\n",
       "      <td>The model is 180cm/5'11\" and wears a size 31/32</td>\n",
       "      <td>Loose fit</td>\n",
       "      <td>Pocket lining: Polyester 65%, Cotton 35%</td>\n",
       "      <td>Recycled cotton 20%</td>\n",
       "    </tr>\n",
       "    <tr>\n",
       "      <th>3</th>\n",
       "      <td>979945001</td>\n",
       "      <td>men_jeans_loose</td>\n",
       "      <td>Loose Jeans</td>\n",
       "      <td>$ 29.99</td>\n",
       "      <td>2022-02-05 11:58:59</td>\n",
       "      <td>979945</td>\n",
       "      <td>1</td>\n",
       "      <td>Black</td>\n",
       "      <td>The model is 180cm/5'11\" and wears a size 31/32</td>\n",
       "      <td>Loose fit</td>\n",
       "      <td>Shell: Cotton 100%</td>\n",
       "      <td>Recycled cotton 20%</td>\n",
       "    </tr>\n",
       "    <tr>\n",
       "      <th>4</th>\n",
       "      <td>979945001</td>\n",
       "      <td>men_jeans_loose</td>\n",
       "      <td>Loose Jeans</td>\n",
       "      <td>$ 29.99</td>\n",
       "      <td>2022-02-05 11:58:59</td>\n",
       "      <td>979945</td>\n",
       "      <td>1</td>\n",
       "      <td>Light denim blue</td>\n",
       "      <td>NaN</td>\n",
       "      <td>Loose fit</td>\n",
       "      <td>Shell: Cotton 100%</td>\n",
       "      <td>Recycled cotton 20%</td>\n",
       "    </tr>\n",
       "  </tbody>\n",
       "</table>\n",
       "</div>"
      ],
      "text/plain": [
       "   product_id product_category product_name product_price  \\\n",
       "0   979945001  men_jeans_loose  Loose Jeans       $ 29.99   \n",
       "1   979945001  men_jeans_loose  Loose Jeans       $ 29.99   \n",
       "2   979945001  men_jeans_loose  Loose Jeans       $ 29.99   \n",
       "3   979945001  men_jeans_loose  Loose Jeans       $ 29.99   \n",
       "4   979945001  men_jeans_loose  Loose Jeans       $ 29.99   \n",
       "\n",
       "       scrapy_datetime  style_id  color_id        color_name  \\\n",
       "0  2022-02-05 11:58:59    979945         1        Denim blue   \n",
       "1  2022-02-05 11:58:59    979945         1        Denim blue   \n",
       "2  2022-02-05 11:58:59    979945         1             Black   \n",
       "3  2022-02-05 11:58:59    979945         1             Black   \n",
       "4  2022-02-05 11:58:59    979945         1  Light denim blue   \n",
       "\n",
       "                                              size        fit  \\\n",
       "0  The model is 180cm/5'11\" and wears a size 31/32  Loose fit   \n",
       "1  The model is 180cm/5'11\" and wears a size 31/32  Loose fit   \n",
       "2  The model is 180cm/5'11\" and wears a size 31/32  Loose fit   \n",
       "3  The model is 180cm/5'11\" and wears a size 31/32  Loose fit   \n",
       "4                                              NaN  Loose fit   \n",
       "\n",
       "                                composition       product_safety  \n",
       "0  Pocket lining: Polyester 65%, Cotton 35%  Recycled cotton 20%  \n",
       "1                        Shell: Cotton 100%  Recycled cotton 20%  \n",
       "2  Pocket lining: Polyester 65%, Cotton 35%  Recycled cotton 20%  \n",
       "3                        Shell: Cotton 100%  Recycled cotton 20%  \n",
       "4                        Shell: Cotton 100%  Recycled cotton 20%  "
      ]
     },
     "execution_count": 5,
     "metadata": {},
     "output_type": "execute_result"
    }
   ],
   "source": [
    "# Changing column names\n",
    "data01.columns = ['product_id', 'product_category', 'product_name', 'product_price',\n",
    "       'scrapy_datetime', 'style_id', 'color_id', 'color_name', 'size', 'fit',\n",
    "       'composition', 'product_safety']\n",
    "\n",
    "data01.head()"
   ]
  },
  {
   "cell_type": "code",
   "execution_count": 6,
   "id": "864b6601",
   "metadata": {
    "ExecuteTime": {
     "end_time": "2022-02-11T01:06:13.649937Z",
     "start_time": "2022-02-11T01:06:13.645937Z"
    }
   },
   "outputs": [
    {
     "data": {
      "text/plain": [
       "(1978, 12)"
      ]
     },
     "execution_count": 6,
     "metadata": {},
     "output_type": "execute_result"
    }
   ],
   "source": [
    "data01.shape"
   ]
  },
  {
   "cell_type": "markdown",
   "id": "3ea973f4",
   "metadata": {},
   "source": [
    "#### <span style=\"color:#1a8cff\">*Types*</span>"
   ]
  },
  {
   "cell_type": "code",
   "execution_count": 7,
   "id": "dc24fb15",
   "metadata": {
    "ExecuteTime": {
     "end_time": "2022-02-11T01:06:16.318384Z",
     "start_time": "2022-02-11T01:06:16.313096Z"
    }
   },
   "outputs": [
    {
     "data": {
      "text/plain": [
       "product_id           int64\n",
       "product_category    object\n",
       "product_name        object\n",
       "product_price       object\n",
       "scrapy_datetime     object\n",
       "style_id             int64\n",
       "color_id             int64\n",
       "color_name          object\n",
       "size                object\n",
       "fit                 object\n",
       "composition         object\n",
       "product_safety      object\n",
       "dtype: object"
      ]
     },
     "execution_count": 7,
     "metadata": {},
     "output_type": "execute_result"
    }
   ],
   "source": [
    "data01.dtypes"
   ]
  },
  {
   "cell_type": "markdown",
   "id": "0045a17d",
   "metadata": {},
   "source": [
    "#### <span style=\"color:#1a8cff\">*Checking for NAs*</span>"
   ]
  },
  {
   "cell_type": "code",
   "execution_count": 8,
   "id": "5810c270",
   "metadata": {
    "ExecuteTime": {
     "end_time": "2022-02-11T01:06:17.711410Z",
     "start_time": "2022-02-11T01:06:17.705327Z"
    }
   },
   "outputs": [
    {
     "data": {
      "text/plain": [
       "product_id             0\n",
       "product_category       0\n",
       "product_name           0\n",
       "product_price          0\n",
       "scrapy_datetime        0\n",
       "style_id               0\n",
       "color_id               0\n",
       "color_name             0\n",
       "size                 431\n",
       "fit                    0\n",
       "composition            0\n",
       "product_safety      1383\n",
       "dtype: int64"
      ]
     },
     "execution_count": 8,
     "metadata": {},
     "output_type": "execute_result"
    }
   ],
   "source": [
    "data01.isna().sum()"
   ]
  },
  {
   "cell_type": "markdown",
   "id": "84cdae36",
   "metadata": {},
   "source": [
    "- No caso de existir NA, e não estivermos usando nenhuma técnica de substituição, podemos simplesmente ignorar, usando o comando abaixo."
   ]
  },
  {
   "cell_type": "markdown",
   "id": "ac86c805",
   "metadata": {},
   "source": [
    "`data = data.dropna(subset=['product_id'])`"
   ]
  },
  {
   "cell_type": "markdown",
   "id": "e1c4a469",
   "metadata": {
    "ExecuteTime": {
     "end_time": "2022-02-03T00:48:35.077089Z",
     "start_time": "2022-02-03T00:48:35.070974Z"
    }
   },
   "source": [
    "- Neste caso, estaríamos removendo todos os NAs da coluna `product_id`."
   ]
  },
  {
   "cell_type": "markdown",
   "id": "61e32f25",
   "metadata": {},
   "source": [
    "#### <span style=\"color:#1a8cff\">*Mudando os tipos das variáveis:*</span>"
   ]
  },
  {
   "cell_type": "code",
   "execution_count": 9,
   "id": "1aefdf6b",
   "metadata": {
    "ExecuteTime": {
     "end_time": "2022-02-11T01:06:21.607533Z",
     "start_time": "2022-02-11T01:06:21.576200Z"
    }
   },
   "outputs": [],
   "source": [
    "# product_name\n",
    "data01['product_name'] = data01['product_name'].apply(lambda x: x.replace(' ', '_').lower())\n",
    "\n",
    "# product_price\n",
    "data01['product_price'] = data01['product_price'].apply(lambda x: x.replace('$ ', '')).astype(float)\n",
    "\n",
    "# scrapy_datetime\n",
    "data01['scrapy_datetime'] = pd.to_datetime(data01['scrapy_datetime'], format='%Y-%m-%d %H:%M:%S')\n",
    "\n",
    "# style_id\n",
    "data01['style_id'] = data01['style_id'].astype(int)\n",
    "\n",
    "\n",
    "# color_id\n",
    "data01['color_id'] = data01['color_id'].astype(int)\n",
    "\n",
    "# color_name\n",
    "data01['color_name'] = data01['color_name'].apply(lambda x: x.replace(' ', '_').lower())\n",
    "\n",
    "# Fit\n",
    "data01['fit'] = data01['fit'].apply(lambda x: x.replace(' ', '_').lower())\n",
    "\n",
    "# size number\n",
    "data01['size_number'] = data01['size'].apply(lambda x: re.search ('\\d{3}cm', x).group(0) if pd.notnull(x) else x)\n",
    "data01['size_number'] = data01['size'].apply(lambda x: re.search('\\d+', x).group(0) if pd.notnull(x) else x)\n",
    "\n",
    "# size model\n",
    "data01['size_model'] = data01['size'].str.extract('(\\d+/\\\\d+)')\n",
    "\n",
    "# removing the size variable, because we have already removed the information we wanted\n",
    "data01 = data01.drop(columns=['size', 'product_safety'], axis = 1)\n",
    "\n",
    "# Excluding composition I don't want for the first cycle of CRISP\n",
    "data01 = data01[~data01['composition'].str.contains('Pocket lining:', na=False)]\n",
    "data01 = data01[~data01['composition'].str.contains('Lining:', na=False)]\n",
    "data01 = data01[~data01['composition'].str.contains('Shell:', na=False)]\n"
   ]
  },
  {
   "cell_type": "code",
   "execution_count": 10,
   "id": "42ef16c4",
   "metadata": {
    "ExecuteTime": {
     "end_time": "2022-02-11T01:06:25.035806Z",
     "start_time": "2022-02-11T01:06:25.031679Z"
    }
   },
   "outputs": [
    {
     "data": {
      "text/plain": [
       "array(['Pocket lining: Polyester 65%, Cotton 35%', 'Shell: Cotton 100%',\n",
       "       'Shell: Cotton 98%, Spandex 2%', 'Shell: Cotton 99%, Spandex 1%',\n",
       "       'Pocket lining: Polyester 63%, Cotton 37%', 'Pocket: Cotton 100%',\n",
       "       'Cotton 98%, Spandex 2%', 'Cotton 79%, Polyester 20%, Spandex 1%',\n",
       "       'Cotton 78%, Polyester 21%, Spandex 1%',\n",
       "       'Pocket lining: Cotton 100%', 'Lining: Polyester 100%',\n",
       "       'Cotton 99%, Spandex 1%'], dtype=object)"
      ]
     },
     "execution_count": 10,
     "metadata": {},
     "output_type": "execute_result"
    }
   ],
   "source": [
    "# product_composition\n",
    "data01['composition'].unique()"
   ]
  },
  {
   "cell_type": "markdown",
   "id": "62e0aec6",
   "metadata": {
    "ExecuteTime": {
     "end_time": "2022-02-11T00:31:49.111477Z",
     "start_time": "2022-02-11T00:31:49.098658Z"
    }
   },
   "source": [
    "- Para esse primeiro ciclo do CRISP, vamos remover as linhas que contenham informações sobre lining e pocket lining."
   ]
  },
  {
   "cell_type": "code",
   "execution_count": 11,
   "id": "97e29af7",
   "metadata": {
    "ExecuteTime": {
     "end_time": "2022-02-11T01:08:48.243148Z",
     "start_time": "2022-02-11T01:08:48.234726Z"
    }
   },
   "outputs": [
    {
     "data": {
      "text/html": [
       "<div>\n",
       "<style scoped>\n",
       "    .dataframe tbody tr th:only-of-type {\n",
       "        vertical-align: middle;\n",
       "    }\n",
       "\n",
       "    .dataframe tbody tr th {\n",
       "        vertical-align: top;\n",
       "    }\n",
       "\n",
       "    .dataframe thead th {\n",
       "        text-align: right;\n",
       "    }\n",
       "</style>\n",
       "<table border=\"1\" class=\"dataframe\">\n",
       "  <thead>\n",
       "    <tr style=\"text-align: right;\">\n",
       "      <th></th>\n",
       "      <th>product_id</th>\n",
       "      <th>composition</th>\n",
       "    </tr>\n",
       "  </thead>\n",
       "  <tbody>\n",
       "    <tr>\n",
       "      <th>844</th>\n",
       "      <td>690449051</td>\n",
       "      <td>Pocket lining: Polyester 65%, Cotton 35%</td>\n",
       "    </tr>\n",
       "    <tr>\n",
       "      <th>1485</th>\n",
       "      <td>1024256005</td>\n",
       "      <td>Shell: Cotton 99%, Spandex 1%</td>\n",
       "    </tr>\n",
       "    <tr>\n",
       "      <th>1671</th>\n",
       "      <td>985159006</td>\n",
       "      <td>Pocket lining: Cotton 100%</td>\n",
       "    </tr>\n",
       "    <tr>\n",
       "      <th>330</th>\n",
       "      <td>690449043</td>\n",
       "      <td>Cotton 98%, Spandex 2%</td>\n",
       "    </tr>\n",
       "    <tr>\n",
       "      <th>1307</th>\n",
       "      <td>690449056</td>\n",
       "      <td>Cotton 98%, Spandex 2%</td>\n",
       "    </tr>\n",
       "    <tr>\n",
       "      <th>946</th>\n",
       "      <td>690449022</td>\n",
       "      <td>Cotton 98%, Spandex 2%</td>\n",
       "    </tr>\n",
       "    <tr>\n",
       "      <th>298</th>\n",
       "      <td>1024256001</td>\n",
       "      <td>Shell: Cotton 99%, Spandex 1%</td>\n",
       "    </tr>\n",
       "    <tr>\n",
       "      <th>1267</th>\n",
       "      <td>690449056</td>\n",
       "      <td>Lining: Polyester 100%</td>\n",
       "    </tr>\n",
       "    <tr>\n",
       "      <th>1726</th>\n",
       "      <td>985159006</td>\n",
       "      <td>Shell: Cotton 99%, Spandex 1%</td>\n",
       "    </tr>\n",
       "    <tr>\n",
       "      <th>698</th>\n",
       "      <td>1024256007</td>\n",
       "      <td>Pocket lining: Polyester 65%, Cotton 35%</td>\n",
       "    </tr>\n",
       "  </tbody>\n",
       "</table>\n",
       "</div>"
      ],
      "text/plain": [
       "      product_id                               composition\n",
       "844    690449051  Pocket lining: Polyester 65%, Cotton 35%\n",
       "1485  1024256005             Shell: Cotton 99%, Spandex 1%\n",
       "1671   985159006                Pocket lining: Cotton 100%\n",
       "330    690449043                    Cotton 98%, Spandex 2%\n",
       "1307   690449056                    Cotton 98%, Spandex 2%\n",
       "946    690449022                    Cotton 98%, Spandex 2%\n",
       "298   1024256001             Shell: Cotton 99%, Spandex 1%\n",
       "1267   690449056                    Lining: Polyester 100%\n",
       "1726   985159006             Shell: Cotton 99%, Spandex 1%\n",
       "698   1024256007  Pocket lining: Polyester 65%, Cotton 35%"
      ]
     },
     "execution_count": 11,
     "metadata": {},
     "output_type": "execute_result"
    }
   ],
   "source": [
    "data01[['product_id', 'composition']].sample(10)"
   ]
  },
  {
   "cell_type": "code",
   "execution_count": 13,
   "id": "ded9bd93",
   "metadata": {
    "ExecuteTime": {
     "end_time": "2022-02-11T01:17:14.881760Z",
     "start_time": "2022-02-11T01:17:14.875086Z"
    }
   },
   "outputs": [],
   "source": [
    "data01 = data01[~data01['composition'].str.contains('Pocket lining:', na=False)]"
   ]
  },
  {
   "cell_type": "code",
   "execution_count": 14,
   "id": "8ed26d56",
   "metadata": {
    "ExecuteTime": {
     "end_time": "2022-02-11T01:17:41.961138Z",
     "start_time": "2022-02-11T01:17:41.954435Z"
    }
   },
   "outputs": [],
   "source": [
    "data01 = data01[~data01['composition'].str.contains('Lining:', na=False)]\n",
    "data01 = data01[~data01['composition'].str.contains('Shell:', na=False)]"
   ]
  },
  {
   "cell_type": "code",
   "execution_count": null,
   "id": "d2beb577",
   "metadata": {},
   "outputs": [],
   "source": []
  }
 ],
 "metadata": {
  "kernelspec": {
   "display_name": "Python 3 (ipykernel)",
   "language": "python",
   "name": "python3"
  },
  "language_info": {
   "codemirror_mode": {
    "name": "ipython",
    "version": 3
   },
   "file_extension": ".py",
   "mimetype": "text/x-python",
   "name": "python",
   "nbconvert_exporter": "python",
   "pygments_lexer": "ipython3",
   "version": "3.9.7"
  }
 },
 "nbformat": 4,
 "nbformat_minor": 5
}
