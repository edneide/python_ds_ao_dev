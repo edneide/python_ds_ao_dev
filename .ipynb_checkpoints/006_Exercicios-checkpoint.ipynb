{
 "cells": [
  {
   "cell_type": "markdown",
   "id": "736e4f46",
   "metadata": {},
   "source": [
    "# <span style=\"color:#007ba7\"> Fazer os exercícios das seguintes páginas:</span>\n"
   ]
  },
  {
   "cell_type": "markdown",
   "id": "aaaa7624",
   "metadata": {},
   "source": [
    "- **Exercício 1**: https://holypython.com/advanced-python-exercises/project-regular-expressions-regex/\n",
    "- **Exercício 2**: https://regex.sketchengine.co.uk/cgi/ex1.cgi\n",
    "- **Exercício 3**: https://alf.nu/RegexGolf\n",
    "- **Exercício 4**: https://www.w3resource.com/python-exercises/re/#EDITOR\n",
    "- **Exercício 5**: https://regexcrossword.com/challenges/beginner/puzzles/1\n",
    "- **Exercício 6**: https://www.hackerrank.com/domains/regex\n",
    "- **Exercício 7**: https://learnbyexample.github.io/py_regular_expressions/Exercise_solutions.html"
   ]
  },
  {
   "cell_type": "code",
   "execution_count": null,
   "id": "aad41862",
   "metadata": {},
   "outputs": [],
   "source": []
  }
 ],
 "metadata": {
  "kernelspec": {
   "display_name": "Python 3 (ipykernel)",
   "language": "python",
   "name": "python3"
  },
  "language_info": {
   "codemirror_mode": {
    "name": "ipython",
    "version": 3
   },
   "file_extension": ".py",
   "mimetype": "text/x-python",
   "name": "python",
   "nbconvert_exporter": "python",
   "pygments_lexer": "ipython3",
   "version": "3.9.7"
  }
 },
 "nbformat": 4,
 "nbformat_minor": 5
}
