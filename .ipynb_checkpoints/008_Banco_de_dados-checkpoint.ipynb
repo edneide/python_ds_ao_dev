{
 "cells": [
  {
   "cell_type": "markdown",
   "id": "5b9268e6",
   "metadata": {},
   "source": [
    "# <span style=\"color:#ff6600\">Os principais comandos de Banco de Dados </span>"
   ]
  },
  {
   "cell_type": "markdown",
   "id": "37aa75d3",
   "metadata": {},
   "source": [
    "**SELECT** - Extrai de um banco de dados\n",
    "\n",
    "**UPDATE** - Atualiza um dado no banco de dados\n",
    "\n",
    "**DELETE** - Apaga dados de uma tabela do banco de dados, mas mantém a estrutura da tabela\n",
    "\n",
    "**INSERT INTO** - Insere um novo registro em um banco de dados \n",
    "\n",
    "**CREATE DATABASE** - Cria um novo banco de dados\n",
    "\n",
    "**ALTER DATABASE** - Modifica um banco de dados\n",
    "\n",
    "**CREAT TABLE** - Cria uma nova tabela\n",
    "\n",
    "**ALTER TABLE** - Modifica uma tabela\n",
    "\n",
    "**DROP TABLE** - Apaga a tabela e a estrutura\n",
    "\n",
    "**CREAT INDEX** - Cria um index (chave de busca)\n",
    "\n",
    "**DROP INDEX** - Apaga o index"
   ]
  },
  {
   "cell_type": "markdown",
   "id": "67e28a34",
   "metadata": {
    "ExecuteTime": {
     "end_time": "2022-02-22T14:07:53.581376Z",
     "start_time": "2022-02-22T14:07:53.578056Z"
    }
   },
   "source": [
    "# <span style=\"color:#ff6600\">Armazenamento de Dados na Prática</span>"
   ]
  },
  {
   "cell_type": "markdown",
   "id": "26c7d0b3",
   "metadata": {},
   "source": [
    "## <span style=\"color:#2596be\">SQLite 3</span>"
   ]
  },
  {
   "cell_type": "markdown",
   "id": "a775b9a4",
   "metadata": {},
   "source": [
    "SQLite is a C-language library that implements a small, fast, self-contained, high-reliability, full-featured, SQL database engine. SQLite is the most used database engine in the world. SQLite is built into all mobile phones and most computers and comes bundled inside countless other applications that people use every day. (from https://www.sqlite.org/index.html)"
   ]
  },
  {
   "cell_type": "markdown",
   "id": "30755bba",
   "metadata": {},
   "source": [
    "## <span style=\"color:#2596be\"> Salvando o SQLite 3 na prática </span>"
   ]
  },
  {
   "cell_type": "code",
   "execution_count": 1,
   "id": "725eee8e",
   "metadata": {
    "ExecuteTime": {
     "end_time": "2022-02-22T14:33:16.880673Z",
     "start_time": "2022-02-22T14:33:16.647652Z"
    }
   },
   "outputs": [],
   "source": [
    "import pandas as pd \n",
    "import sqlite3"
   ]
  },
  {
   "cell_type": "code",
   "execution_count": 2,
   "id": "df2d121f",
   "metadata": {
    "ExecuteTime": {
     "end_time": "2022-02-22T14:33:18.779579Z",
     "start_time": "2022-02-22T14:33:18.772348Z"
    }
   },
   "outputs": [],
   "source": [
    "data = pd.read_csv('products_hm_cleaned.csv')"
   ]
  },
  {
   "cell_type": "code",
   "execution_count": 3,
   "id": "2fefc31e",
   "metadata": {
    "ExecuteTime": {
     "end_time": "2022-02-22T14:33:19.873006Z",
     "start_time": "2022-02-22T14:33:19.852348Z"
    }
   },
   "outputs": [
    {
     "data": {
      "text/html": [
       "<div>\n",
       "<style scoped>\n",
       "    .dataframe tbody tr th:only-of-type {\n",
       "        vertical-align: middle;\n",
       "    }\n",
       "\n",
       "    .dataframe tbody tr th {\n",
       "        vertical-align: top;\n",
       "    }\n",
       "\n",
       "    .dataframe thead th {\n",
       "        text-align: right;\n",
       "    }\n",
       "</style>\n",
       "<table border=\"1\" class=\"dataframe\">\n",
       "  <thead>\n",
       "    <tr style=\"text-align: right;\">\n",
       "      <th></th>\n",
       "      <th>product_id</th>\n",
       "      <th>product_category</th>\n",
       "      <th>product_name</th>\n",
       "      <th>product_price</th>\n",
       "      <th>scrapy_datetime</th>\n",
       "      <th>style_id</th>\n",
       "      <th>color_id</th>\n",
       "      <th>color_name</th>\n",
       "      <th>fit</th>\n",
       "      <th>size_number</th>\n",
       "      <th>size_model</th>\n",
       "      <th>cotton</th>\n",
       "      <th>polyester</th>\n",
       "      <th>spandex</th>\n",
       "    </tr>\n",
       "  </thead>\n",
       "  <tbody>\n",
       "    <tr>\n",
       "      <th>0</th>\n",
       "      <td>811993040</td>\n",
       "      <td>men_jeans_regular</td>\n",
       "      <td>regular_jeans</td>\n",
       "      <td>29.99</td>\n",
       "      <td>2022-02-05 11:58:59</td>\n",
       "      <td>811993</td>\n",
       "      <td>40</td>\n",
       "      <td>black/washed_out</td>\n",
       "      <td>regular_fit</td>\n",
       "      <td>NaN</td>\n",
       "      <td>NaN</td>\n",
       "      <td>98</td>\n",
       "      <td>0</td>\n",
       "      <td>2</td>\n",
       "    </tr>\n",
       "    <tr>\n",
       "      <th>1</th>\n",
       "      <td>811993040</td>\n",
       "      <td>men_jeans_regular</td>\n",
       "      <td>regular_jeans</td>\n",
       "      <td>29.99</td>\n",
       "      <td>2022-02-05 11:58:59</td>\n",
       "      <td>811993</td>\n",
       "      <td>40</td>\n",
       "      <td>denim_blue</td>\n",
       "      <td>regular_fit</td>\n",
       "      <td>NaN</td>\n",
       "      <td>NaN</td>\n",
       "      <td>98</td>\n",
       "      <td>0</td>\n",
       "      <td>2</td>\n",
       "    </tr>\n",
       "    <tr>\n",
       "      <th>2</th>\n",
       "      <td>811993040</td>\n",
       "      <td>men_jeans_regular</td>\n",
       "      <td>regular_jeans</td>\n",
       "      <td>29.99</td>\n",
       "      <td>2022-02-05 11:58:59</td>\n",
       "      <td>811993</td>\n",
       "      <td>40</td>\n",
       "      <td>dark_denim_blue</td>\n",
       "      <td>regular_fit</td>\n",
       "      <td>NaN</td>\n",
       "      <td>NaN</td>\n",
       "      <td>98</td>\n",
       "      <td>0</td>\n",
       "      <td>2</td>\n",
       "    </tr>\n",
       "    <tr>\n",
       "      <th>3</th>\n",
       "      <td>811993040</td>\n",
       "      <td>men_jeans_regular</td>\n",
       "      <td>regular_jeans</td>\n",
       "      <td>29.99</td>\n",
       "      <td>2022-02-05 11:58:59</td>\n",
       "      <td>811993</td>\n",
       "      <td>40</td>\n",
       "      <td>graphite_gray</td>\n",
       "      <td>regular_fit</td>\n",
       "      <td>NaN</td>\n",
       "      <td>NaN</td>\n",
       "      <td>98</td>\n",
       "      <td>0</td>\n",
       "      <td>2</td>\n",
       "    </tr>\n",
       "    <tr>\n",
       "      <th>4</th>\n",
       "      <td>811993040</td>\n",
       "      <td>men_jeans_regular</td>\n",
       "      <td>regular_jeans</td>\n",
       "      <td>29.99</td>\n",
       "      <td>2022-02-05 11:58:59</td>\n",
       "      <td>811993</td>\n",
       "      <td>40</td>\n",
       "      <td>light_denim_blue</td>\n",
       "      <td>regular_fit</td>\n",
       "      <td>NaN</td>\n",
       "      <td>NaN</td>\n",
       "      <td>98</td>\n",
       "      <td>0</td>\n",
       "      <td>2</td>\n",
       "    </tr>\n",
       "  </tbody>\n",
       "</table>\n",
       "</div>"
      ],
      "text/plain": [
       "   product_id   product_category   product_name  product_price  \\\n",
       "0   811993040  men_jeans_regular  regular_jeans          29.99   \n",
       "1   811993040  men_jeans_regular  regular_jeans          29.99   \n",
       "2   811993040  men_jeans_regular  regular_jeans          29.99   \n",
       "3   811993040  men_jeans_regular  regular_jeans          29.99   \n",
       "4   811993040  men_jeans_regular  regular_jeans          29.99   \n",
       "\n",
       "       scrapy_datetime  style_id  color_id        color_name          fit  \\\n",
       "0  2022-02-05 11:58:59    811993        40  black/washed_out  regular_fit   \n",
       "1  2022-02-05 11:58:59    811993        40        denim_blue  regular_fit   \n",
       "2  2022-02-05 11:58:59    811993        40   dark_denim_blue  regular_fit   \n",
       "3  2022-02-05 11:58:59    811993        40     graphite_gray  regular_fit   \n",
       "4  2022-02-05 11:58:59    811993        40  light_denim_blue  regular_fit   \n",
       "\n",
       "   size_number size_model  cotton  polyester  spandex  \n",
       "0          NaN        NaN      98          0        2  \n",
       "1          NaN        NaN      98          0        2  \n",
       "2          NaN        NaN      98          0        2  \n",
       "3          NaN        NaN      98          0        2  \n",
       "4          NaN        NaN      98          0        2  "
      ]
     },
     "execution_count": 3,
     "metadata": {},
     "output_type": "execute_result"
    }
   ],
   "source": [
    "data.head()"
   ]
  },
  {
   "cell_type": "code",
   "execution_count": 7,
   "id": "456388aa",
   "metadata": {
    "ExecuteTime": {
     "end_time": "2022-02-22T14:34:04.003492Z",
     "start_time": "2022-02-22T14:34:04.000340Z"
    }
   },
   "outputs": [],
   "source": [
    "query_showroom_schema = \"\"\"\n",
    "    CREATE TABLE vitrine(\n",
    "        product_id         INTENGER, \n",
    "        product_category   TEXT, \n",
    "        product_name       TEXT, \n",
    "        product_price      REAL,\n",
    "        scrapy_datetime    TEXT, \n",
    "        style_id           INTENGER, \n",
    "        color_id           INTENGER, \n",
    "        color_name         TEXT, \n",
    "        fit                TEXT,\n",
    "        size_number        REAL, \n",
    "        size_model         TEXT, \n",
    "        cotton             INTENGER, \n",
    "        polyester          INTENGER, \n",
    "        spandex            INTENGER\n",
    "    )\n",
    "\"\"\""
   ]
  },
  {
   "cell_type": "code",
   "execution_count": 8,
   "id": "52f3621d",
   "metadata": {
    "ExecuteTime": {
     "end_time": "2022-02-22T14:34:22.848807Z",
     "start_time": "2022-02-22T14:34:22.843281Z"
    }
   },
   "outputs": [],
   "source": [
    "# connect to database\n",
    "conn = sqlite3.connect('hm_db.sqlite')\n",
    "cursor = conn.execute(query_showroom_schema)\n",
    "conn.commit()\n",
    "conn.close()"
   ]
  },
  {
   "cell_type": "code",
   "execution_count": 16,
   "id": "06141b9e",
   "metadata": {
    "ExecuteTime": {
     "end_time": "2022-02-22T14:37:03.455642Z",
     "start_time": "2022-02-22T14:37:03.453061Z"
    }
   },
   "outputs": [],
   "source": [
    "from sqlalchemy import create_engine"
   ]
  },
  {
   "cell_type": "code",
   "execution_count": 17,
   "id": "48c044e9",
   "metadata": {
    "ExecuteTime": {
     "end_time": "2022-02-22T14:38:41.658843Z",
     "start_time": "2022-02-22T14:38:41.644149Z"
    }
   },
   "outputs": [],
   "source": [
    "conn = create_engine('sqlite:///hm_db.sqlite', echo=False)"
   ]
  },
  {
   "cell_type": "code",
   "execution_count": 18,
   "id": "a3df44a4",
   "metadata": {
    "ExecuteTime": {
     "end_time": "2022-02-22T14:38:44.066617Z",
     "start_time": "2022-02-22T14:38:44.062755Z"
    }
   },
   "outputs": [
    {
     "data": {
      "text/plain": [
       "Engine(sqlite:///hm_db.sqlite)"
      ]
     },
     "execution_count": 18,
     "metadata": {},
     "output_type": "execute_result"
    }
   ],
   "source": [
    "conn"
   ]
  },
  {
   "cell_type": "code",
   "execution_count": null,
   "id": "5188cf32",
   "metadata": {},
   "outputs": [],
   "source": []
  }
 ],
 "metadata": {
  "kernelspec": {
   "display_name": "Python 3 (ipykernel)",
   "language": "python",
   "name": "python3"
  },
  "language_info": {
   "codemirror_mode": {
    "name": "ipython",
    "version": 3
   },
   "file_extension": ".py",
   "mimetype": "text/x-python",
   "name": "python",
   "nbconvert_exporter": "python",
   "pygments_lexer": "ipython3",
   "version": "3.9.7"
  }
 },
 "nbformat": 4,
 "nbformat_minor": 5
}
