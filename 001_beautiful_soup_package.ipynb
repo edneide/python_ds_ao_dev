{
 "cells": [
  {
   "cell_type": "markdown",
   "id": "ab445048",
   "metadata": {
    "heading_collapsed": true
   },
   "source": [
    "# <span style=\"color:#3399ff\">Beautiful Soup - Exemplos</span>"
   ]
  },
  {
   "cell_type": "code",
   "execution_count": 26,
   "id": "e8aa7d87",
   "metadata": {
    "ExecuteTime": {
     "end_time": "2022-02-05T14:58:49.642071Z",
     "start_time": "2022-02-05T14:58:49.639281Z"
    },
    "hidden": true
   },
   "outputs": [],
   "source": [
    "from bs4 import BeautifulSoup\n",
    "import requests\n",
    "import pandas as pd\n",
    "from datetime import datetime \n",
    "import numpy as np"
   ]
  },
  {
   "cell_type": "code",
   "execution_count": 2,
   "id": "ae1d3cae",
   "metadata": {
    "ExecuteTime": {
     "end_time": "2022-01-29T16:15:08.955885Z",
     "start_time": "2022-01-29T16:15:08.951913Z"
    },
    "hidden": true
   },
   "outputs": [],
   "source": [
    "html_doc = \"\"\"<html><head><title>The Dormouse's story</title></head>\n",
    "<body>\n",
    "<p class=\"title\"><b>The Dormouse's story</b></p>\n",
    "\n",
    "<p class=\"story\">Once upon a time there were three little sisters; and their names were\n",
    "<a href=\"http://example.com/elsie\" class=\"sister\" id=\"link1\">Elsie</a>,\n",
    "<a href=\"http://example.com/lacie\" class=\"sister\" id=\"link2\">Lacie</a> and\n",
    "<a href=\"http://example.com/tillie\" class=\"sister\" id=\"link3\">Tillie</a>;\n",
    "and they lived at the bottom of a well.</p>\n",
    "\n",
    "<p class=\"story\">...</p>\n",
    "\"\"\""
   ]
  },
  {
   "cell_type": "code",
   "execution_count": 3,
   "id": "566e28d7",
   "metadata": {
    "ExecuteTime": {
     "end_time": "2022-01-29T16:15:09.597168Z",
     "start_time": "2022-01-29T16:15:09.593356Z"
    },
    "hidden": true
   },
   "outputs": [],
   "source": [
    "soup = BeautifulSoup(html_doc, 'html.parser')"
   ]
  },
  {
   "cell_type": "code",
   "execution_count": 4,
   "id": "e40beb83",
   "metadata": {
    "ExecuteTime": {
     "end_time": "2022-01-29T16:15:09.953290Z",
     "start_time": "2022-01-29T16:15:09.942300Z"
    },
    "hidden": true
   },
   "outputs": [
    {
     "data": {
      "text/plain": [
       "<html><head><title>The Dormouse's story</title></head>\n",
       "<body>\n",
       "<p class=\"title\"><b>The Dormouse's story</b></p>\n",
       "<p class=\"story\">Once upon a time there were three little sisters; and their names were\n",
       "<a class=\"sister\" href=\"http://example.com/elsie\" id=\"link1\">Elsie</a>,\n",
       "<a class=\"sister\" href=\"http://example.com/lacie\" id=\"link2\">Lacie</a> and\n",
       "<a class=\"sister\" href=\"http://example.com/tillie\" id=\"link3\">Tillie</a>;\n",
       "and they lived at the bottom of a well.</p>\n",
       "<p class=\"story\">...</p>\n",
       "</body></html>"
      ]
     },
     "execution_count": 4,
     "metadata": {},
     "output_type": "execute_result"
    }
   ],
   "source": [
    "soup"
   ]
  },
  {
   "cell_type": "code",
   "execution_count": 5,
   "id": "fb222f71",
   "metadata": {
    "ExecuteTime": {
     "end_time": "2022-01-29T16:15:10.169211Z",
     "start_time": "2022-01-29T16:15:10.166116Z"
    },
    "hidden": true
   },
   "outputs": [
    {
     "name": "stdout",
     "output_type": "stream",
     "text": [
      "<title>The Dormouse's story</title>\n"
     ]
    }
   ],
   "source": [
    "print(soup.title)"
   ]
  },
  {
   "cell_type": "code",
   "execution_count": 6,
   "id": "5385b118",
   "metadata": {
    "ExecuteTime": {
     "end_time": "2022-01-29T16:15:10.392970Z",
     "start_time": "2022-01-29T16:15:10.390082Z"
    },
    "hidden": true
   },
   "outputs": [
    {
     "name": "stdout",
     "output_type": "stream",
     "text": [
      "<head><title>The Dormouse's story</title></head>\n"
     ]
    }
   ],
   "source": [
    "print(soup.head)"
   ]
  },
  {
   "cell_type": "code",
   "execution_count": 7,
   "id": "3592fccf",
   "metadata": {
    "ExecuteTime": {
     "end_time": "2022-01-29T16:15:10.607043Z",
     "start_time": "2022-01-29T16:15:10.603893Z"
    },
    "hidden": true
   },
   "outputs": [
    {
     "name": "stdout",
     "output_type": "stream",
     "text": [
      "<p class=\"title\"><b>The Dormouse's story</b></p>\n"
     ]
    }
   ],
   "source": [
    "print(soup.body.p)"
   ]
  },
  {
   "cell_type": "code",
   "execution_count": 8,
   "id": "5ae7d0ac",
   "metadata": {
    "ExecuteTime": {
     "end_time": "2022-01-29T16:15:10.812311Z",
     "start_time": "2022-01-29T16:15:10.808415Z"
    },
    "hidden": true
   },
   "outputs": [
    {
     "data": {
      "text/plain": [
       "[<p class=\"title\"><b>The Dormouse's story</b></p>,\n",
       " <p class=\"story\">Once upon a time there were three little sisters; and their names were\n",
       " <a class=\"sister\" href=\"http://example.com/elsie\" id=\"link1\">Elsie</a>,\n",
       " <a class=\"sister\" href=\"http://example.com/lacie\" id=\"link2\">Lacie</a> and\n",
       " <a class=\"sister\" href=\"http://example.com/tillie\" id=\"link3\">Tillie</a>;\n",
       " and they lived at the bottom of a well.</p>,\n",
       " <p class=\"story\">...</p>]"
      ]
     },
     "execution_count": 8,
     "metadata": {},
     "output_type": "execute_result"
    }
   ],
   "source": [
    "soup.find_all('p')"
   ]
  },
  {
   "cell_type": "code",
   "execution_count": 9,
   "id": "61367b18",
   "metadata": {
    "ExecuteTime": {
     "end_time": "2022-01-29T16:15:11.003475Z",
     "start_time": "2022-01-29T16:15:10.999469Z"
    },
    "hidden": true
   },
   "outputs": [
    {
     "data": {
      "text/plain": [
       "[<p class=\"title\"><b>The Dormouse's story</b></p>]"
      ]
     },
     "execution_count": 9,
     "metadata": {},
     "output_type": "execute_result"
    }
   ],
   "source": [
    "soup.find_all('p', 'title')"
   ]
  },
  {
   "cell_type": "code",
   "execution_count": 10,
   "id": "8cc5e5ef",
   "metadata": {
    "ExecuteTime": {
     "end_time": "2022-01-29T16:15:11.159477Z",
     "start_time": "2022-01-29T16:15:11.155315Z"
    },
    "hidden": true
   },
   "outputs": [
    {
     "data": {
      "text/plain": [
       "[<p class=\"story\">Once upon a time there were three little sisters; and their names were\n",
       " <a class=\"sister\" href=\"http://example.com/elsie\" id=\"link1\">Elsie</a>,\n",
       " <a class=\"sister\" href=\"http://example.com/lacie\" id=\"link2\">Lacie</a> and\n",
       " <a class=\"sister\" href=\"http://example.com/tillie\" id=\"link3\">Tillie</a>;\n",
       " and they lived at the bottom of a well.</p>,\n",
       " <p class=\"story\">...</p>]"
      ]
     },
     "execution_count": 10,
     "metadata": {},
     "output_type": "execute_result"
    }
   ],
   "source": [
    "soup.find_all('p', class_='story')"
   ]
  },
  {
   "cell_type": "code",
   "execution_count": 11,
   "id": "7dcb4b6e",
   "metadata": {
    "ExecuteTime": {
     "end_time": "2022-01-29T16:15:11.320177Z",
     "start_time": "2022-01-29T16:15:11.315889Z"
    },
    "hidden": true
   },
   "outputs": [
    {
     "data": {
      "text/plain": [
       "[<a class=\"sister\" href=\"http://example.com/elsie\" id=\"link1\">Elsie</a>,\n",
       " <a class=\"sister\" href=\"http://example.com/lacie\" id=\"link2\">Lacie</a>,\n",
       " <a class=\"sister\" href=\"http://example.com/tillie\" id=\"link3\">Tillie</a>]"
      ]
     },
     "execution_count": 11,
     "metadata": {},
     "output_type": "execute_result"
    }
   ],
   "source": [
    "soup.find_all('a', class_='sister')"
   ]
  },
  {
   "cell_type": "code",
   "execution_count": 12,
   "id": "033ed871",
   "metadata": {
    "ExecuteTime": {
     "end_time": "2022-01-29T16:15:11.503096Z",
     "start_time": "2022-01-29T16:15:11.498891Z"
    },
    "hidden": true
   },
   "outputs": [
    {
     "data": {
      "text/plain": [
       "[<a class=\"sister\" href=\"http://example.com/elsie\" id=\"link1\">Elsie</a>]"
      ]
     },
     "execution_count": 12,
     "metadata": {},
     "output_type": "execute_result"
    }
   ],
   "source": [
    "soup.find_all('a', id='link1')"
   ]
  },
  {
   "cell_type": "code",
   "execution_count": 13,
   "id": "c44453f2",
   "metadata": {
    "ExecuteTime": {
     "end_time": "2022-01-29T16:15:11.669636Z",
     "start_time": "2022-01-29T16:15:11.665864Z"
    },
    "hidden": true
   },
   "outputs": [
    {
     "data": {
      "text/plain": [
       "'Elsie'"
      ]
     },
     "execution_count": 13,
     "metadata": {},
     "output_type": "execute_result"
    }
   ],
   "source": [
    "soup.find_all('a', id='link1')[0].string"
   ]
  },
  {
   "cell_type": "code",
   "execution_count": 14,
   "id": "101c3276",
   "metadata": {
    "ExecuteTime": {
     "end_time": "2022-01-29T16:15:11.835383Z",
     "start_time": "2022-01-29T16:15:11.831522Z"
    },
    "hidden": true
   },
   "outputs": [
    {
     "data": {
      "text/plain": [
       "'Elsie'"
      ]
     },
     "execution_count": 14,
     "metadata": {},
     "output_type": "execute_result"
    }
   ],
   "source": [
    "soup.find_all('a', id='link1')[0].get_text()"
   ]
  },
  {
   "cell_type": "markdown",
   "id": "eaa7d94a",
   "metadata": {},
   "source": [
    "# <span style=\"color:#3399ff\">Beautiful Soup - Prática I</span>"
   ]
  },
  {
   "cell_type": "code",
   "execution_count": 10,
   "id": "d0b8b9cd",
   "metadata": {
    "ExecuteTime": {
     "end_time": "2022-02-05T14:58:13.767175Z",
     "start_time": "2022-02-05T14:58:13.764782Z"
    }
   },
   "outputs": [],
   "source": [
    "# id\n",
    "# product_name\n",
    "# product_type\n",
    "# product_composition\n",
    "# preco"
   ]
  },
  {
   "cell_type": "code",
   "execution_count": 11,
   "id": "5e466fe7",
   "metadata": {
    "ExecuteTime": {
     "end_time": "2022-02-05T14:58:15.456845Z",
     "start_time": "2022-02-05T14:58:14.280882Z"
    }
   },
   "outputs": [],
   "source": [
    "url = 'https://www2.hm.com/en_us/men/products/jeans.html'\n",
    "\n",
    "headers = {'User-Agent': 'Mozilla/5.0 (Macintosh; Intel Mac OS X 10_11_5) AppleWebKit/537.36 (KHTML, like Gecko) Chrome/50.0.2661.102 Safari/537.36'}\n",
    "page = requests.get(url, headers=headers)"
   ]
  },
  {
   "cell_type": "code",
   "execution_count": 27,
   "id": "a92bbfe6",
   "metadata": {
    "ExecuteTime": {
     "end_time": "2022-02-05T14:58:55.493240Z",
     "start_time": "2022-02-05T14:58:55.320074Z"
    }
   },
   "outputs": [],
   "source": [
    "soup = BeautifulSoup(page.text, 'html.parser')"
   ]
  },
  {
   "cell_type": "code",
   "execution_count": 28,
   "id": "6236c76c",
   "metadata": {
    "ExecuteTime": {
     "end_time": "2022-02-05T14:58:55.632234Z",
     "start_time": "2022-02-05T14:58:55.623222Z"
    }
   },
   "outputs": [],
   "source": [
    "products = soup.find('ul', class_='products-listing small')"
   ]
  },
  {
   "cell_type": "code",
   "execution_count": 29,
   "id": "a89bdae3",
   "metadata": {
    "ExecuteTime": {
     "end_time": "2022-02-05T14:58:55.922734Z",
     "start_time": "2022-02-05T14:58:55.918027Z"
    }
   },
   "outputs": [],
   "source": [
    "product_list = products.find_all('article', class_='hm-product-item')"
   ]
  },
  {
   "cell_type": "code",
   "execution_count": 30,
   "id": "1d3f0d41",
   "metadata": {
    "ExecuteTime": {
     "end_time": "2022-02-05T14:58:56.283012Z",
     "start_time": "2022-02-05T14:58:56.278449Z"
    }
   },
   "outputs": [
    {
     "data": {
      "text/plain": [
       "36"
      ]
     },
     "execution_count": 30,
     "metadata": {},
     "output_type": "execute_result"
    }
   ],
   "source": [
    "len(product_list)"
   ]
  },
  {
   "cell_type": "code",
   "execution_count": 31,
   "id": "13c07f27",
   "metadata": {
    "ExecuteTime": {
     "end_time": "2022-02-05T14:58:57.286305Z",
     "start_time": "2022-02-05T14:58:57.276874Z"
    }
   },
   "outputs": [],
   "source": [
    "# product_id\n",
    "product_id = [p.get('data-articlecode') for p in product_list]\n",
    "\n",
    "# product_category\n",
    "product_category = [p.get('data-category') for p in product_list]\n",
    "\n",
    "# product_name\n",
    "product_list = products.find_all('a', class_='link')\n",
    "product_name = [p.get_text() for p in product_list] \n",
    "\n",
    "# product_price\n",
    "product_list = products.find_all('span', class_='price regular')\n",
    "product_price = [p.get_text() for p in product_list]\n"
   ]
  },
  {
   "cell_type": "code",
   "execution_count": 32,
   "id": "3c2aff7a",
   "metadata": {
    "ExecuteTime": {
     "end_time": "2022-02-05T14:58:58.896097Z",
     "start_time": "2022-02-05T14:58:58.885797Z"
    }
   },
   "outputs": [
    {
     "data": {
      "text/html": [
       "<div>\n",
       "<style scoped>\n",
       "    .dataframe tbody tr th:only-of-type {\n",
       "        vertical-align: middle;\n",
       "    }\n",
       "\n",
       "    .dataframe tbody tr th {\n",
       "        vertical-align: top;\n",
       "    }\n",
       "\n",
       "    .dataframe thead th {\n",
       "        text-align: right;\n",
       "    }\n",
       "</style>\n",
       "<table border=\"1\" class=\"dataframe\">\n",
       "  <thead>\n",
       "    <tr style=\"text-align: right;\">\n",
       "      <th></th>\n",
       "      <th>product_id</th>\n",
       "      <th>product_category</th>\n",
       "      <th>product_name</th>\n",
       "      <th>product_price</th>\n",
       "    </tr>\n",
       "  </thead>\n",
       "  <tbody>\n",
       "    <tr>\n",
       "      <th>0</th>\n",
       "      <td>0979945001</td>\n",
       "      <td>men_jeans_loose</td>\n",
       "      <td>Loose Jeans</td>\n",
       "      <td>$ 29.99</td>\n",
       "    </tr>\n",
       "    <tr>\n",
       "      <th>1</th>\n",
       "      <td>1008549001</td>\n",
       "      <td>men_jeans_regular</td>\n",
       "      <td>Regular Jeans</td>\n",
       "      <td>$ 19.99</td>\n",
       "    </tr>\n",
       "    <tr>\n",
       "      <th>2</th>\n",
       "      <td>0811993040</td>\n",
       "      <td>men_jeans_regular</td>\n",
       "      <td>Regular Jeans</td>\n",
       "      <td>$ 29.99</td>\n",
       "    </tr>\n",
       "    <tr>\n",
       "      <th>3</th>\n",
       "      <td>0979945002</td>\n",
       "      <td>men_jeans_loose</td>\n",
       "      <td>Loose Jeans</td>\n",
       "      <td>$ 29.99</td>\n",
       "    </tr>\n",
       "    <tr>\n",
       "      <th>4</th>\n",
       "      <td>1008549004</td>\n",
       "      <td>men_jeans_regular</td>\n",
       "      <td>Regular Jeans</td>\n",
       "      <td>$ 19.99</td>\n",
       "    </tr>\n",
       "  </tbody>\n",
       "</table>\n",
       "</div>"
      ],
      "text/plain": [
       "   product_id   product_category   product_name product_price\n",
       "0  0979945001    men_jeans_loose    Loose Jeans       $ 29.99\n",
       "1  1008549001  men_jeans_regular  Regular Jeans       $ 19.99\n",
       "2  0811993040  men_jeans_regular  Regular Jeans       $ 29.99\n",
       "3  0979945002    men_jeans_loose    Loose Jeans       $ 29.99\n",
       "4  1008549004  men_jeans_regular  Regular Jeans       $ 19.99"
      ]
     },
     "execution_count": 32,
     "metadata": {},
     "output_type": "execute_result"
    }
   ],
   "source": [
    "data = pd.DataFrame([product_id , product_category, product_name, product_price]).T\n",
    "data.columns = ['product_id' , 'product_category', 'product_name', 'product_price']\n",
    "data.head()"
   ]
  },
  {
   "cell_type": "code",
   "execution_count": 33,
   "id": "8371e161",
   "metadata": {
    "ExecuteTime": {
     "end_time": "2022-02-05T14:58:59.676387Z",
     "start_time": "2022-02-05T14:58:59.673259Z"
    }
   },
   "outputs": [],
   "source": [
    "# scrapy datetime\n",
    "data['scrapy_datetime'] = datetime.now().strftime('%Y-%m-%d %H:%M:%S')"
   ]
  },
  {
   "cell_type": "code",
   "execution_count": 34,
   "id": "c5ad2dcb",
   "metadata": {
    "ExecuteTime": {
     "end_time": "2022-02-05T14:59:00.661276Z",
     "start_time": "2022-02-05T14:59:00.652803Z"
    }
   },
   "outputs": [
    {
     "data": {
      "text/html": [
       "<div>\n",
       "<style scoped>\n",
       "    .dataframe tbody tr th:only-of-type {\n",
       "        vertical-align: middle;\n",
       "    }\n",
       "\n",
       "    .dataframe tbody tr th {\n",
       "        vertical-align: top;\n",
       "    }\n",
       "\n",
       "    .dataframe thead th {\n",
       "        text-align: right;\n",
       "    }\n",
       "</style>\n",
       "<table border=\"1\" class=\"dataframe\">\n",
       "  <thead>\n",
       "    <tr style=\"text-align: right;\">\n",
       "      <th></th>\n",
       "      <th>product_id</th>\n",
       "      <th>product_category</th>\n",
       "      <th>product_name</th>\n",
       "      <th>product_price</th>\n",
       "      <th>scrapy_datetime</th>\n",
       "    </tr>\n",
       "  </thead>\n",
       "  <tbody>\n",
       "    <tr>\n",
       "      <th>0</th>\n",
       "      <td>0979945001</td>\n",
       "      <td>men_jeans_loose</td>\n",
       "      <td>Loose Jeans</td>\n",
       "      <td>$ 29.99</td>\n",
       "      <td>2022-02-05 11:58:59</td>\n",
       "    </tr>\n",
       "    <tr>\n",
       "      <th>1</th>\n",
       "      <td>1008549001</td>\n",
       "      <td>men_jeans_regular</td>\n",
       "      <td>Regular Jeans</td>\n",
       "      <td>$ 19.99</td>\n",
       "      <td>2022-02-05 11:58:59</td>\n",
       "    </tr>\n",
       "    <tr>\n",
       "      <th>2</th>\n",
       "      <td>0811993040</td>\n",
       "      <td>men_jeans_regular</td>\n",
       "      <td>Regular Jeans</td>\n",
       "      <td>$ 29.99</td>\n",
       "      <td>2022-02-05 11:58:59</td>\n",
       "    </tr>\n",
       "    <tr>\n",
       "      <th>3</th>\n",
       "      <td>0979945002</td>\n",
       "      <td>men_jeans_loose</td>\n",
       "      <td>Loose Jeans</td>\n",
       "      <td>$ 29.99</td>\n",
       "      <td>2022-02-05 11:58:59</td>\n",
       "    </tr>\n",
       "    <tr>\n",
       "      <th>4</th>\n",
       "      <td>1008549004</td>\n",
       "      <td>men_jeans_regular</td>\n",
       "      <td>Regular Jeans</td>\n",
       "      <td>$ 19.99</td>\n",
       "      <td>2022-02-05 11:58:59</td>\n",
       "    </tr>\n",
       "  </tbody>\n",
       "</table>\n",
       "</div>"
      ],
      "text/plain": [
       "   product_id   product_category   product_name product_price  \\\n",
       "0  0979945001    men_jeans_loose    Loose Jeans       $ 29.99   \n",
       "1  1008549001  men_jeans_regular  Regular Jeans       $ 19.99   \n",
       "2  0811993040  men_jeans_regular  Regular Jeans       $ 29.99   \n",
       "3  0979945002    men_jeans_loose    Loose Jeans       $ 29.99   \n",
       "4  1008549004  men_jeans_regular  Regular Jeans       $ 19.99   \n",
       "\n",
       "       scrapy_datetime  \n",
       "0  2022-02-05 11:58:59  \n",
       "1  2022-02-05 11:58:59  \n",
       "2  2022-02-05 11:58:59  \n",
       "3  2022-02-05 11:58:59  \n",
       "4  2022-02-05 11:58:59  "
      ]
     },
     "execution_count": 34,
     "metadata": {},
     "output_type": "execute_result"
    }
   ],
   "source": [
    "data.head()"
   ]
  },
  {
   "cell_type": "markdown",
   "id": "5e238dcc",
   "metadata": {},
   "source": [
    "# <span style=\"color:#3399ff\">Beautiful Soup - Prática II</span>"
   ]
  },
  {
   "cell_type": "markdown",
   "id": "2d021627",
   "metadata": {},
   "source": [
    "- Sempre olhar a paginação na vitrine de produtos."
   ]
  },
  {
   "cell_type": "code",
   "execution_count": 35,
   "id": "4c67492c",
   "metadata": {
    "ExecuteTime": {
     "end_time": "2022-02-05T14:59:05.098617Z",
     "start_time": "2022-02-05T14:59:04.398743Z"
    }
   },
   "outputs": [],
   "source": [
    "url = 'https://www2.hm.com/en_us/men/products/jeans.html'\n",
    "headers = {'User-Agent': 'Mozilla/5.0 (Macintosh; Intel Mac OS X 10_11_5) AppleWebKit/537.36 (KHTML, like Gecko) Chrome/50.0.2661.102 Safari/537.36'}\n",
    "page = requests.get(url, headers=headers)"
   ]
  },
  {
   "cell_type": "code",
   "execution_count": 36,
   "id": "3c97e8f6",
   "metadata": {
    "ExecuteTime": {
     "end_time": "2022-02-05T14:59:05.280256Z",
     "start_time": "2022-02-05T14:59:05.100936Z"
    }
   },
   "outputs": [],
   "source": [
    "soup = BeautifulSoup(page.text, 'html.parser')"
   ]
  },
  {
   "cell_type": "code",
   "execution_count": 37,
   "id": "280b92d6",
   "metadata": {
    "ExecuteTime": {
     "end_time": "2022-02-05T14:59:05.291291Z",
     "start_time": "2022-02-05T14:59:05.281970Z"
    }
   },
   "outputs": [],
   "source": [
    "total_item = soup.find_all('h2', class_='load-more-heading')[0].get('data-total')"
   ]
  },
  {
   "cell_type": "code",
   "execution_count": 38,
   "id": "4a7e270c",
   "metadata": {
    "ExecuteTime": {
     "end_time": "2022-02-05T14:59:05.458789Z",
     "start_time": "2022-02-05T14:59:05.455449Z"
    }
   },
   "outputs": [
    {
     "data": {
      "text/plain": [
       "'67'"
      ]
     },
     "execution_count": 38,
     "metadata": {},
     "output_type": "execute_result"
    }
   ],
   "source": [
    "total_item"
   ]
  },
  {
   "cell_type": "code",
   "execution_count": 39,
   "id": "f0e16839",
   "metadata": {
    "ExecuteTime": {
     "end_time": "2022-02-05T14:59:06.719650Z",
     "start_time": "2022-02-05T14:59:06.715838Z"
    }
   },
   "outputs": [
    {
     "data": {
      "text/plain": [
       "67"
      ]
     },
     "execution_count": 39,
     "metadata": {},
     "output_type": "execute_result"
    }
   ],
   "source": [
    "int(total_item)"
   ]
  },
  {
   "cell_type": "markdown",
   "id": "2f2600c1",
   "metadata": {},
   "source": [
    "- De quantas páginas preciso para capturar todos os itens?"
   ]
  },
  {
   "cell_type": "code",
   "execution_count": 40,
   "id": "a3a49162",
   "metadata": {
    "ExecuteTime": {
     "end_time": "2022-02-05T14:59:08.473939Z",
     "start_time": "2022-02-05T14:59:08.470118Z"
    }
   },
   "outputs": [
    {
     "data": {
      "text/plain": [
       "2.0"
      ]
     },
     "execution_count": 40,
     "metadata": {},
     "output_type": "execute_result"
    }
   ],
   "source": [
    "page_number = np.round(int(total_item)/36)\n",
    "page_number"
   ]
  },
  {
   "cell_type": "code",
   "execution_count": 41,
   "id": "75907b2b",
   "metadata": {
    "ExecuteTime": {
     "end_time": "2022-02-05T14:59:11.027939Z",
     "start_time": "2022-02-05T14:59:11.024008Z"
    }
   },
   "outputs": [
    {
     "data": {
      "text/plain": [
       "'https://www2.hm.com/en_us/men/products/jeans.html?page-size=72'"
      ]
     },
     "execution_count": 41,
     "metadata": {},
     "output_type": "execute_result"
    }
   ],
   "source": [
    "url02 = url + '?page-size=' + str(int(page_number*36))\n",
    "url02"
   ]
  },
  {
   "cell_type": "markdown",
   "id": "35dfce0d",
   "metadata": {},
   "source": [
    "# <span style=\"color:#3399ff\">Beautiful Soup - Prática III</span>"
   ]
  },
  {
   "cell_type": "markdown",
   "id": "83201ea0",
   "metadata": {},
   "source": [
    "- Aqui, vamos coletar as informações para cada produto."
   ]
  },
  {
   "cell_type": "markdown",
   "id": "7c184d3e",
   "metadata": {},
   "source": [
    "- Fazendo para um produto para testar:"
   ]
  },
  {
   "cell_type": "code",
   "execution_count": 42,
   "id": "5ad9215d",
   "metadata": {
    "ExecuteTime": {
     "end_time": "2022-02-05T14:59:15.769866Z",
     "start_time": "2022-02-05T14:59:15.075018Z"
    }
   },
   "outputs": [],
   "source": [
    "url = 'https://www2.hm.com/en_us/productpage.1024256001.html'\n",
    "    \n",
    "headers = {'User-Agent': 'Mozilla/5.0 (Macintosh; Intel Mac OS X 10_11_5) AppleWebKit/537.36 (KHTML, like Gecko) Chrome/50.0.2661.102 Safari/537.36'}\n",
    "page = requests.get(url, headers=headers)"
   ]
  },
  {
   "cell_type": "code",
   "execution_count": 43,
   "id": "f8658620",
   "metadata": {
    "ExecuteTime": {
     "end_time": "2022-02-05T14:59:15.866124Z",
     "start_time": "2022-02-05T14:59:15.771983Z"
    }
   },
   "outputs": [],
   "source": [
    "soup = BeautifulSoup(page.text, 'html.parser')"
   ]
  },
  {
   "cell_type": "code",
   "execution_count": 44,
   "id": "3f8039d2",
   "metadata": {
    "ExecuteTime": {
     "end_time": "2022-02-05T14:59:16.238569Z",
     "start_time": "2022-02-05T14:59:16.233906Z"
    }
   },
   "outputs": [
    {
     "data": {
      "text/plain": [
       "bs4.BeautifulSoup"
      ]
     },
     "execution_count": 44,
     "metadata": {},
     "output_type": "execute_result"
    }
   ],
   "source": [
    "type(soup)"
   ]
  },
  {
   "cell_type": "code",
   "execution_count": 45,
   "id": "66592c50",
   "metadata": {
    "ExecuteTime": {
     "end_time": "2022-02-05T14:59:16.640409Z",
     "start_time": "2022-02-05T14:59:16.628831Z"
    }
   },
   "outputs": [
    {
     "data": {
      "text/plain": [
       "'Light denim blue'"
      ]
     },
     "execution_count": 45,
     "metadata": {},
     "output_type": "execute_result"
    }
   ],
   "source": [
    "# color name - primeira posição\n",
    "soup.find_all('a', class_='filter-option miniature')[0].get('data-color')"
   ]
  },
  {
   "cell_type": "code",
   "execution_count": 46,
   "id": "17eba038",
   "metadata": {
    "ExecuteTime": {
     "end_time": "2022-02-05T14:59:17.160223Z",
     "start_time": "2022-02-05T14:59:17.143926Z"
    }
   },
   "outputs": [
    {
     "data": {
      "text/html": [
       "<div>\n",
       "<style scoped>\n",
       "    .dataframe tbody tr th:only-of-type {\n",
       "        vertical-align: middle;\n",
       "    }\n",
       "\n",
       "    .dataframe tbody tr th {\n",
       "        vertical-align: top;\n",
       "    }\n",
       "\n",
       "    .dataframe thead th {\n",
       "        text-align: right;\n",
       "    }\n",
       "</style>\n",
       "<table border=\"1\" class=\"dataframe\">\n",
       "  <thead>\n",
       "    <tr style=\"text-align: right;\">\n",
       "      <th></th>\n",
       "      <th>product_id</th>\n",
       "      <th>color_name</th>\n",
       "    </tr>\n",
       "  </thead>\n",
       "  <tbody>\n",
       "    <tr>\n",
       "      <th>0</th>\n",
       "      <td>1024256002</td>\n",
       "      <td>Light denim blue</td>\n",
       "    </tr>\n",
       "    <tr>\n",
       "      <th>1</th>\n",
       "      <td>1024256003</td>\n",
       "      <td>Light denim blue</td>\n",
       "    </tr>\n",
       "    <tr>\n",
       "      <th>2</th>\n",
       "      <td>1024256004</td>\n",
       "      <td>Denim blue</td>\n",
       "    </tr>\n",
       "    <tr>\n",
       "      <th>3</th>\n",
       "      <td>1024256005</td>\n",
       "      <td>Dark blue</td>\n",
       "    </tr>\n",
       "    <tr>\n",
       "      <th>4</th>\n",
       "      <td>1024256006</td>\n",
       "      <td>Dark denim blue</td>\n",
       "    </tr>\n",
       "    <tr>\n",
       "      <th>5</th>\n",
       "      <td>1024256007</td>\n",
       "      <td>Dark gray</td>\n",
       "    </tr>\n",
       "  </tbody>\n",
       "</table>\n",
       "</div>"
      ],
      "text/plain": [
       "   product_id        color_name\n",
       "0  1024256002  Light denim blue\n",
       "1  1024256003  Light denim blue\n",
       "2  1024256004        Denim blue\n",
       "3  1024256005         Dark blue\n",
       "4  1024256006   Dark denim blue\n",
       "5  1024256007         Dark gray"
      ]
     },
     "execution_count": 46,
     "metadata": {},
     "output_type": "execute_result"
    }
   ],
   "source": [
    "# color name\n",
    "product_color_list = soup.find_all('a', class_='filter-option miniature')\n",
    "color_name = [p.get('data-color') for p in product_color_list]\n",
    "\n",
    "# product_id\n",
    "product_id = [p.get('data-articlecode') for p in product_color_list]\n",
    "\n",
    "df_color = pd.DataFrame([product_id, color_name]).T\n",
    "df_color.columns = ['product_id', 'color_name']\n",
    "df_color"
   ]
  },
  {
   "cell_type": "code",
   "execution_count": 47,
   "id": "4a53c5e3",
   "metadata": {
    "ExecuteTime": {
     "end_time": "2022-02-05T14:59:18.138574Z",
     "start_time": "2022-02-05T14:59:18.134071Z"
    }
   },
   "outputs": [
    {
     "data": {
      "text/plain": [
       "<a aria-checked=\"false\" class=\"filter-option miniature\" data-articlecode=\"1024256002\" data-color=\"Light denim blue\" data-sizes=\"\" href=\"/en_us/productpage.1024256002.html\" id=\"filter-colour-1024256002\" role=\"radio\" title=\"Light denim blue\">\n",
       "<noscript data-alt=\"Light denim blue\" data-src=\"//lp2.hm.com/hmgoepprod?set=quality%5B79%5D%2Csource%5B%2Fda%2Fba%2Fdabaf3f73477f46b068e2e02033aa0222206ef7f.jpg%5D%2Corigin%5Bdam%5D%2Ccategory%5B%5D%2Ctype%5BDESCRIPTIVESTILLLIFE%5D%2Cres%5Bm%5D%2Chmver%5B2%5D&amp;call=url[file:/product/miniature]\">\n",
       "<img alt=\"Light denim blue\" src=\"//lp2.hm.com/hmgoepprod?set=quality%5B79%5D%2Csource%5B%2Fda%2Fba%2Fdabaf3f73477f46b068e2e02033aa0222206ef7f.jpg%5D%2Corigin%5Bdam%5D%2Ccategory%5B%5D%2Ctype%5BDESCRIPTIVESTILLLIFE%5D%2Cres%5Bm%5D%2Chmver%5B2%5D&amp;call=url[file:/product/miniature]\"/>\n",
       "</noscript>\n",
       "<span></span>\n",
       "</a>"
      ]
     },
     "execution_count": 47,
     "metadata": {},
     "output_type": "execute_result"
    }
   ],
   "source": [
    "product_color_list[0]"
   ]
  },
  {
   "cell_type": "code",
   "execution_count": 48,
   "id": "43258381",
   "metadata": {
    "ExecuteTime": {
     "end_time": "2022-02-05T14:59:20.061187Z",
     "start_time": "2022-02-05T14:59:20.057124Z"
    }
   },
   "outputs": [
    {
     "data": {
      "text/plain": [
       "['Light denim blue',\n",
       " 'Light denim blue',\n",
       " 'Denim blue',\n",
       " 'Dark blue',\n",
       " 'Dark denim blue',\n",
       " 'Dark gray']"
      ]
     },
     "execution_count": 48,
     "metadata": {},
     "output_type": "execute_result"
    }
   ],
   "source": [
    "color_name"
   ]
  },
  {
   "cell_type": "code",
   "execution_count": 49,
   "id": "74b24ff4",
   "metadata": {
    "ExecuteTime": {
     "end_time": "2022-02-05T14:59:20.511383Z",
     "start_time": "2022-02-05T14:59:20.507432Z"
    }
   },
   "outputs": [
    {
     "data": {
      "text/plain": [
       "['1024256002',\n",
       " '1024256003',\n",
       " '1024256004',\n",
       " '1024256005',\n",
       " '1024256006',\n",
       " '1024256007']"
      ]
     },
     "execution_count": 49,
     "metadata": {},
     "output_type": "execute_result"
    }
   ],
   "source": [
    "product_id"
   ]
  },
  {
   "cell_type": "code",
   "execution_count": 50,
   "id": "3f501423",
   "metadata": {
    "ExecuteTime": {
     "end_time": "2022-02-05T14:59:21.271382Z",
     "start_time": "2022-02-05T14:59:21.261004Z"
    }
   },
   "outputs": [
    {
     "data": {
      "text/plain": [
       "[<div class=\"pdp-description-list-item\">\n",
       " <dt>Size</dt>\n",
       " <dd>The model is 185cm/6'1\" and wears a size 31/32</dd>\n",
       " </div>,\n",
       " <div class=\"pdp-description-list-item\">\n",
       " <dt>Fit</dt>\n",
       " <dd>\n",
       " <ul>\n",
       " <li>Slim fit</li>\n",
       " </ul>\n",
       " </dd>\n",
       " </div>,\n",
       " <div class=\"pdp-description-list-item\">\n",
       " <dt>Composition</dt>\n",
       " <dd>\n",
       " <ul>\n",
       " <li>Pocket lining: Polyester 65%, Cotton 35%</li>\n",
       " <li>Shell: Cotton 99%, Spandex 1%</li>\n",
       " </ul>\n",
       " </dd>\n",
       " </div>,\n",
       " <div class=\"pdp-description-list-item\">\n",
       " <dt>Art. No.</dt>\n",
       " <dd>1024256001</dd>\n",
       " </div>]"
      ]
     },
     "execution_count": 50,
     "metadata": {},
     "output_type": "execute_result"
    }
   ],
   "source": [
    "# composition\n",
    "soup.find_all('div', class_='pdp-description-list-item')"
   ]
  },
  {
   "cell_type": "code",
   "execution_count": 51,
   "id": "5fe500a8",
   "metadata": {
    "ExecuteTime": {
     "end_time": "2022-02-05T14:59:22.014121Z",
     "start_time": "2022-02-05T14:59:22.004275Z"
    }
   },
   "outputs": [
    {
     "data": {
      "text/plain": [
       "bs4.element.Tag"
      ]
     },
     "execution_count": 51,
     "metadata": {},
     "output_type": "execute_result"
    }
   ],
   "source": [
    "type(soup.find_all('div', class_='pdp-description-list-item')[1])"
   ]
  },
  {
   "cell_type": "code",
   "execution_count": 52,
   "id": "b99346b7",
   "metadata": {
    "ExecuteTime": {
     "end_time": "2022-02-05T14:59:22.733482Z",
     "start_time": "2022-02-05T14:59:22.723282Z"
    }
   },
   "outputs": [
    {
     "data": {
      "text/plain": [
       "['', 'Fit', '', '', 'Slim fit', '', '', '']"
      ]
     },
     "execution_count": 52,
     "metadata": {},
     "output_type": "execute_result"
    }
   ],
   "source": [
    "soup.find_all('div', class_='pdp-description-list-item')[1].get_text().split('\\n')"
   ]
  },
  {
   "cell_type": "markdown",
   "id": "796ef4af",
   "metadata": {},
   "source": [
    "- **Retirando essas posições vazias:**"
   ]
  },
  {
   "cell_type": "code",
   "execution_count": 53,
   "id": "5ae5f168",
   "metadata": {
    "ExecuteTime": {
     "end_time": "2022-02-05T14:59:23.847926Z",
     "start_time": "2022-02-05T14:59:23.837508Z"
    }
   },
   "outputs": [
    {
     "data": {
      "text/plain": [
       "['Fit', 'Slim fit']"
      ]
     },
     "execution_count": 53,
     "metadata": {},
     "output_type": "execute_result"
    }
   ],
   "source": [
    "list(filter(None, soup.find_all('div', class_='pdp-description-list-item')[1].get_text().split('\\n')))"
   ]
  },
  {
   "cell_type": "markdown",
   "id": "3df9ca16",
   "metadata": {},
   "source": [
    "- **Construindo linha e coluna:**"
   ]
  },
  {
   "cell_type": "code",
   "execution_count": 54,
   "id": "57094f6e",
   "metadata": {
    "ExecuteTime": {
     "end_time": "2022-02-05T14:59:25.022397Z",
     "start_time": "2022-02-05T14:59:25.006947Z"
    }
   },
   "outputs": [
    {
     "data": {
      "text/html": [
       "<div>\n",
       "<style scoped>\n",
       "    .dataframe tbody tr th:only-of-type {\n",
       "        vertical-align: middle;\n",
       "    }\n",
       "\n",
       "    .dataframe tbody tr th {\n",
       "        vertical-align: top;\n",
       "    }\n",
       "\n",
       "    .dataframe thead th {\n",
       "        text-align: right;\n",
       "    }\n",
       "</style>\n",
       "<table border=\"1\" class=\"dataframe\">\n",
       "  <thead>\n",
       "    <tr style=\"text-align: right;\">\n",
       "      <th></th>\n",
       "      <th>0</th>\n",
       "      <th>1</th>\n",
       "      <th>2</th>\n",
       "      <th>3</th>\n",
       "    </tr>\n",
       "  </thead>\n",
       "  <tbody>\n",
       "    <tr>\n",
       "      <th>0</th>\n",
       "      <td>Size</td>\n",
       "      <td>Fit</td>\n",
       "      <td>Composition</td>\n",
       "      <td>Art. No.</td>\n",
       "    </tr>\n",
       "    <tr>\n",
       "      <th>1</th>\n",
       "      <td>The model is 185cm/6'1\" and wears a size 31/32</td>\n",
       "      <td>Slim fit</td>\n",
       "      <td>Pocket lining: Polyester 65%, Cotton 35%</td>\n",
       "      <td>1024256001</td>\n",
       "    </tr>\n",
       "    <tr>\n",
       "      <th>2</th>\n",
       "      <td>None</td>\n",
       "      <td>None</td>\n",
       "      <td>Shell: Cotton 99%, Spandex 1%</td>\n",
       "      <td>None</td>\n",
       "    </tr>\n",
       "  </tbody>\n",
       "</table>\n",
       "</div>"
      ],
      "text/plain": [
       "                                                0         1  \\\n",
       "0                                            Size       Fit   \n",
       "1  The model is 185cm/6'1\" and wears a size 31/32  Slim fit   \n",
       "2                                            None      None   \n",
       "\n",
       "                                          2           3  \n",
       "0                               Composition    Art. No.  \n",
       "1  Pocket lining: Polyester 65%, Cotton 35%  1024256001  \n",
       "2             Shell: Cotton 99%, Spandex 1%        None  "
      ]
     },
     "execution_count": 54,
     "metadata": {},
     "output_type": "execute_result"
    }
   ],
   "source": [
    "product_composition_list = soup.find_all('div', class_='pdp-description-list-item')\n",
    "product_composition = [list(filter(None, p.get_text().split('\\n'))) for p in product_composition_list]\n",
    "df_aux = pd.DataFrame(product_composition).T\n",
    "df_aux"
   ]
  },
  {
   "cell_type": "code",
   "execution_count": 55,
   "id": "bba89ef3",
   "metadata": {
    "ExecuteTime": {
     "end_time": "2022-02-05T14:59:25.642267Z",
     "start_time": "2022-02-05T14:59:25.637710Z"
    }
   },
   "outputs": [
    {
     "data": {
      "text/plain": [
       "0           Size\n",
       "1            Fit\n",
       "2    Composition\n",
       "3       Art. No.\n",
       "Name: 0, dtype: object"
      ]
     },
     "execution_count": 55,
     "metadata": {},
     "output_type": "execute_result"
    }
   ],
   "source": [
    "df_aux.iloc[0]"
   ]
  },
  {
   "cell_type": "code",
   "execution_count": 56,
   "id": "ae5d3be5",
   "metadata": {
    "ExecuteTime": {
     "end_time": "2022-02-05T14:59:26.275100Z",
     "start_time": "2022-02-05T14:59:26.267277Z"
    }
   },
   "outputs": [
    {
     "data": {
      "text/html": [
       "<div>\n",
       "<style scoped>\n",
       "    .dataframe tbody tr th:only-of-type {\n",
       "        vertical-align: middle;\n",
       "    }\n",
       "\n",
       "    .dataframe tbody tr th {\n",
       "        vertical-align: top;\n",
       "    }\n",
       "\n",
       "    .dataframe thead th {\n",
       "        text-align: right;\n",
       "    }\n",
       "</style>\n",
       "<table border=\"1\" class=\"dataframe\">\n",
       "  <thead>\n",
       "    <tr style=\"text-align: right;\">\n",
       "      <th></th>\n",
       "      <th>Size</th>\n",
       "      <th>Fit</th>\n",
       "      <th>Composition</th>\n",
       "      <th>Art. No.</th>\n",
       "    </tr>\n",
       "  </thead>\n",
       "  <tbody>\n",
       "    <tr>\n",
       "      <th>0</th>\n",
       "      <td>Size</td>\n",
       "      <td>Fit</td>\n",
       "      <td>Composition</td>\n",
       "      <td>Art. No.</td>\n",
       "    </tr>\n",
       "    <tr>\n",
       "      <th>1</th>\n",
       "      <td>The model is 185cm/6'1\" and wears a size 31/32</td>\n",
       "      <td>Slim fit</td>\n",
       "      <td>Pocket lining: Polyester 65%, Cotton 35%</td>\n",
       "      <td>1024256001</td>\n",
       "    </tr>\n",
       "    <tr>\n",
       "      <th>2</th>\n",
       "      <td>None</td>\n",
       "      <td>None</td>\n",
       "      <td>Shell: Cotton 99%, Spandex 1%</td>\n",
       "      <td>None</td>\n",
       "    </tr>\n",
       "  </tbody>\n",
       "</table>\n",
       "</div>"
      ],
      "text/plain": [
       "0                                            Size       Fit  \\\n",
       "0                                            Size       Fit   \n",
       "1  The model is 185cm/6'1\" and wears a size 31/32  Slim fit   \n",
       "2                                            None      None   \n",
       "\n",
       "0                               Composition    Art. No.  \n",
       "0                               Composition    Art. No.  \n",
       "1  Pocket lining: Polyester 65%, Cotton 35%  1024256001  \n",
       "2             Shell: Cotton 99%, Spandex 1%        None  "
      ]
     },
     "execution_count": 56,
     "metadata": {},
     "output_type": "execute_result"
    }
   ],
   "source": [
    "# rename data frame\n",
    "df_aux.columns = df_aux.iloc[0]\n",
    "df_aux"
   ]
  },
  {
   "cell_type": "code",
   "execution_count": 57,
   "id": "62f3d65e",
   "metadata": {
    "ExecuteTime": {
     "end_time": "2022-02-05T14:59:27.260434Z",
     "start_time": "2022-02-05T14:59:27.257148Z"
    }
   },
   "outputs": [],
   "source": [
    "# # delete first row\n",
    "df_aux = df_aux.iloc[1:].copy().reset_index()\n",
    "# df_aux"
   ]
  },
  {
   "cell_type": "markdown",
   "id": "7c451d26",
   "metadata": {},
   "source": [
    "- **Substituindo o None:**"
   ]
  },
  {
   "cell_type": "code",
   "execution_count": 58,
   "id": "6177d42c",
   "metadata": {
    "ExecuteTime": {
     "end_time": "2022-02-05T14:59:30.651444Z",
     "start_time": "2022-02-05T14:59:30.643375Z"
    }
   },
   "outputs": [
    {
     "data": {
      "text/html": [
       "<div>\n",
       "<style scoped>\n",
       "    .dataframe tbody tr th:only-of-type {\n",
       "        vertical-align: middle;\n",
       "    }\n",
       "\n",
       "    .dataframe tbody tr th {\n",
       "        vertical-align: top;\n",
       "    }\n",
       "\n",
       "    .dataframe thead th {\n",
       "        text-align: right;\n",
       "    }\n",
       "</style>\n",
       "<table border=\"1\" class=\"dataframe\">\n",
       "  <thead>\n",
       "    <tr style=\"text-align: right;\">\n",
       "      <th></th>\n",
       "      <th>index</th>\n",
       "      <th>Size</th>\n",
       "      <th>Fit</th>\n",
       "      <th>Composition</th>\n",
       "      <th>Art. No.</th>\n",
       "    </tr>\n",
       "  </thead>\n",
       "  <tbody>\n",
       "    <tr>\n",
       "      <th>0</th>\n",
       "      <td>1</td>\n",
       "      <td>The model is 185cm/6'1\" and wears a size 31/32</td>\n",
       "      <td>Slim fit</td>\n",
       "      <td>Pocket lining: Polyester 65%, Cotton 35%</td>\n",
       "      <td>1024256001</td>\n",
       "    </tr>\n",
       "    <tr>\n",
       "      <th>1</th>\n",
       "      <td>2</td>\n",
       "      <td>None</td>\n",
       "      <td>None</td>\n",
       "      <td>Shell: Cotton 99%, Spandex 1%</td>\n",
       "      <td>None</td>\n",
       "    </tr>\n",
       "  </tbody>\n",
       "</table>\n",
       "</div>"
      ],
      "text/plain": [
       "0  index                                            Size       Fit  \\\n",
       "0      1  The model is 185cm/6'1\" and wears a size 31/32  Slim fit   \n",
       "1      2                                            None      None   \n",
       "\n",
       "0                               Composition    Art. No.  \n",
       "0  Pocket lining: Polyester 65%, Cotton 35%  1024256001  \n",
       "1             Shell: Cotton 99%, Spandex 1%        None  "
      ]
     },
     "execution_count": 58,
     "metadata": {},
     "output_type": "execute_result"
    }
   ],
   "source": [
    "df_aux"
   ]
  },
  {
   "cell_type": "code",
   "execution_count": 59,
   "id": "d6f15bbf",
   "metadata": {
    "ExecuteTime": {
     "end_time": "2022-02-05T14:59:31.373142Z",
     "start_time": "2022-02-05T14:59:31.364103Z"
    }
   },
   "outputs": [
    {
     "data": {
      "text/html": [
       "<div>\n",
       "<style scoped>\n",
       "    .dataframe tbody tr th:only-of-type {\n",
       "        vertical-align: middle;\n",
       "    }\n",
       "\n",
       "    .dataframe tbody tr th {\n",
       "        vertical-align: top;\n",
       "    }\n",
       "\n",
       "    .dataframe thead th {\n",
       "        text-align: right;\n",
       "    }\n",
       "</style>\n",
       "<table border=\"1\" class=\"dataframe\">\n",
       "  <thead>\n",
       "    <tr style=\"text-align: right;\">\n",
       "      <th></th>\n",
       "      <th>index</th>\n",
       "      <th>Size</th>\n",
       "      <th>Fit</th>\n",
       "      <th>Composition</th>\n",
       "      <th>Art. No.</th>\n",
       "    </tr>\n",
       "  </thead>\n",
       "  <tbody>\n",
       "    <tr>\n",
       "      <th>0</th>\n",
       "      <td>1</td>\n",
       "      <td>The model is 185cm/6'1\" and wears a size 31/32</td>\n",
       "      <td>Slim fit</td>\n",
       "      <td>Pocket lining: Polyester 65%, Cotton 35%</td>\n",
       "      <td>1024256001</td>\n",
       "    </tr>\n",
       "    <tr>\n",
       "      <th>1</th>\n",
       "      <td>2</td>\n",
       "      <td>The model is 185cm/6'1\" and wears a size 31/32</td>\n",
       "      <td>Slim fit</td>\n",
       "      <td>Shell: Cotton 99%, Spandex 1%</td>\n",
       "      <td>1024256001</td>\n",
       "    </tr>\n",
       "  </tbody>\n",
       "</table>\n",
       "</div>"
      ],
      "text/plain": [
       "0  index                                            Size       Fit  \\\n",
       "0      1  The model is 185cm/6'1\" and wears a size 31/32  Slim fit   \n",
       "1      2  The model is 185cm/6'1\" and wears a size 31/32  Slim fit   \n",
       "\n",
       "0                               Composition    Art. No.  \n",
       "0  Pocket lining: Polyester 65%, Cotton 35%  1024256001  \n",
       "1             Shell: Cotton 99%, Spandex 1%  1024256001  "
      ]
     },
     "execution_count": 59,
     "metadata": {},
     "output_type": "execute_result"
    }
   ],
   "source": [
    "df_aux = df_aux.fillna(method='ffill')\n",
    "df_aux"
   ]
  },
  {
   "cell_type": "code",
   "execution_count": 60,
   "id": "9e88df7b",
   "metadata": {
    "ExecuteTime": {
     "end_time": "2022-02-05T14:59:34.836348Z",
     "start_time": "2022-02-05T14:59:34.828500Z"
    }
   },
   "outputs": [
    {
     "data": {
      "text/html": [
       "<div>\n",
       "<style scoped>\n",
       "    .dataframe tbody tr th:only-of-type {\n",
       "        vertical-align: middle;\n",
       "    }\n",
       "\n",
       "    .dataframe tbody tr th {\n",
       "        vertical-align: top;\n",
       "    }\n",
       "\n",
       "    .dataframe thead th {\n",
       "        text-align: right;\n",
       "    }\n",
       "</style>\n",
       "<table border=\"1\" class=\"dataframe\">\n",
       "  <thead>\n",
       "    <tr style=\"text-align: right;\">\n",
       "      <th></th>\n",
       "      <th>index</th>\n",
       "      <th>Size</th>\n",
       "      <th>Fit</th>\n",
       "      <th>Composition</th>\n",
       "      <th>Art. No.</th>\n",
       "    </tr>\n",
       "  </thead>\n",
       "  <tbody>\n",
       "    <tr>\n",
       "      <th>0</th>\n",
       "      <td>1</td>\n",
       "      <td>The model is 185cm/6'1\" and wears a size 31/32</td>\n",
       "      <td>Slim fit</td>\n",
       "      <td>Pocket lining: Polyester 65%, Cotton 35%</td>\n",
       "      <td>1024256001</td>\n",
       "    </tr>\n",
       "    <tr>\n",
       "      <th>1</th>\n",
       "      <td>2</td>\n",
       "      <td>The model is 185cm/6'1\" and wears a size 31/32</td>\n",
       "      <td>Slim fit</td>\n",
       "      <td>Shell: Cotton 99%, Spandex 1%</td>\n",
       "      <td>1024256001</td>\n",
       "    </tr>\n",
       "  </tbody>\n",
       "</table>\n",
       "</div>"
      ],
      "text/plain": [
       "0  index                                            Size       Fit  \\\n",
       "0      1  The model is 185cm/6'1\" and wears a size 31/32  Slim fit   \n",
       "1      2  The model is 185cm/6'1\" and wears a size 31/32  Slim fit   \n",
       "\n",
       "0                               Composition    Art. No.  \n",
       "0  Pocket lining: Polyester 65%, Cotton 35%  1024256001  \n",
       "1             Shell: Cotton 99%, Spandex 1%  1024256001  "
      ]
     },
     "execution_count": 60,
     "metadata": {},
     "output_type": "execute_result"
    }
   ],
   "source": [
    "df_composition = df_aux\n",
    "df_composition"
   ]
  },
  {
   "cell_type": "code",
   "execution_count": 61,
   "id": "f98651b2",
   "metadata": {
    "ExecuteTime": {
     "end_time": "2022-02-05T14:59:36.975516Z",
     "start_time": "2022-02-05T14:59:36.965043Z"
    }
   },
   "outputs": [
    {
     "data": {
      "text/html": [
       "<div>\n",
       "<style scoped>\n",
       "    .dataframe tbody tr th:only-of-type {\n",
       "        vertical-align: middle;\n",
       "    }\n",
       "\n",
       "    .dataframe tbody tr th {\n",
       "        vertical-align: top;\n",
       "    }\n",
       "\n",
       "    .dataframe thead th {\n",
       "        text-align: right;\n",
       "    }\n",
       "</style>\n",
       "<table border=\"1\" class=\"dataframe\">\n",
       "  <thead>\n",
       "    <tr style=\"text-align: right;\">\n",
       "      <th></th>\n",
       "      <th>index</th>\n",
       "      <th>Size</th>\n",
       "      <th>Fit</th>\n",
       "      <th>Composition</th>\n",
       "      <th>Art. No.</th>\n",
       "      <th>style_id</th>\n",
       "      <th>color_id</th>\n",
       "    </tr>\n",
       "  </thead>\n",
       "  <tbody>\n",
       "    <tr>\n",
       "      <th>0</th>\n",
       "      <td>1</td>\n",
       "      <td>The model is 185cm/6'1\" and wears a size 31/32</td>\n",
       "      <td>Slim fit</td>\n",
       "      <td>Pocket lining: Polyester 65%, Cotton 35%</td>\n",
       "      <td>1024256001</td>\n",
       "      <td>1024256</td>\n",
       "      <td>001</td>\n",
       "    </tr>\n",
       "    <tr>\n",
       "      <th>1</th>\n",
       "      <td>2</td>\n",
       "      <td>The model is 185cm/6'1\" and wears a size 31/32</td>\n",
       "      <td>Slim fit</td>\n",
       "      <td>Shell: Cotton 99%, Spandex 1%</td>\n",
       "      <td>1024256001</td>\n",
       "      <td>1024256</td>\n",
       "      <td>001</td>\n",
       "    </tr>\n",
       "  </tbody>\n",
       "</table>\n",
       "</div>"
      ],
      "text/plain": [
       "0  index                                            Size       Fit  \\\n",
       "0      1  The model is 185cm/6'1\" and wears a size 31/32  Slim fit   \n",
       "1      2  The model is 185cm/6'1\" and wears a size 31/32  Slim fit   \n",
       "\n",
       "0                               Composition    Art. No. style_id color_id  \n",
       "0  Pocket lining: Polyester 65%, Cotton 35%  1024256001  1024256      001  \n",
       "1             Shell: Cotton 99%, Spandex 1%  1024256001  1024256      001  "
      ]
     },
     "execution_count": 61,
     "metadata": {},
     "output_type": "execute_result"
    }
   ],
   "source": [
    "# generate style id + color id\n",
    "df_composition['style_id'] = df_composition['Art. No.'].apply(lambda x: x[:-3])\n",
    "df_composition['color_id'] = df_composition['Art. No.'].apply(lambda x: x[-3:])\n",
    "df_composition"
   ]
  },
  {
   "cell_type": "code",
   "execution_count": 62,
   "id": "1b77c695",
   "metadata": {
    "ExecuteTime": {
     "end_time": "2022-02-05T14:59:37.625622Z",
     "start_time": "2022-02-05T14:59:37.617175Z"
    }
   },
   "outputs": [
    {
     "data": {
      "text/html": [
       "<div>\n",
       "<style scoped>\n",
       "    .dataframe tbody tr th:only-of-type {\n",
       "        vertical-align: middle;\n",
       "    }\n",
       "\n",
       "    .dataframe tbody tr th {\n",
       "        vertical-align: top;\n",
       "    }\n",
       "\n",
       "    .dataframe thead th {\n",
       "        text-align: right;\n",
       "    }\n",
       "</style>\n",
       "<table border=\"1\" class=\"dataframe\">\n",
       "  <thead>\n",
       "    <tr style=\"text-align: right;\">\n",
       "      <th></th>\n",
       "      <th>product_id</th>\n",
       "      <th>color_name</th>\n",
       "      <th>style_id</th>\n",
       "      <th>color_id</th>\n",
       "    </tr>\n",
       "  </thead>\n",
       "  <tbody>\n",
       "    <tr>\n",
       "      <th>0</th>\n",
       "      <td>1024256002</td>\n",
       "      <td>Light denim blue</td>\n",
       "      <td>1024256</td>\n",
       "      <td>002</td>\n",
       "    </tr>\n",
       "    <tr>\n",
       "      <th>1</th>\n",
       "      <td>1024256003</td>\n",
       "      <td>Light denim blue</td>\n",
       "      <td>1024256</td>\n",
       "      <td>003</td>\n",
       "    </tr>\n",
       "    <tr>\n",
       "      <th>2</th>\n",
       "      <td>1024256004</td>\n",
       "      <td>Denim blue</td>\n",
       "      <td>1024256</td>\n",
       "      <td>004</td>\n",
       "    </tr>\n",
       "    <tr>\n",
       "      <th>3</th>\n",
       "      <td>1024256005</td>\n",
       "      <td>Dark blue</td>\n",
       "      <td>1024256</td>\n",
       "      <td>005</td>\n",
       "    </tr>\n",
       "    <tr>\n",
       "      <th>4</th>\n",
       "      <td>1024256006</td>\n",
       "      <td>Dark denim blue</td>\n",
       "      <td>1024256</td>\n",
       "      <td>006</td>\n",
       "    </tr>\n",
       "    <tr>\n",
       "      <th>5</th>\n",
       "      <td>1024256007</td>\n",
       "      <td>Dark gray</td>\n",
       "      <td>1024256</td>\n",
       "      <td>007</td>\n",
       "    </tr>\n",
       "  </tbody>\n",
       "</table>\n",
       "</div>"
      ],
      "text/plain": [
       "   product_id        color_name style_id color_id\n",
       "0  1024256002  Light denim blue  1024256      002\n",
       "1  1024256003  Light denim blue  1024256      003\n",
       "2  1024256004        Denim blue  1024256      004\n",
       "3  1024256005         Dark blue  1024256      005\n",
       "4  1024256006   Dark denim blue  1024256      006\n",
       "5  1024256007         Dark gray  1024256      007"
      ]
     },
     "execution_count": 62,
     "metadata": {},
     "output_type": "execute_result"
    }
   ],
   "source": [
    "# generate style id + color id\n",
    "df_color['style_id'] = df_color['product_id'].apply(lambda x: x[:-3])\n",
    "df_color['color_id'] = df_color['product_id'].apply(lambda x: x[-3:])\n",
    "df_color"
   ]
  },
  {
   "cell_type": "code",
   "execution_count": 63,
   "id": "7c6ade74",
   "metadata": {
    "ExecuteTime": {
     "end_time": "2022-02-05T14:59:38.271905Z",
     "start_time": "2022-02-05T14:59:38.259303Z"
    }
   },
   "outputs": [
    {
     "data": {
      "text/html": [
       "<div>\n",
       "<style scoped>\n",
       "    .dataframe tbody tr th:only-of-type {\n",
       "        vertical-align: middle;\n",
       "    }\n",
       "\n",
       "    .dataframe tbody tr th {\n",
       "        vertical-align: top;\n",
       "    }\n",
       "\n",
       "    .dataframe thead th {\n",
       "        text-align: right;\n",
       "    }\n",
       "</style>\n",
       "<table border=\"1\" class=\"dataframe\">\n",
       "  <thead>\n",
       "    <tr style=\"text-align: right;\">\n",
       "      <th></th>\n",
       "      <th>product_id</th>\n",
       "      <th>color_name</th>\n",
       "      <th>style_id</th>\n",
       "      <th>color_id</th>\n",
       "      <th>Size</th>\n",
       "      <th>Fit</th>\n",
       "      <th>Composition</th>\n",
       "    </tr>\n",
       "  </thead>\n",
       "  <tbody>\n",
       "    <tr>\n",
       "      <th>0</th>\n",
       "      <td>1024256002</td>\n",
       "      <td>Light denim blue</td>\n",
       "      <td>1024256</td>\n",
       "      <td>002</td>\n",
       "      <td>The model is 185cm/6'1\" and wears a size 31/32</td>\n",
       "      <td>Slim fit</td>\n",
       "      <td>Pocket lining: Polyester 65%, Cotton 35%</td>\n",
       "    </tr>\n",
       "    <tr>\n",
       "      <th>1</th>\n",
       "      <td>1024256002</td>\n",
       "      <td>Light denim blue</td>\n",
       "      <td>1024256</td>\n",
       "      <td>002</td>\n",
       "      <td>The model is 185cm/6'1\" and wears a size 31/32</td>\n",
       "      <td>Slim fit</td>\n",
       "      <td>Shell: Cotton 99%, Spandex 1%</td>\n",
       "    </tr>\n",
       "    <tr>\n",
       "      <th>2</th>\n",
       "      <td>1024256003</td>\n",
       "      <td>Light denim blue</td>\n",
       "      <td>1024256</td>\n",
       "      <td>003</td>\n",
       "      <td>The model is 185cm/6'1\" and wears a size 31/32</td>\n",
       "      <td>Slim fit</td>\n",
       "      <td>Pocket lining: Polyester 65%, Cotton 35%</td>\n",
       "    </tr>\n",
       "    <tr>\n",
       "      <th>3</th>\n",
       "      <td>1024256003</td>\n",
       "      <td>Light denim blue</td>\n",
       "      <td>1024256</td>\n",
       "      <td>003</td>\n",
       "      <td>The model is 185cm/6'1\" and wears a size 31/32</td>\n",
       "      <td>Slim fit</td>\n",
       "      <td>Shell: Cotton 99%, Spandex 1%</td>\n",
       "    </tr>\n",
       "    <tr>\n",
       "      <th>4</th>\n",
       "      <td>1024256004</td>\n",
       "      <td>Denim blue</td>\n",
       "      <td>1024256</td>\n",
       "      <td>004</td>\n",
       "      <td>The model is 185cm/6'1\" and wears a size 31/32</td>\n",
       "      <td>Slim fit</td>\n",
       "      <td>Pocket lining: Polyester 65%, Cotton 35%</td>\n",
       "    </tr>\n",
       "    <tr>\n",
       "      <th>5</th>\n",
       "      <td>1024256004</td>\n",
       "      <td>Denim blue</td>\n",
       "      <td>1024256</td>\n",
       "      <td>004</td>\n",
       "      <td>The model is 185cm/6'1\" and wears a size 31/32</td>\n",
       "      <td>Slim fit</td>\n",
       "      <td>Shell: Cotton 99%, Spandex 1%</td>\n",
       "    </tr>\n",
       "    <tr>\n",
       "      <th>6</th>\n",
       "      <td>1024256005</td>\n",
       "      <td>Dark blue</td>\n",
       "      <td>1024256</td>\n",
       "      <td>005</td>\n",
       "      <td>The model is 185cm/6'1\" and wears a size 31/32</td>\n",
       "      <td>Slim fit</td>\n",
       "      <td>Pocket lining: Polyester 65%, Cotton 35%</td>\n",
       "    </tr>\n",
       "    <tr>\n",
       "      <th>7</th>\n",
       "      <td>1024256005</td>\n",
       "      <td>Dark blue</td>\n",
       "      <td>1024256</td>\n",
       "      <td>005</td>\n",
       "      <td>The model is 185cm/6'1\" and wears a size 31/32</td>\n",
       "      <td>Slim fit</td>\n",
       "      <td>Shell: Cotton 99%, Spandex 1%</td>\n",
       "    </tr>\n",
       "    <tr>\n",
       "      <th>8</th>\n",
       "      <td>1024256006</td>\n",
       "      <td>Dark denim blue</td>\n",
       "      <td>1024256</td>\n",
       "      <td>006</td>\n",
       "      <td>The model is 185cm/6'1\" and wears a size 31/32</td>\n",
       "      <td>Slim fit</td>\n",
       "      <td>Pocket lining: Polyester 65%, Cotton 35%</td>\n",
       "    </tr>\n",
       "    <tr>\n",
       "      <th>9</th>\n",
       "      <td>1024256006</td>\n",
       "      <td>Dark denim blue</td>\n",
       "      <td>1024256</td>\n",
       "      <td>006</td>\n",
       "      <td>The model is 185cm/6'1\" and wears a size 31/32</td>\n",
       "      <td>Slim fit</td>\n",
       "      <td>Shell: Cotton 99%, Spandex 1%</td>\n",
       "    </tr>\n",
       "    <tr>\n",
       "      <th>10</th>\n",
       "      <td>1024256007</td>\n",
       "      <td>Dark gray</td>\n",
       "      <td>1024256</td>\n",
       "      <td>007</td>\n",
       "      <td>The model is 185cm/6'1\" and wears a size 31/32</td>\n",
       "      <td>Slim fit</td>\n",
       "      <td>Pocket lining: Polyester 65%, Cotton 35%</td>\n",
       "    </tr>\n",
       "    <tr>\n",
       "      <th>11</th>\n",
       "      <td>1024256007</td>\n",
       "      <td>Dark gray</td>\n",
       "      <td>1024256</td>\n",
       "      <td>007</td>\n",
       "      <td>The model is 185cm/6'1\" and wears a size 31/32</td>\n",
       "      <td>Slim fit</td>\n",
       "      <td>Shell: Cotton 99%, Spandex 1%</td>\n",
       "    </tr>\n",
       "  </tbody>\n",
       "</table>\n",
       "</div>"
      ],
      "text/plain": [
       "    product_id        color_name style_id color_id  \\\n",
       "0   1024256002  Light denim blue  1024256      002   \n",
       "1   1024256002  Light denim blue  1024256      002   \n",
       "2   1024256003  Light denim blue  1024256      003   \n",
       "3   1024256003  Light denim blue  1024256      003   \n",
       "4   1024256004        Denim blue  1024256      004   \n",
       "5   1024256004        Denim blue  1024256      004   \n",
       "6   1024256005         Dark blue  1024256      005   \n",
       "7   1024256005         Dark blue  1024256      005   \n",
       "8   1024256006   Dark denim blue  1024256      006   \n",
       "9   1024256006   Dark denim blue  1024256      006   \n",
       "10  1024256007         Dark gray  1024256      007   \n",
       "11  1024256007         Dark gray  1024256      007   \n",
       "\n",
       "                                              Size       Fit  \\\n",
       "0   The model is 185cm/6'1\" and wears a size 31/32  Slim fit   \n",
       "1   The model is 185cm/6'1\" and wears a size 31/32  Slim fit   \n",
       "2   The model is 185cm/6'1\" and wears a size 31/32  Slim fit   \n",
       "3   The model is 185cm/6'1\" and wears a size 31/32  Slim fit   \n",
       "4   The model is 185cm/6'1\" and wears a size 31/32  Slim fit   \n",
       "5   The model is 185cm/6'1\" and wears a size 31/32  Slim fit   \n",
       "6   The model is 185cm/6'1\" and wears a size 31/32  Slim fit   \n",
       "7   The model is 185cm/6'1\" and wears a size 31/32  Slim fit   \n",
       "8   The model is 185cm/6'1\" and wears a size 31/32  Slim fit   \n",
       "9   The model is 185cm/6'1\" and wears a size 31/32  Slim fit   \n",
       "10  The model is 185cm/6'1\" and wears a size 31/32  Slim fit   \n",
       "11  The model is 185cm/6'1\" and wears a size 31/32  Slim fit   \n",
       "\n",
       "                                 Composition  \n",
       "0   Pocket lining: Polyester 65%, Cotton 35%  \n",
       "1              Shell: Cotton 99%, Spandex 1%  \n",
       "2   Pocket lining: Polyester 65%, Cotton 35%  \n",
       "3              Shell: Cotton 99%, Spandex 1%  \n",
       "4   Pocket lining: Polyester 65%, Cotton 35%  \n",
       "5              Shell: Cotton 99%, Spandex 1%  \n",
       "6   Pocket lining: Polyester 65%, Cotton 35%  \n",
       "7              Shell: Cotton 99%, Spandex 1%  \n",
       "8   Pocket lining: Polyester 65%, Cotton 35%  \n",
       "9              Shell: Cotton 99%, Spandex 1%  \n",
       "10  Pocket lining: Polyester 65%, Cotton 35%  \n",
       "11             Shell: Cotton 99%, Spandex 1%  "
      ]
     },
     "execution_count": 63,
     "metadata": {},
     "output_type": "execute_result"
    }
   ],
   "source": [
    "# Join\n",
    "pd.merge(df_color, df_composition[['style_id', 'Size', 'Fit', 'Composition']], how='left', on='style_id')"
   ]
  },
  {
   "cell_type": "markdown",
   "id": "f4abb47e",
   "metadata": {},
   "source": [
    "# <span style=\"color:#3399ff\">Juntando todos os passos anteriores </span>"
   ]
  },
  {
   "cell_type": "markdown",
   "id": "bfb2cfa3",
   "metadata": {},
   "source": [
    "## <span style=\"color:#ff8000\">0. Packages </span>"
   ]
  },
  {
   "cell_type": "code",
   "execution_count": 64,
   "id": "ce6a2169",
   "metadata": {
    "ExecuteTime": {
     "end_time": "2022-02-05T14:59:41.544664Z",
     "start_time": "2022-02-05T14:59:41.542379Z"
    }
   },
   "outputs": [],
   "source": [
    "import requests\n",
    "import pandas as pd\n",
    "from datetime import datetime\n",
    "from bs4 import BeautifulSoup"
   ]
  },
  {
   "cell_type": "markdown",
   "id": "5a85b612",
   "metadata": {},
   "source": [
    "## <span style=\"color:#ff8000\">1. One Product </span>"
   ]
  },
  {
   "cell_type": "code",
   "execution_count": 65,
   "id": "2c3c1d40",
   "metadata": {
    "ExecuteTime": {
     "end_time": "2022-02-05T14:59:43.489097Z",
     "start_time": "2022-02-05T14:59:42.601100Z"
    }
   },
   "outputs": [],
   "source": [
    "# API Requests\n",
    "url = 'https://www2.hm.com/en_us/productpage.1024256001.html'\n",
    "headers = {'User-Agent': 'Mozilla/5.0 (Macintosh; Intel Mac OS X 10_11_5)AppleWebKit/537.36 (KHTML, like Gecko) Chrome/50.0.2661.102 Safari/537.36'}\n",
    "page = requests.get( url, headers=headers )\n",
    "\n",
    "\n",
    "# Beautiful Soup object\n",
    "soup = BeautifulSoup(page.text, 'html.parser')\n",
    "\n",
    "# ================== color name =====================================\n",
    "product_list = soup.find_all('a', class_='filter-option miniature')\n",
    "color_name = [p.get('data-color') for p in product_list]\n",
    "\n",
    "# color name\n",
    "product_color_list = soup.find_all('a', class_='filter-option miniature')\n",
    "color_name = [p.get('data-color') for p in product_color_list]\n",
    "\n",
    "# product_id\n",
    "product_id = [p.get('data-articlecode') for p in product_color_list]\n",
    "\n",
    "df_color = pd.DataFrame([product_id, color_name]).T\n",
    "df_color.columns = ['product_id', 'color_name']\n",
    "\n",
    "# generate style id + color id\n",
    "df_color['style_id'] = df_color['product_id'].apply(lambda x: x[:-3])\n",
    "df_color['color_id'] = df_color['product_id'].apply(lambda x: x[-3:])\n",
    "\n",
    "# ================== composition =====================================\n",
    "product_composition_list = soup.find_all('div', class_='pdp-description-list-item')\n",
    "product_composition = [list(filter(None, p.get_text().split('\\n'))) for p in product_composition_list]\n",
    "\n",
    "\n",
    "# rename dataframe\n",
    "df_composition = pd.DataFrame(product_composition).T\n",
    "df_composition.columns = df_composition.iloc[0]\n",
    "\n",
    "\n",
    "# delete first row\n",
    "df_composition = df_composition.iloc[1:].fillna(method='ffill')\n",
    "df_composition = df_composition[['Size','Fit', 'Composition', 'Art. No.']]\n",
    "\n",
    "# generate style id + color id\n",
    "df_composition['style_id'] = df_composition['Art. No.'].apply(lambda x: x[:-3])\n",
    "df_composition['color_id'] = df_composition['Art. No.'].apply(lambda x: x[-3:])\n",
    "\n",
    "# Merge data color + composition\n",
    "data_sku = pd.merge(df_color, df_composition[['style_id', 'Size', 'Fit', 'Composition']], how='left', on='style_id')\n"
   ]
  },
  {
   "cell_type": "code",
   "execution_count": 66,
   "id": "7c75f616",
   "metadata": {
    "ExecuteTime": {
     "end_time": "2022-02-05T14:59:43.500327Z",
     "start_time": "2022-02-05T14:59:43.490760Z"
    }
   },
   "outputs": [
    {
     "data": {
      "text/html": [
       "<div>\n",
       "<style scoped>\n",
       "    .dataframe tbody tr th:only-of-type {\n",
       "        vertical-align: middle;\n",
       "    }\n",
       "\n",
       "    .dataframe tbody tr th {\n",
       "        vertical-align: top;\n",
       "    }\n",
       "\n",
       "    .dataframe thead th {\n",
       "        text-align: right;\n",
       "    }\n",
       "</style>\n",
       "<table border=\"1\" class=\"dataframe\">\n",
       "  <thead>\n",
       "    <tr style=\"text-align: right;\">\n",
       "      <th></th>\n",
       "      <th>product_id</th>\n",
       "      <th>color_name</th>\n",
       "      <th>style_id</th>\n",
       "      <th>color_id</th>\n",
       "      <th>Size</th>\n",
       "      <th>Fit</th>\n",
       "      <th>Composition</th>\n",
       "    </tr>\n",
       "  </thead>\n",
       "  <tbody>\n",
       "    <tr>\n",
       "      <th>0</th>\n",
       "      <td>1024256002</td>\n",
       "      <td>Light denim blue</td>\n",
       "      <td>1024256</td>\n",
       "      <td>002</td>\n",
       "      <td>The model is 185cm/6'1\" and wears a size 31/32</td>\n",
       "      <td>Slim fit</td>\n",
       "      <td>Pocket lining: Polyester 65%, Cotton 35%</td>\n",
       "    </tr>\n",
       "    <tr>\n",
       "      <th>1</th>\n",
       "      <td>1024256002</td>\n",
       "      <td>Light denim blue</td>\n",
       "      <td>1024256</td>\n",
       "      <td>002</td>\n",
       "      <td>The model is 185cm/6'1\" and wears a size 31/32</td>\n",
       "      <td>Slim fit</td>\n",
       "      <td>Shell: Cotton 99%, Spandex 1%</td>\n",
       "    </tr>\n",
       "    <tr>\n",
       "      <th>2</th>\n",
       "      <td>1024256003</td>\n",
       "      <td>Light denim blue</td>\n",
       "      <td>1024256</td>\n",
       "      <td>003</td>\n",
       "      <td>The model is 185cm/6'1\" and wears a size 31/32</td>\n",
       "      <td>Slim fit</td>\n",
       "      <td>Pocket lining: Polyester 65%, Cotton 35%</td>\n",
       "    </tr>\n",
       "    <tr>\n",
       "      <th>3</th>\n",
       "      <td>1024256003</td>\n",
       "      <td>Light denim blue</td>\n",
       "      <td>1024256</td>\n",
       "      <td>003</td>\n",
       "      <td>The model is 185cm/6'1\" and wears a size 31/32</td>\n",
       "      <td>Slim fit</td>\n",
       "      <td>Shell: Cotton 99%, Spandex 1%</td>\n",
       "    </tr>\n",
       "    <tr>\n",
       "      <th>4</th>\n",
       "      <td>1024256004</td>\n",
       "      <td>Denim blue</td>\n",
       "      <td>1024256</td>\n",
       "      <td>004</td>\n",
       "      <td>The model is 185cm/6'1\" and wears a size 31/32</td>\n",
       "      <td>Slim fit</td>\n",
       "      <td>Pocket lining: Polyester 65%, Cotton 35%</td>\n",
       "    </tr>\n",
       "    <tr>\n",
       "      <th>5</th>\n",
       "      <td>1024256004</td>\n",
       "      <td>Denim blue</td>\n",
       "      <td>1024256</td>\n",
       "      <td>004</td>\n",
       "      <td>The model is 185cm/6'1\" and wears a size 31/32</td>\n",
       "      <td>Slim fit</td>\n",
       "      <td>Shell: Cotton 99%, Spandex 1%</td>\n",
       "    </tr>\n",
       "    <tr>\n",
       "      <th>6</th>\n",
       "      <td>1024256005</td>\n",
       "      <td>Dark blue</td>\n",
       "      <td>1024256</td>\n",
       "      <td>005</td>\n",
       "      <td>The model is 185cm/6'1\" and wears a size 31/32</td>\n",
       "      <td>Slim fit</td>\n",
       "      <td>Pocket lining: Polyester 65%, Cotton 35%</td>\n",
       "    </tr>\n",
       "    <tr>\n",
       "      <th>7</th>\n",
       "      <td>1024256005</td>\n",
       "      <td>Dark blue</td>\n",
       "      <td>1024256</td>\n",
       "      <td>005</td>\n",
       "      <td>The model is 185cm/6'1\" and wears a size 31/32</td>\n",
       "      <td>Slim fit</td>\n",
       "      <td>Shell: Cotton 99%, Spandex 1%</td>\n",
       "    </tr>\n",
       "    <tr>\n",
       "      <th>8</th>\n",
       "      <td>1024256006</td>\n",
       "      <td>Dark denim blue</td>\n",
       "      <td>1024256</td>\n",
       "      <td>006</td>\n",
       "      <td>The model is 185cm/6'1\" and wears a size 31/32</td>\n",
       "      <td>Slim fit</td>\n",
       "      <td>Pocket lining: Polyester 65%, Cotton 35%</td>\n",
       "    </tr>\n",
       "    <tr>\n",
       "      <th>9</th>\n",
       "      <td>1024256006</td>\n",
       "      <td>Dark denim blue</td>\n",
       "      <td>1024256</td>\n",
       "      <td>006</td>\n",
       "      <td>The model is 185cm/6'1\" and wears a size 31/32</td>\n",
       "      <td>Slim fit</td>\n",
       "      <td>Shell: Cotton 99%, Spandex 1%</td>\n",
       "    </tr>\n",
       "    <tr>\n",
       "      <th>10</th>\n",
       "      <td>1024256007</td>\n",
       "      <td>Dark gray</td>\n",
       "      <td>1024256</td>\n",
       "      <td>007</td>\n",
       "      <td>The model is 185cm/6'1\" and wears a size 31/32</td>\n",
       "      <td>Slim fit</td>\n",
       "      <td>Pocket lining: Polyester 65%, Cotton 35%</td>\n",
       "    </tr>\n",
       "    <tr>\n",
       "      <th>11</th>\n",
       "      <td>1024256007</td>\n",
       "      <td>Dark gray</td>\n",
       "      <td>1024256</td>\n",
       "      <td>007</td>\n",
       "      <td>The model is 185cm/6'1\" and wears a size 31/32</td>\n",
       "      <td>Slim fit</td>\n",
       "      <td>Shell: Cotton 99%, Spandex 1%</td>\n",
       "    </tr>\n",
       "  </tbody>\n",
       "</table>\n",
       "</div>"
      ],
      "text/plain": [
       "    product_id        color_name style_id color_id  \\\n",
       "0   1024256002  Light denim blue  1024256      002   \n",
       "1   1024256002  Light denim blue  1024256      002   \n",
       "2   1024256003  Light denim blue  1024256      003   \n",
       "3   1024256003  Light denim blue  1024256      003   \n",
       "4   1024256004        Denim blue  1024256      004   \n",
       "5   1024256004        Denim blue  1024256      004   \n",
       "6   1024256005         Dark blue  1024256      005   \n",
       "7   1024256005         Dark blue  1024256      005   \n",
       "8   1024256006   Dark denim blue  1024256      006   \n",
       "9   1024256006   Dark denim blue  1024256      006   \n",
       "10  1024256007         Dark gray  1024256      007   \n",
       "11  1024256007         Dark gray  1024256      007   \n",
       "\n",
       "                                              Size       Fit  \\\n",
       "0   The model is 185cm/6'1\" and wears a size 31/32  Slim fit   \n",
       "1   The model is 185cm/6'1\" and wears a size 31/32  Slim fit   \n",
       "2   The model is 185cm/6'1\" and wears a size 31/32  Slim fit   \n",
       "3   The model is 185cm/6'1\" and wears a size 31/32  Slim fit   \n",
       "4   The model is 185cm/6'1\" and wears a size 31/32  Slim fit   \n",
       "5   The model is 185cm/6'1\" and wears a size 31/32  Slim fit   \n",
       "6   The model is 185cm/6'1\" and wears a size 31/32  Slim fit   \n",
       "7   The model is 185cm/6'1\" and wears a size 31/32  Slim fit   \n",
       "8   The model is 185cm/6'1\" and wears a size 31/32  Slim fit   \n",
       "9   The model is 185cm/6'1\" and wears a size 31/32  Slim fit   \n",
       "10  The model is 185cm/6'1\" and wears a size 31/32  Slim fit   \n",
       "11  The model is 185cm/6'1\" and wears a size 31/32  Slim fit   \n",
       "\n",
       "                                 Composition  \n",
       "0   Pocket lining: Polyester 65%, Cotton 35%  \n",
       "1              Shell: Cotton 99%, Spandex 1%  \n",
       "2   Pocket lining: Polyester 65%, Cotton 35%  \n",
       "3              Shell: Cotton 99%, Spandex 1%  \n",
       "4   Pocket lining: Polyester 65%, Cotton 35%  \n",
       "5              Shell: Cotton 99%, Spandex 1%  \n",
       "6   Pocket lining: Polyester 65%, Cotton 35%  \n",
       "7              Shell: Cotton 99%, Spandex 1%  \n",
       "8   Pocket lining: Polyester 65%, Cotton 35%  \n",
       "9              Shell: Cotton 99%, Spandex 1%  \n",
       "10  Pocket lining: Polyester 65%, Cotton 35%  \n",
       "11             Shell: Cotton 99%, Spandex 1%  "
      ]
     },
     "execution_count": 66,
     "metadata": {},
     "output_type": "execute_result"
    }
   ],
   "source": [
    "data_sku"
   ]
  },
  {
   "cell_type": "markdown",
   "id": "16aa4a1c",
   "metadata": {},
   "source": [
    "## <span style=\"color:#ff8000\">2. Multiple Products </span>"
   ]
  },
  {
   "cell_type": "code",
   "execution_count": 103,
   "id": "e12dec44",
   "metadata": {
    "ExecuteTime": {
     "end_time": "2022-02-05T15:40:43.017059Z",
     "start_time": "2022-02-05T15:40:28.345393Z"
    }
   },
   "outputs": [],
   "source": [
    "headers = {'User-Agent': 'Mozilla/5.0 (Macintosh; Intel Mac OS X 10_11_5)AppleWebKit/537.36 (KHTML, like Gecko) Chrome/50.0.2661.102 Safari/537.36'}\n",
    "\n",
    "# empty data frame to store all the needed information\n",
    "df_details = pd.DataFrame()\n",
    "\n",
    "# unique columns for all products\n",
    "aux = []\n",
    "\n",
    "cols = ['Art. No.', 'Composition', 'Fit', 'Product safatey', 'Size']\n",
    "df_pattern = pd.DataFrame(columns=cols)\n",
    "\n",
    "\n",
    "\n",
    "for i in range(len(data)):\n",
    "\n",
    "    # API Requests\n",
    "    url = 'https://www2.hm.com/en_us/productpage.' + data.loc[i, 'product_id'] + '.html'\n",
    "    page = requests.get( url, headers=headers )\n",
    "\n",
    "\n",
    "    # Beautiful Soup object\n",
    "    soup = BeautifulSoup(page.text, 'html.parser')\n",
    "\n",
    "    # ================== color name =====================================\n",
    "    product_list = soup.find_all('a', class_='filter-option miniature')\n",
    "    color_name = [p.get('data-color') for p in product_list]\n",
    "\n",
    "    # color name\n",
    "    product_color_list = soup.find_all('a', class_='filter-option miniature')\n",
    "    color_name = [p.get('data-color') for p in product_color_list]\n",
    "\n",
    "    # product_id\n",
    "    product_id = [p.get('data-articlecode') for p in product_color_list]\n",
    "\n",
    "    df_color = pd.DataFrame([product_id, color_name]).T\n",
    "    df_color.columns = ['product_id', 'color_name']\n",
    "\n",
    "    # generate style id + color id\n",
    "    df_color['style_id'] = df_color['product_id'].apply(lambda x: x[:-3])\n",
    "    df_color['color_id'] = df_color['product_id'].apply(lambda x: x[-3:])\n",
    "\n",
    "    # ================== composition =====================================\n",
    "    product_composition_list = soup.find_all('div', class_='pdp-description-list-item')\n",
    "    product_composition = [list(filter(None, p.get_text().split('\\n'))) for p in product_composition_list]\n",
    "\n",
    "\n",
    "    # rename dataframe\n",
    "    df_composition = pd.DataFrame(product_composition).T\n",
    "    df_composition.columns = df_composition.iloc[0]\n",
    "\n",
    "\n",
    "    # delete first row\n",
    "    df_composition = df_composition.iloc[1:].fillna(method='ffill')\n",
    "    \n",
    "\n",
    "    # generate style id + color id\n",
    "    df_composition['style_id'] = df_composition['Art. No.'].apply(lambda x: x[:-3])\n",
    "    df_composition['color_id'] = df_composition['Art. No.'].apply(lambda x: x[-3:])\n",
    "    \n",
    "    aux = aux + df_composition.columns.tolist()\n",
    "    \n",
    "    \n",
    "\n",
    "    # Merge data color + composition\n",
    "    data_sku = pd.merge(df_color, df_composition, how='left', on='style_id')\n",
    "    \n",
    "    # all details products\n",
    "    df_details = pd.concat( [df_details, data_sku], axis=0 )\n",
    "    \n",
    "    # Join Showroom data + details\n",
    "    data['style_id'] = data['product_id'].apply( lambda x: x[:-3] )\n",
    "    data['color_id'] = data['product_id'].apply( lambda x: x[-3:] )\n",
    "    \n",
    "    data_raw = pd.merge(data, df_details, how='left', on='style_id')\n",
    "\n",
    "# Salvando a base de dados em csv\n",
    "data_raw.to_csv('products_hm.csv') "
   ]
  },
  {
   "cell_type": "code",
   "execution_count": 102,
   "id": "d9e8a543",
   "metadata": {
    "ExecuteTime": {
     "end_time": "2022-02-05T15:39:38.436443Z",
     "start_time": "2022-02-05T15:39:38.418886Z"
    }
   },
   "outputs": [
    {
     "data": {
      "text/html": [
       "<div>\n",
       "<style scoped>\n",
       "    .dataframe tbody tr th:only-of-type {\n",
       "        vertical-align: middle;\n",
       "    }\n",
       "\n",
       "    .dataframe tbody tr th {\n",
       "        vertical-align: top;\n",
       "    }\n",
       "\n",
       "    .dataframe thead th {\n",
       "        text-align: right;\n",
       "    }\n",
       "</style>\n",
       "<table border=\"1\" class=\"dataframe\">\n",
       "  <thead>\n",
       "    <tr style=\"text-align: right;\">\n",
       "      <th></th>\n",
       "      <th>product_id_x</th>\n",
       "      <th>product_category</th>\n",
       "      <th>product_name</th>\n",
       "      <th>product_price</th>\n",
       "      <th>scrapy_datetime</th>\n",
       "      <th>style_id</th>\n",
       "      <th>color_id</th>\n",
       "      <th>product_id_y</th>\n",
       "      <th>color_name</th>\n",
       "      <th>color_id_x</th>\n",
       "      <th>Size</th>\n",
       "      <th>Fit</th>\n",
       "      <th>Composition</th>\n",
       "      <th>More sustainable materials</th>\n",
       "      <th>Art. No.</th>\n",
       "      <th>color_id_y</th>\n",
       "      <th>Product safety</th>\n",
       "    </tr>\n",
       "  </thead>\n",
       "  <tbody>\n",
       "    <tr>\n",
       "      <th>0</th>\n",
       "      <td>0979945001</td>\n",
       "      <td>men_jeans_loose</td>\n",
       "      <td>Loose Jeans</td>\n",
       "      <td>$ 29.99</td>\n",
       "      <td>2022-02-05 11:58:59</td>\n",
       "      <td>0979945</td>\n",
       "      <td>001</td>\n",
       "      <td>0979945002</td>\n",
       "      <td>Denim blue</td>\n",
       "      <td>002</td>\n",
       "      <td>The model is 180cm/5'11\" and wears a size 31/32</td>\n",
       "      <td>Loose fit</td>\n",
       "      <td>Pocket lining: Polyester 65%, Cotton 35%</td>\n",
       "      <td>Recycled cotton 20%</td>\n",
       "      <td>0979945001</td>\n",
       "      <td>001</td>\n",
       "      <td>NaN</td>\n",
       "    </tr>\n",
       "    <tr>\n",
       "      <th>1</th>\n",
       "      <td>0979945001</td>\n",
       "      <td>men_jeans_loose</td>\n",
       "      <td>Loose Jeans</td>\n",
       "      <td>$ 29.99</td>\n",
       "      <td>2022-02-05 11:58:59</td>\n",
       "      <td>0979945</td>\n",
       "      <td>001</td>\n",
       "      <td>0979945002</td>\n",
       "      <td>Denim blue</td>\n",
       "      <td>002</td>\n",
       "      <td>The model is 180cm/5'11\" and wears a size 31/32</td>\n",
       "      <td>Loose fit</td>\n",
       "      <td>Shell: Cotton 100%</td>\n",
       "      <td>Recycled cotton 20%</td>\n",
       "      <td>0979945001</td>\n",
       "      <td>001</td>\n",
       "      <td>NaN</td>\n",
       "    </tr>\n",
       "    <tr>\n",
       "      <th>2</th>\n",
       "      <td>0979945001</td>\n",
       "      <td>men_jeans_loose</td>\n",
       "      <td>Loose Jeans</td>\n",
       "      <td>$ 29.99</td>\n",
       "      <td>2022-02-05 11:58:59</td>\n",
       "      <td>0979945</td>\n",
       "      <td>001</td>\n",
       "      <td>0979945003</td>\n",
       "      <td>Black</td>\n",
       "      <td>003</td>\n",
       "      <td>The model is 180cm/5'11\" and wears a size 31/32</td>\n",
       "      <td>Loose fit</td>\n",
       "      <td>Pocket lining: Polyester 65%, Cotton 35%</td>\n",
       "      <td>Recycled cotton 20%</td>\n",
       "      <td>0979945001</td>\n",
       "      <td>001</td>\n",
       "      <td>NaN</td>\n",
       "    </tr>\n",
       "    <tr>\n",
       "      <th>3</th>\n",
       "      <td>0979945001</td>\n",
       "      <td>men_jeans_loose</td>\n",
       "      <td>Loose Jeans</td>\n",
       "      <td>$ 29.99</td>\n",
       "      <td>2022-02-05 11:58:59</td>\n",
       "      <td>0979945</td>\n",
       "      <td>001</td>\n",
       "      <td>0979945003</td>\n",
       "      <td>Black</td>\n",
       "      <td>003</td>\n",
       "      <td>The model is 180cm/5'11\" and wears a size 31/32</td>\n",
       "      <td>Loose fit</td>\n",
       "      <td>Shell: Cotton 100%</td>\n",
       "      <td>Recycled cotton 20%</td>\n",
       "      <td>0979945001</td>\n",
       "      <td>001</td>\n",
       "      <td>NaN</td>\n",
       "    </tr>\n",
       "    <tr>\n",
       "      <th>4</th>\n",
       "      <td>0979945001</td>\n",
       "      <td>men_jeans_loose</td>\n",
       "      <td>Loose Jeans</td>\n",
       "      <td>$ 29.99</td>\n",
       "      <td>2022-02-05 11:58:59</td>\n",
       "      <td>0979945</td>\n",
       "      <td>001</td>\n",
       "      <td>0979945001</td>\n",
       "      <td>Light denim blue</td>\n",
       "      <td>001</td>\n",
       "      <td>NaN</td>\n",
       "      <td>Loose fit</td>\n",
       "      <td>Shell: Cotton 100%</td>\n",
       "      <td>Recycled cotton 20%</td>\n",
       "      <td>0979945002</td>\n",
       "      <td>002</td>\n",
       "      <td>NaN</td>\n",
       "    </tr>\n",
       "    <tr>\n",
       "      <th>...</th>\n",
       "      <td>...</td>\n",
       "      <td>...</td>\n",
       "      <td>...</td>\n",
       "      <td>...</td>\n",
       "      <td>...</td>\n",
       "      <td>...</td>\n",
       "      <td>...</td>\n",
       "      <td>...</td>\n",
       "      <td>...</td>\n",
       "      <td>...</td>\n",
       "      <td>...</td>\n",
       "      <td>...</td>\n",
       "      <td>...</td>\n",
       "      <td>...</td>\n",
       "      <td>...</td>\n",
       "      <td>...</td>\n",
       "      <td>...</td>\n",
       "    </tr>\n",
       "    <tr>\n",
       "      <th>1973</th>\n",
       "      <td>1008549002</td>\n",
       "      <td>men_jeans_regular</td>\n",
       "      <td>Regular Jeans</td>\n",
       "      <td>$ 19.99</td>\n",
       "      <td>2022-02-05 11:58:59</td>\n",
       "      <td>1008549</td>\n",
       "      <td>002</td>\n",
       "      <td>1008549004</td>\n",
       "      <td>Dark blue</td>\n",
       "      <td>004</td>\n",
       "      <td>The model is 185cm/6'1\" and wears a size 31/32</td>\n",
       "      <td>Regular fit</td>\n",
       "      <td>Shell: Cotton 99%, Spandex 1%</td>\n",
       "      <td>Recycled cotton 20%</td>\n",
       "      <td>1008549002</td>\n",
       "      <td>002</td>\n",
       "      <td>NaN</td>\n",
       "    </tr>\n",
       "    <tr>\n",
       "      <th>1974</th>\n",
       "      <td>1008549002</td>\n",
       "      <td>men_jeans_regular</td>\n",
       "      <td>Regular Jeans</td>\n",
       "      <td>$ 19.99</td>\n",
       "      <td>2022-02-05 11:58:59</td>\n",
       "      <td>1008549</td>\n",
       "      <td>002</td>\n",
       "      <td>1008549006</td>\n",
       "      <td>Black</td>\n",
       "      <td>006</td>\n",
       "      <td>The model is 185cm/6'1\" and wears a size 31/32</td>\n",
       "      <td>Regular fit</td>\n",
       "      <td>Pocket lining: Polyester 65%, Cotton 35%</td>\n",
       "      <td>Recycled cotton 20%</td>\n",
       "      <td>1008549002</td>\n",
       "      <td>002</td>\n",
       "      <td>NaN</td>\n",
       "    </tr>\n",
       "    <tr>\n",
       "      <th>1975</th>\n",
       "      <td>1008549002</td>\n",
       "      <td>men_jeans_regular</td>\n",
       "      <td>Regular Jeans</td>\n",
       "      <td>$ 19.99</td>\n",
       "      <td>2022-02-05 11:58:59</td>\n",
       "      <td>1008549</td>\n",
       "      <td>002</td>\n",
       "      <td>1008549006</td>\n",
       "      <td>Black</td>\n",
       "      <td>006</td>\n",
       "      <td>The model is 185cm/6'1\" and wears a size 31/32</td>\n",
       "      <td>Regular fit</td>\n",
       "      <td>Shell: Cotton 99%, Spandex 1%</td>\n",
       "      <td>Recycled cotton 20%</td>\n",
       "      <td>1008549002</td>\n",
       "      <td>002</td>\n",
       "      <td>NaN</td>\n",
       "    </tr>\n",
       "    <tr>\n",
       "      <th>1976</th>\n",
       "      <td>1008549002</td>\n",
       "      <td>men_jeans_regular</td>\n",
       "      <td>Regular Jeans</td>\n",
       "      <td>$ 19.99</td>\n",
       "      <td>2022-02-05 11:58:59</td>\n",
       "      <td>1008549</td>\n",
       "      <td>002</td>\n",
       "      <td>1008549008</td>\n",
       "      <td>Light denim blue</td>\n",
       "      <td>008</td>\n",
       "      <td>The model is 185cm/6'1\" and wears a size 31/32</td>\n",
       "      <td>Regular fit</td>\n",
       "      <td>Pocket lining: Polyester 65%, Cotton 35%</td>\n",
       "      <td>Recycled cotton 20%</td>\n",
       "      <td>1008549002</td>\n",
       "      <td>002</td>\n",
       "      <td>NaN</td>\n",
       "    </tr>\n",
       "    <tr>\n",
       "      <th>1977</th>\n",
       "      <td>1008549002</td>\n",
       "      <td>men_jeans_regular</td>\n",
       "      <td>Regular Jeans</td>\n",
       "      <td>$ 19.99</td>\n",
       "      <td>2022-02-05 11:58:59</td>\n",
       "      <td>1008549</td>\n",
       "      <td>002</td>\n",
       "      <td>1008549008</td>\n",
       "      <td>Light denim blue</td>\n",
       "      <td>008</td>\n",
       "      <td>The model is 185cm/6'1\" and wears a size 31/32</td>\n",
       "      <td>Regular fit</td>\n",
       "      <td>Shell: Cotton 99%, Spandex 1%</td>\n",
       "      <td>Recycled cotton 20%</td>\n",
       "      <td>1008549002</td>\n",
       "      <td>002</td>\n",
       "      <td>NaN</td>\n",
       "    </tr>\n",
       "  </tbody>\n",
       "</table>\n",
       "<p>1978 rows × 17 columns</p>\n",
       "</div>"
      ],
      "text/plain": [
       "     product_id_x   product_category   product_name product_price  \\\n",
       "0      0979945001    men_jeans_loose    Loose Jeans       $ 29.99   \n",
       "1      0979945001    men_jeans_loose    Loose Jeans       $ 29.99   \n",
       "2      0979945001    men_jeans_loose    Loose Jeans       $ 29.99   \n",
       "3      0979945001    men_jeans_loose    Loose Jeans       $ 29.99   \n",
       "4      0979945001    men_jeans_loose    Loose Jeans       $ 29.99   \n",
       "...           ...                ...            ...           ...   \n",
       "1973   1008549002  men_jeans_regular  Regular Jeans       $ 19.99   \n",
       "1974   1008549002  men_jeans_regular  Regular Jeans       $ 19.99   \n",
       "1975   1008549002  men_jeans_regular  Regular Jeans       $ 19.99   \n",
       "1976   1008549002  men_jeans_regular  Regular Jeans       $ 19.99   \n",
       "1977   1008549002  men_jeans_regular  Regular Jeans       $ 19.99   \n",
       "\n",
       "          scrapy_datetime style_id color_id product_id_y        color_name  \\\n",
       "0     2022-02-05 11:58:59  0979945      001   0979945002        Denim blue   \n",
       "1     2022-02-05 11:58:59  0979945      001   0979945002        Denim blue   \n",
       "2     2022-02-05 11:58:59  0979945      001   0979945003             Black   \n",
       "3     2022-02-05 11:58:59  0979945      001   0979945003             Black   \n",
       "4     2022-02-05 11:58:59  0979945      001   0979945001  Light denim blue   \n",
       "...                   ...      ...      ...          ...               ...   \n",
       "1973  2022-02-05 11:58:59  1008549      002   1008549004         Dark blue   \n",
       "1974  2022-02-05 11:58:59  1008549      002   1008549006             Black   \n",
       "1975  2022-02-05 11:58:59  1008549      002   1008549006             Black   \n",
       "1976  2022-02-05 11:58:59  1008549      002   1008549008  Light denim blue   \n",
       "1977  2022-02-05 11:58:59  1008549      002   1008549008  Light denim blue   \n",
       "\n",
       "     color_id_x                                             Size          Fit  \\\n",
       "0           002  The model is 180cm/5'11\" and wears a size 31/32    Loose fit   \n",
       "1           002  The model is 180cm/5'11\" and wears a size 31/32    Loose fit   \n",
       "2           003  The model is 180cm/5'11\" and wears a size 31/32    Loose fit   \n",
       "3           003  The model is 180cm/5'11\" and wears a size 31/32    Loose fit   \n",
       "4           001                                              NaN    Loose fit   \n",
       "...         ...                                              ...          ...   \n",
       "1973        004   The model is 185cm/6'1\" and wears a size 31/32  Regular fit   \n",
       "1974        006   The model is 185cm/6'1\" and wears a size 31/32  Regular fit   \n",
       "1975        006   The model is 185cm/6'1\" and wears a size 31/32  Regular fit   \n",
       "1976        008   The model is 185cm/6'1\" and wears a size 31/32  Regular fit   \n",
       "1977        008   The model is 185cm/6'1\" and wears a size 31/32  Regular fit   \n",
       "\n",
       "                                   Composition More sustainable materials  \\\n",
       "0     Pocket lining: Polyester 65%, Cotton 35%        Recycled cotton 20%   \n",
       "1                           Shell: Cotton 100%        Recycled cotton 20%   \n",
       "2     Pocket lining: Polyester 65%, Cotton 35%        Recycled cotton 20%   \n",
       "3                           Shell: Cotton 100%        Recycled cotton 20%   \n",
       "4                           Shell: Cotton 100%        Recycled cotton 20%   \n",
       "...                                        ...                        ...   \n",
       "1973             Shell: Cotton 99%, Spandex 1%        Recycled cotton 20%   \n",
       "1974  Pocket lining: Polyester 65%, Cotton 35%        Recycled cotton 20%   \n",
       "1975             Shell: Cotton 99%, Spandex 1%        Recycled cotton 20%   \n",
       "1976  Pocket lining: Polyester 65%, Cotton 35%        Recycled cotton 20%   \n",
       "1977             Shell: Cotton 99%, Spandex 1%        Recycled cotton 20%   \n",
       "\n",
       "        Art. No. color_id_y Product safety  \n",
       "0     0979945001        001            NaN  \n",
       "1     0979945001        001            NaN  \n",
       "2     0979945001        001            NaN  \n",
       "3     0979945001        001            NaN  \n",
       "4     0979945002        002            NaN  \n",
       "...          ...        ...            ...  \n",
       "1973  1008549002        002            NaN  \n",
       "1974  1008549002        002            NaN  \n",
       "1975  1008549002        002            NaN  \n",
       "1976  1008549002        002            NaN  \n",
       "1977  1008549002        002            NaN  \n",
       "\n",
       "[1978 rows x 17 columns]"
      ]
     },
     "execution_count": 102,
     "metadata": {},
     "output_type": "execute_result"
    }
   ],
   "source": [
    "data_raw"
   ]
  },
  {
   "cell_type": "code",
   "execution_count": null,
   "id": "b1c50de7",
   "metadata": {},
   "outputs": [],
   "source": []
  }
 ],
 "metadata": {
  "kernelspec": {
   "display_name": "Python 3 (ipykernel)",
   "language": "python",
   "name": "python3"
  },
  "language_info": {
   "codemirror_mode": {
    "name": "ipython",
    "version": 3
   },
   "file_extension": ".py",
   "mimetype": "text/x-python",
   "name": "python",
   "nbconvert_exporter": "python",
   "pygments_lexer": "ipython3",
   "version": "3.9.7"
  }
 },
 "nbformat": 4,
 "nbformat_minor": 5
}
