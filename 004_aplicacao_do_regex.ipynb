{
 "cells": [
  {
   "cell_type": "markdown",
   "id": "4191fd8b",
   "metadata": {},
   "source": [
    "# Aplicação do Regex"
   ]
  },
  {
   "cell_type": "code",
   "execution_count": 1,
   "id": "7a846264",
   "metadata": {
    "ExecuteTime": {
     "end_time": "2022-02-11T01:06:10.156960Z",
     "start_time": "2022-02-11T01:06:09.708260Z"
    }
   },
   "outputs": [],
   "source": [
    "import re\n",
    "import pandas as pd \n",
    "import numpy as np"
   ]
  },
  {
   "cell_type": "code",
   "execution_count": 2,
   "id": "b310ae29",
   "metadata": {
    "ExecuteTime": {
     "end_time": "2022-02-11T01:06:10.314829Z",
     "start_time": "2022-02-11T01:06:10.271572Z"
    }
   },
   "outputs": [
    {
     "data": {
      "text/html": [
       "<div>\n",
       "<style scoped>\n",
       "    .dataframe tbody tr th:only-of-type {\n",
       "        vertical-align: middle;\n",
       "    }\n",
       "\n",
       "    .dataframe tbody tr th {\n",
       "        vertical-align: top;\n",
       "    }\n",
       "\n",
       "    .dataframe thead th {\n",
       "        text-align: right;\n",
       "    }\n",
       "</style>\n",
       "<table border=\"1\" class=\"dataframe\">\n",
       "  <thead>\n",
       "    <tr style=\"text-align: right;\">\n",
       "      <th></th>\n",
       "      <th>Unnamed: 0</th>\n",
       "      <th>product_id_x</th>\n",
       "      <th>product_category</th>\n",
       "      <th>product_name</th>\n",
       "      <th>product_price</th>\n",
       "      <th>scrapy_datetime</th>\n",
       "      <th>style_id</th>\n",
       "      <th>color_id</th>\n",
       "      <th>product_id_y</th>\n",
       "      <th>color_name</th>\n",
       "      <th>color_id_x</th>\n",
       "      <th>Size</th>\n",
       "      <th>Fit</th>\n",
       "      <th>Composition</th>\n",
       "      <th>More sustainable materials</th>\n",
       "      <th>Art. No.</th>\n",
       "      <th>color_id_y</th>\n",
       "      <th>Product safety</th>\n",
       "    </tr>\n",
       "  </thead>\n",
       "  <tbody>\n",
       "    <tr>\n",
       "      <th>0</th>\n",
       "      <td>0</td>\n",
       "      <td>979945001</td>\n",
       "      <td>men_jeans_loose</td>\n",
       "      <td>Loose Jeans</td>\n",
       "      <td>$ 29.99</td>\n",
       "      <td>2022-02-05 11:58:59</td>\n",
       "      <td>979945</td>\n",
       "      <td>1</td>\n",
       "      <td>979945002</td>\n",
       "      <td>Denim blue</td>\n",
       "      <td>2</td>\n",
       "      <td>The model is 180cm/5'11\" and wears a size 31/32</td>\n",
       "      <td>Loose fit</td>\n",
       "      <td>Pocket lining: Polyester 65%, Cotton 35%</td>\n",
       "      <td>Recycled cotton 20%</td>\n",
       "      <td>979945001</td>\n",
       "      <td>1</td>\n",
       "      <td>NaN</td>\n",
       "    </tr>\n",
       "    <tr>\n",
       "      <th>1</th>\n",
       "      <td>1</td>\n",
       "      <td>979945001</td>\n",
       "      <td>men_jeans_loose</td>\n",
       "      <td>Loose Jeans</td>\n",
       "      <td>$ 29.99</td>\n",
       "      <td>2022-02-05 11:58:59</td>\n",
       "      <td>979945</td>\n",
       "      <td>1</td>\n",
       "      <td>979945002</td>\n",
       "      <td>Denim blue</td>\n",
       "      <td>2</td>\n",
       "      <td>The model is 180cm/5'11\" and wears a size 31/32</td>\n",
       "      <td>Loose fit</td>\n",
       "      <td>Shell: Cotton 100%</td>\n",
       "      <td>Recycled cotton 20%</td>\n",
       "      <td>979945001</td>\n",
       "      <td>1</td>\n",
       "      <td>NaN</td>\n",
       "    </tr>\n",
       "    <tr>\n",
       "      <th>2</th>\n",
       "      <td>2</td>\n",
       "      <td>979945001</td>\n",
       "      <td>men_jeans_loose</td>\n",
       "      <td>Loose Jeans</td>\n",
       "      <td>$ 29.99</td>\n",
       "      <td>2022-02-05 11:58:59</td>\n",
       "      <td>979945</td>\n",
       "      <td>1</td>\n",
       "      <td>979945003</td>\n",
       "      <td>Black</td>\n",
       "      <td>3</td>\n",
       "      <td>The model is 180cm/5'11\" and wears a size 31/32</td>\n",
       "      <td>Loose fit</td>\n",
       "      <td>Pocket lining: Polyester 65%, Cotton 35%</td>\n",
       "      <td>Recycled cotton 20%</td>\n",
       "      <td>979945001</td>\n",
       "      <td>1</td>\n",
       "      <td>NaN</td>\n",
       "    </tr>\n",
       "    <tr>\n",
       "      <th>3</th>\n",
       "      <td>3</td>\n",
       "      <td>979945001</td>\n",
       "      <td>men_jeans_loose</td>\n",
       "      <td>Loose Jeans</td>\n",
       "      <td>$ 29.99</td>\n",
       "      <td>2022-02-05 11:58:59</td>\n",
       "      <td>979945</td>\n",
       "      <td>1</td>\n",
       "      <td>979945003</td>\n",
       "      <td>Black</td>\n",
       "      <td>3</td>\n",
       "      <td>The model is 180cm/5'11\" and wears a size 31/32</td>\n",
       "      <td>Loose fit</td>\n",
       "      <td>Shell: Cotton 100%</td>\n",
       "      <td>Recycled cotton 20%</td>\n",
       "      <td>979945001</td>\n",
       "      <td>1</td>\n",
       "      <td>NaN</td>\n",
       "    </tr>\n",
       "    <tr>\n",
       "      <th>4</th>\n",
       "      <td>4</td>\n",
       "      <td>979945001</td>\n",
       "      <td>men_jeans_loose</td>\n",
       "      <td>Loose Jeans</td>\n",
       "      <td>$ 29.99</td>\n",
       "      <td>2022-02-05 11:58:59</td>\n",
       "      <td>979945</td>\n",
       "      <td>1</td>\n",
       "      <td>979945001</td>\n",
       "      <td>Light denim blue</td>\n",
       "      <td>1</td>\n",
       "      <td>NaN</td>\n",
       "      <td>Loose fit</td>\n",
       "      <td>Shell: Cotton 100%</td>\n",
       "      <td>Recycled cotton 20%</td>\n",
       "      <td>979945002</td>\n",
       "      <td>2</td>\n",
       "      <td>NaN</td>\n",
       "    </tr>\n",
       "  </tbody>\n",
       "</table>\n",
       "</div>"
      ],
      "text/plain": [
       "   Unnamed: 0  product_id_x product_category product_name product_price  \\\n",
       "0           0     979945001  men_jeans_loose  Loose Jeans       $ 29.99   \n",
       "1           1     979945001  men_jeans_loose  Loose Jeans       $ 29.99   \n",
       "2           2     979945001  men_jeans_loose  Loose Jeans       $ 29.99   \n",
       "3           3     979945001  men_jeans_loose  Loose Jeans       $ 29.99   \n",
       "4           4     979945001  men_jeans_loose  Loose Jeans       $ 29.99   \n",
       "\n",
       "       scrapy_datetime  style_id  color_id  product_id_y        color_name  \\\n",
       "0  2022-02-05 11:58:59    979945         1     979945002        Denim blue   \n",
       "1  2022-02-05 11:58:59    979945         1     979945002        Denim blue   \n",
       "2  2022-02-05 11:58:59    979945         1     979945003             Black   \n",
       "3  2022-02-05 11:58:59    979945         1     979945003             Black   \n",
       "4  2022-02-05 11:58:59    979945         1     979945001  Light denim blue   \n",
       "\n",
       "   color_id_x                                             Size        Fit  \\\n",
       "0           2  The model is 180cm/5'11\" and wears a size 31/32  Loose fit   \n",
       "1           2  The model is 180cm/5'11\" and wears a size 31/32  Loose fit   \n",
       "2           3  The model is 180cm/5'11\" and wears a size 31/32  Loose fit   \n",
       "3           3  The model is 180cm/5'11\" and wears a size 31/32  Loose fit   \n",
       "4           1                                              NaN  Loose fit   \n",
       "\n",
       "                                Composition More sustainable materials  \\\n",
       "0  Pocket lining: Polyester 65%, Cotton 35%        Recycled cotton 20%   \n",
       "1                        Shell: Cotton 100%        Recycled cotton 20%   \n",
       "2  Pocket lining: Polyester 65%, Cotton 35%        Recycled cotton 20%   \n",
       "3                        Shell: Cotton 100%        Recycled cotton 20%   \n",
       "4                        Shell: Cotton 100%        Recycled cotton 20%   \n",
       "\n",
       "    Art. No.  color_id_y Product safety  \n",
       "0  979945001           1            NaN  \n",
       "1  979945001           1            NaN  \n",
       "2  979945001           1            NaN  \n",
       "3  979945001           1            NaN  \n",
       "4  979945002           2            NaN  "
      ]
     },
     "execution_count": 2,
     "metadata": {},
     "output_type": "execute_result"
    }
   ],
   "source": [
    "data = pd.read_csv('products_hm.csv')\n",
    "data.head()"
   ]
  },
  {
   "cell_type": "code",
   "execution_count": 3,
   "id": "e9d7cb89",
   "metadata": {
    "ExecuteTime": {
     "end_time": "2022-02-11T01:06:11.263493Z",
     "start_time": "2022-02-11T01:06:11.249285Z"
    }
   },
   "outputs": [
    {
     "data": {
      "text/html": [
       "<div>\n",
       "<style scoped>\n",
       "    .dataframe tbody tr th:only-of-type {\n",
       "        vertical-align: middle;\n",
       "    }\n",
       "\n",
       "    .dataframe tbody tr th {\n",
       "        vertical-align: top;\n",
       "    }\n",
       "\n",
       "    .dataframe thead th {\n",
       "        text-align: right;\n",
       "    }\n",
       "</style>\n",
       "<table border=\"1\" class=\"dataframe\">\n",
       "  <thead>\n",
       "    <tr style=\"text-align: right;\">\n",
       "      <th></th>\n",
       "      <th>product_id_x</th>\n",
       "      <th>product_category</th>\n",
       "      <th>product_name</th>\n",
       "      <th>product_price</th>\n",
       "      <th>scrapy_datetime</th>\n",
       "      <th>style_id</th>\n",
       "      <th>color_id</th>\n",
       "      <th>product_id_y</th>\n",
       "      <th>color_name</th>\n",
       "      <th>color_id_x</th>\n",
       "      <th>Size</th>\n",
       "      <th>Fit</th>\n",
       "      <th>Composition</th>\n",
       "      <th>More sustainable materials</th>\n",
       "      <th>Art. No.</th>\n",
       "      <th>color_id_y</th>\n",
       "      <th>Product safety</th>\n",
       "    </tr>\n",
       "  </thead>\n",
       "  <tbody>\n",
       "    <tr>\n",
       "      <th>0</th>\n",
       "      <td>979945001</td>\n",
       "      <td>men_jeans_loose</td>\n",
       "      <td>Loose Jeans</td>\n",
       "      <td>$ 29.99</td>\n",
       "      <td>2022-02-05 11:58:59</td>\n",
       "      <td>979945</td>\n",
       "      <td>1</td>\n",
       "      <td>979945002</td>\n",
       "      <td>Denim blue</td>\n",
       "      <td>2</td>\n",
       "      <td>The model is 180cm/5'11\" and wears a size 31/32</td>\n",
       "      <td>Loose fit</td>\n",
       "      <td>Pocket lining: Polyester 65%, Cotton 35%</td>\n",
       "      <td>Recycled cotton 20%</td>\n",
       "      <td>979945001</td>\n",
       "      <td>1</td>\n",
       "      <td>NaN</td>\n",
       "    </tr>\n",
       "    <tr>\n",
       "      <th>1</th>\n",
       "      <td>979945001</td>\n",
       "      <td>men_jeans_loose</td>\n",
       "      <td>Loose Jeans</td>\n",
       "      <td>$ 29.99</td>\n",
       "      <td>2022-02-05 11:58:59</td>\n",
       "      <td>979945</td>\n",
       "      <td>1</td>\n",
       "      <td>979945002</td>\n",
       "      <td>Denim blue</td>\n",
       "      <td>2</td>\n",
       "      <td>The model is 180cm/5'11\" and wears a size 31/32</td>\n",
       "      <td>Loose fit</td>\n",
       "      <td>Shell: Cotton 100%</td>\n",
       "      <td>Recycled cotton 20%</td>\n",
       "      <td>979945001</td>\n",
       "      <td>1</td>\n",
       "      <td>NaN</td>\n",
       "    </tr>\n",
       "    <tr>\n",
       "      <th>2</th>\n",
       "      <td>979945001</td>\n",
       "      <td>men_jeans_loose</td>\n",
       "      <td>Loose Jeans</td>\n",
       "      <td>$ 29.99</td>\n",
       "      <td>2022-02-05 11:58:59</td>\n",
       "      <td>979945</td>\n",
       "      <td>1</td>\n",
       "      <td>979945003</td>\n",
       "      <td>Black</td>\n",
       "      <td>3</td>\n",
       "      <td>The model is 180cm/5'11\" and wears a size 31/32</td>\n",
       "      <td>Loose fit</td>\n",
       "      <td>Pocket lining: Polyester 65%, Cotton 35%</td>\n",
       "      <td>Recycled cotton 20%</td>\n",
       "      <td>979945001</td>\n",
       "      <td>1</td>\n",
       "      <td>NaN</td>\n",
       "    </tr>\n",
       "    <tr>\n",
       "      <th>3</th>\n",
       "      <td>979945001</td>\n",
       "      <td>men_jeans_loose</td>\n",
       "      <td>Loose Jeans</td>\n",
       "      <td>$ 29.99</td>\n",
       "      <td>2022-02-05 11:58:59</td>\n",
       "      <td>979945</td>\n",
       "      <td>1</td>\n",
       "      <td>979945003</td>\n",
       "      <td>Black</td>\n",
       "      <td>3</td>\n",
       "      <td>The model is 180cm/5'11\" and wears a size 31/32</td>\n",
       "      <td>Loose fit</td>\n",
       "      <td>Shell: Cotton 100%</td>\n",
       "      <td>Recycled cotton 20%</td>\n",
       "      <td>979945001</td>\n",
       "      <td>1</td>\n",
       "      <td>NaN</td>\n",
       "    </tr>\n",
       "    <tr>\n",
       "      <th>4</th>\n",
       "      <td>979945001</td>\n",
       "      <td>men_jeans_loose</td>\n",
       "      <td>Loose Jeans</td>\n",
       "      <td>$ 29.99</td>\n",
       "      <td>2022-02-05 11:58:59</td>\n",
       "      <td>979945</td>\n",
       "      <td>1</td>\n",
       "      <td>979945001</td>\n",
       "      <td>Light denim blue</td>\n",
       "      <td>1</td>\n",
       "      <td>NaN</td>\n",
       "      <td>Loose fit</td>\n",
       "      <td>Shell: Cotton 100%</td>\n",
       "      <td>Recycled cotton 20%</td>\n",
       "      <td>979945002</td>\n",
       "      <td>2</td>\n",
       "      <td>NaN</td>\n",
       "    </tr>\n",
       "  </tbody>\n",
       "</table>\n",
       "</div>"
      ],
      "text/plain": [
       "   product_id_x product_category product_name product_price  \\\n",
       "0     979945001  men_jeans_loose  Loose Jeans       $ 29.99   \n",
       "1     979945001  men_jeans_loose  Loose Jeans       $ 29.99   \n",
       "2     979945001  men_jeans_loose  Loose Jeans       $ 29.99   \n",
       "3     979945001  men_jeans_loose  Loose Jeans       $ 29.99   \n",
       "4     979945001  men_jeans_loose  Loose Jeans       $ 29.99   \n",
       "\n",
       "       scrapy_datetime  style_id  color_id  product_id_y        color_name  \\\n",
       "0  2022-02-05 11:58:59    979945         1     979945002        Denim blue   \n",
       "1  2022-02-05 11:58:59    979945         1     979945002        Denim blue   \n",
       "2  2022-02-05 11:58:59    979945         1     979945003             Black   \n",
       "3  2022-02-05 11:58:59    979945         1     979945003             Black   \n",
       "4  2022-02-05 11:58:59    979945         1     979945001  Light denim blue   \n",
       "\n",
       "   color_id_x                                             Size        Fit  \\\n",
       "0           2  The model is 180cm/5'11\" and wears a size 31/32  Loose fit   \n",
       "1           2  The model is 180cm/5'11\" and wears a size 31/32  Loose fit   \n",
       "2           3  The model is 180cm/5'11\" and wears a size 31/32  Loose fit   \n",
       "3           3  The model is 180cm/5'11\" and wears a size 31/32  Loose fit   \n",
       "4           1                                              NaN  Loose fit   \n",
       "\n",
       "                                Composition More sustainable materials  \\\n",
       "0  Pocket lining: Polyester 65%, Cotton 35%        Recycled cotton 20%   \n",
       "1                        Shell: Cotton 100%        Recycled cotton 20%   \n",
       "2  Pocket lining: Polyester 65%, Cotton 35%        Recycled cotton 20%   \n",
       "3                        Shell: Cotton 100%        Recycled cotton 20%   \n",
       "4                        Shell: Cotton 100%        Recycled cotton 20%   \n",
       "\n",
       "    Art. No.  color_id_y Product safety  \n",
       "0  979945001           1            NaN  \n",
       "1  979945001           1            NaN  \n",
       "2  979945001           1            NaN  \n",
       "3  979945001           1            NaN  \n",
       "4  979945002           2            NaN  "
      ]
     },
     "execution_count": 3,
     "metadata": {},
     "output_type": "execute_result"
    }
   ],
   "source": [
    "data = data.drop(['Unnamed: 0'], axis=1)\n",
    "data.head()"
   ]
  },
  {
   "cell_type": "code",
   "execution_count": 4,
   "id": "7ce62b73",
   "metadata": {
    "ExecuteTime": {
     "end_time": "2022-02-11T01:06:12.053902Z",
     "start_time": "2022-02-11T01:06:12.049426Z"
    }
   },
   "outputs": [],
   "source": [
    "data01 = data[['product_id_x', 'product_category', 'product_name', 'product_price', 'scrapy_datetime', 'style_id', 'color_id', 'color_name',\n",
    "              'Size', 'Fit', 'Composition', 'More sustainable materials']].copy()\n"
   ]
  },
  {
   "cell_type": "code",
   "execution_count": 5,
   "id": "432d872b",
   "metadata": {
    "ExecuteTime": {
     "end_time": "2022-02-11T01:06:12.848161Z",
     "start_time": "2022-02-11T01:06:12.836608Z"
    }
   },
   "outputs": [
    {
     "data": {
      "text/html": [
       "<div>\n",
       "<style scoped>\n",
       "    .dataframe tbody tr th:only-of-type {\n",
       "        vertical-align: middle;\n",
       "    }\n",
       "\n",
       "    .dataframe tbody tr th {\n",
       "        vertical-align: top;\n",
       "    }\n",
       "\n",
       "    .dataframe thead th {\n",
       "        text-align: right;\n",
       "    }\n",
       "</style>\n",
       "<table border=\"1\" class=\"dataframe\">\n",
       "  <thead>\n",
       "    <tr style=\"text-align: right;\">\n",
       "      <th></th>\n",
       "      <th>product_id</th>\n",
       "      <th>product_category</th>\n",
       "      <th>product_name</th>\n",
       "      <th>product_price</th>\n",
       "      <th>scrapy_datetime</th>\n",
       "      <th>style_id</th>\n",
       "      <th>color_id</th>\n",
       "      <th>color_name</th>\n",
       "      <th>size</th>\n",
       "      <th>fit</th>\n",
       "      <th>composition</th>\n",
       "      <th>product_safety</th>\n",
       "    </tr>\n",
       "  </thead>\n",
       "  <tbody>\n",
       "    <tr>\n",
       "      <th>0</th>\n",
       "      <td>979945001</td>\n",
       "      <td>men_jeans_loose</td>\n",
       "      <td>Loose Jeans</td>\n",
       "      <td>$ 29.99</td>\n",
       "      <td>2022-02-05 11:58:59</td>\n",
       "      <td>979945</td>\n",
       "      <td>1</td>\n",
       "      <td>Denim blue</td>\n",
       "      <td>The model is 180cm/5'11\" and wears a size 31/32</td>\n",
       "      <td>Loose fit</td>\n",
       "      <td>Pocket lining: Polyester 65%, Cotton 35%</td>\n",
       "      <td>Recycled cotton 20%</td>\n",
       "    </tr>\n",
       "    <tr>\n",
       "      <th>1</th>\n",
       "      <td>979945001</td>\n",
       "      <td>men_jeans_loose</td>\n",
       "      <td>Loose Jeans</td>\n",
       "      <td>$ 29.99</td>\n",
       "      <td>2022-02-05 11:58:59</td>\n",
       "      <td>979945</td>\n",
       "      <td>1</td>\n",
       "      <td>Denim blue</td>\n",
       "      <td>The model is 180cm/5'11\" and wears a size 31/32</td>\n",
       "      <td>Loose fit</td>\n",
       "      <td>Shell: Cotton 100%</td>\n",
       "      <td>Recycled cotton 20%</td>\n",
       "    </tr>\n",
       "    <tr>\n",
       "      <th>2</th>\n",
       "      <td>979945001</td>\n",
       "      <td>men_jeans_loose</td>\n",
       "      <td>Loose Jeans</td>\n",
       "      <td>$ 29.99</td>\n",
       "      <td>2022-02-05 11:58:59</td>\n",
       "      <td>979945</td>\n",
       "      <td>1</td>\n",
       "      <td>Black</td>\n",
       "      <td>The model is 180cm/5'11\" and wears a size 31/32</td>\n",
       "      <td>Loose fit</td>\n",
       "      <td>Pocket lining: Polyester 65%, Cotton 35%</td>\n",
       "      <td>Recycled cotton 20%</td>\n",
       "    </tr>\n",
       "    <tr>\n",
       "      <th>3</th>\n",
       "      <td>979945001</td>\n",
       "      <td>men_jeans_loose</td>\n",
       "      <td>Loose Jeans</td>\n",
       "      <td>$ 29.99</td>\n",
       "      <td>2022-02-05 11:58:59</td>\n",
       "      <td>979945</td>\n",
       "      <td>1</td>\n",
       "      <td>Black</td>\n",
       "      <td>The model is 180cm/5'11\" and wears a size 31/32</td>\n",
       "      <td>Loose fit</td>\n",
       "      <td>Shell: Cotton 100%</td>\n",
       "      <td>Recycled cotton 20%</td>\n",
       "    </tr>\n",
       "    <tr>\n",
       "      <th>4</th>\n",
       "      <td>979945001</td>\n",
       "      <td>men_jeans_loose</td>\n",
       "      <td>Loose Jeans</td>\n",
       "      <td>$ 29.99</td>\n",
       "      <td>2022-02-05 11:58:59</td>\n",
       "      <td>979945</td>\n",
       "      <td>1</td>\n",
       "      <td>Light denim blue</td>\n",
       "      <td>NaN</td>\n",
       "      <td>Loose fit</td>\n",
       "      <td>Shell: Cotton 100%</td>\n",
       "      <td>Recycled cotton 20%</td>\n",
       "    </tr>\n",
       "  </tbody>\n",
       "</table>\n",
       "</div>"
      ],
      "text/plain": [
       "   product_id product_category product_name product_price  \\\n",
       "0   979945001  men_jeans_loose  Loose Jeans       $ 29.99   \n",
       "1   979945001  men_jeans_loose  Loose Jeans       $ 29.99   \n",
       "2   979945001  men_jeans_loose  Loose Jeans       $ 29.99   \n",
       "3   979945001  men_jeans_loose  Loose Jeans       $ 29.99   \n",
       "4   979945001  men_jeans_loose  Loose Jeans       $ 29.99   \n",
       "\n",
       "       scrapy_datetime  style_id  color_id        color_name  \\\n",
       "0  2022-02-05 11:58:59    979945         1        Denim blue   \n",
       "1  2022-02-05 11:58:59    979945         1        Denim blue   \n",
       "2  2022-02-05 11:58:59    979945         1             Black   \n",
       "3  2022-02-05 11:58:59    979945         1             Black   \n",
       "4  2022-02-05 11:58:59    979945         1  Light denim blue   \n",
       "\n",
       "                                              size        fit  \\\n",
       "0  The model is 180cm/5'11\" and wears a size 31/32  Loose fit   \n",
       "1  The model is 180cm/5'11\" and wears a size 31/32  Loose fit   \n",
       "2  The model is 180cm/5'11\" and wears a size 31/32  Loose fit   \n",
       "3  The model is 180cm/5'11\" and wears a size 31/32  Loose fit   \n",
       "4                                              NaN  Loose fit   \n",
       "\n",
       "                                composition       product_safety  \n",
       "0  Pocket lining: Polyester 65%, Cotton 35%  Recycled cotton 20%  \n",
       "1                        Shell: Cotton 100%  Recycled cotton 20%  \n",
       "2  Pocket lining: Polyester 65%, Cotton 35%  Recycled cotton 20%  \n",
       "3                        Shell: Cotton 100%  Recycled cotton 20%  \n",
       "4                        Shell: Cotton 100%  Recycled cotton 20%  "
      ]
     },
     "execution_count": 5,
     "metadata": {},
     "output_type": "execute_result"
    }
   ],
   "source": [
    "# Changing column names\n",
    "data01.columns = ['product_id', 'product_category', 'product_name', 'product_price',\n",
    "       'scrapy_datetime', 'style_id', 'color_id', 'color_name', 'size', 'fit',\n",
    "       'composition', 'product_safety']\n",
    "\n",
    "data01.head()"
   ]
  },
  {
   "cell_type": "code",
   "execution_count": 6,
   "id": "864b6601",
   "metadata": {
    "ExecuteTime": {
     "end_time": "2022-02-11T01:06:13.649937Z",
     "start_time": "2022-02-11T01:06:13.645937Z"
    }
   },
   "outputs": [
    {
     "data": {
      "text/plain": [
       "(1978, 12)"
      ]
     },
     "execution_count": 6,
     "metadata": {},
     "output_type": "execute_result"
    }
   ],
   "source": [
    "data01.shape"
   ]
  },
  {
   "cell_type": "markdown",
   "id": "494161b7",
   "metadata": {},
   "source": [
    "#### <span style=\"color:#1a8cff\">*Types*</span>"
   ]
  },
  {
   "cell_type": "code",
   "execution_count": 7,
   "id": "7e03d201",
   "metadata": {
    "ExecuteTime": {
     "end_time": "2022-02-11T01:06:16.318384Z",
     "start_time": "2022-02-11T01:06:16.313096Z"
    }
   },
   "outputs": [
    {
     "data": {
      "text/plain": [
       "product_id           int64\n",
       "product_category    object\n",
       "product_name        object\n",
       "product_price       object\n",
       "scrapy_datetime     object\n",
       "style_id             int64\n",
       "color_id             int64\n",
       "color_name          object\n",
       "size                object\n",
       "fit                 object\n",
       "composition         object\n",
       "product_safety      object\n",
       "dtype: object"
      ]
     },
     "execution_count": 7,
     "metadata": {},
     "output_type": "execute_result"
    }
   ],
   "source": [
    "data01.dtypes"
   ]
  },
  {
   "cell_type": "markdown",
   "id": "0045a17d",
   "metadata": {},
   "source": [
    "#### <span style=\"color:#1a8cff\">*Checking for NAs*</span>"
   ]
  },
  {
   "cell_type": "code",
   "execution_count": 8,
   "id": "5810c270",
   "metadata": {
    "ExecuteTime": {
     "end_time": "2022-02-11T01:06:17.711410Z",
     "start_time": "2022-02-11T01:06:17.705327Z"
    }
   },
   "outputs": [
    {
     "data": {
      "text/plain": [
       "product_id             0\n",
       "product_category       0\n",
       "product_name           0\n",
       "product_price          0\n",
       "scrapy_datetime        0\n",
       "style_id               0\n",
       "color_id               0\n",
       "color_name             0\n",
       "size                 431\n",
       "fit                    0\n",
       "composition            0\n",
       "product_safety      1383\n",
       "dtype: int64"
      ]
     },
     "execution_count": 8,
     "metadata": {},
     "output_type": "execute_result"
    }
   ],
   "source": [
    "data01.isna().sum()"
   ]
  },
  {
   "cell_type": "markdown",
   "id": "84cdae36",
   "metadata": {},
   "source": [
    "- No caso de existir NA, e não estivermos usando nenhuma técnica de substituição, podemos simplesmente ignorar, usando o comando abaixo."
   ]
  },
  {
   "cell_type": "markdown",
   "id": "ac86c805",
   "metadata": {},
   "source": [
    "`data = data.dropna(subset=['product_id'])`"
   ]
  },
  {
   "cell_type": "markdown",
   "id": "e1c4a469",
   "metadata": {
    "ExecuteTime": {
     "end_time": "2022-02-03T00:48:35.077089Z",
     "start_time": "2022-02-03T00:48:35.070974Z"
    }
   },
   "source": [
    "- Neste caso, estaríamos removendo todos os NAs da coluna `product_id`."
   ]
  },
  {
   "cell_type": "markdown",
   "id": "61e32f25",
   "metadata": {},
   "source": [
    "#### <span style=\"color:#1a8cff\">*Mudando os tipos das variáveis:*</span>"
   ]
  },
  {
   "cell_type": "code",
   "execution_count": 9,
   "id": "1aefdf6b",
   "metadata": {
    "ExecuteTime": {
     "end_time": "2022-02-11T01:06:21.607533Z",
     "start_time": "2022-02-11T01:06:21.576200Z"
    }
   },
   "outputs": [],
   "source": [
    "# product_name\n",
    "data01['product_name'] = data01['product_name'].apply(lambda x: x.replace(' ', '_').lower())\n",
    "\n",
    "# product_price\n",
    "data01['product_price'] = data01['product_price'].apply(lambda x: x.replace('$ ', '')).astype(float)\n",
    "\n",
    "# scrapy_datetime\n",
    "data01['scrapy_datetime'] = pd.to_datetime(data01['scrapy_datetime'], format='%Y-%m-%d %H:%M:%S')\n",
    "\n",
    "# style_id\n",
    "data01['style_id'] = data01['style_id'].astype(int)\n",
    "\n",
    "\n",
    "# color_id\n",
    "data01['color_id'] = data01['color_id'].astype(int)\n",
    "\n",
    "# color_name\n",
    "data01['color_name'] = data01['color_name'].apply(lambda x: x.replace(' ', '_').lower())\n",
    "\n",
    "# Fit\n",
    "data01['fit'] = data01['fit'].apply(lambda x: x.replace(' ', '_').lower())\n",
    "\n",
    "# size number\n",
    "data01['size_number'] = data01['size'].apply(lambda x: re.search ('\\d{3}cm', x).group(0) if pd.notnull(x) else x)\n",
    "data01['size_number'] = data01['size'].apply(lambda x: re.search('\\d+', x).group(0) if pd.notnull(x) else x)\n",
    "\n",
    "# size model\n",
    "data01['size_model'] = data01['size'].str.extract('(\\d+/\\\\d+)')\n",
    "\n",
    "# removing the size variable, because we have already removed the information we wanted\n",
    "data01 = data01.drop(columns=['size', 'product_safety'], axis = 1)\n",
    "\n",
    "# product_composition\n",
    "# Excluding composition I don't want for the first cycle of CRISP\n",
    "data01 = data01[~data01['composition'].str.contains('Pocket lining:', na=False)]\n",
    "data01 = data01[~data01['composition'].str.contains('Lining:', na=False)]\n",
    "data01 = data01[~data01['composition'].str.contains('Shell:', na=False)]\n",
    "data01 = data01[~data01['composition'].str.contains('Pocket:', na=False)]"
   ]
  },
  {
   "cell_type": "code",
   "execution_count": 23,
   "id": "45e333ab",
   "metadata": {
    "ExecuteTime": {
     "end_time": "2022-02-11T01:21:19.221867Z",
     "start_time": "2022-02-11T01:21:19.217812Z"
    }
   },
   "outputs": [],
   "source": [
    "# break composition by comma\n",
    "df1 = data01['composition'].str.split(',', expand = True)"
   ]
  },
  {
   "cell_type": "code",
   "execution_count": 30,
   "id": "78b18b3c",
   "metadata": {
    "ExecuteTime": {
     "end_time": "2022-02-11T01:25:19.466362Z",
     "start_time": "2022-02-11T01:25:19.456721Z"
    }
   },
   "outputs": [
    {
     "data": {
      "text/html": [
       "<div>\n",
       "<style scoped>\n",
       "    .dataframe tbody tr th:only-of-type {\n",
       "        vertical-align: middle;\n",
       "    }\n",
       "\n",
       "    .dataframe tbody tr th {\n",
       "        vertical-align: top;\n",
       "    }\n",
       "\n",
       "    .dataframe thead th {\n",
       "        text-align: right;\n",
       "    }\n",
       "</style>\n",
       "<table border=\"1\" class=\"dataframe\">\n",
       "  <thead>\n",
       "    <tr style=\"text-align: right;\">\n",
       "      <th></th>\n",
       "      <th>0</th>\n",
       "      <th>1</th>\n",
       "      <th>2</th>\n",
       "    </tr>\n",
       "  </thead>\n",
       "  <tbody>\n",
       "    <tr>\n",
       "      <th>337</th>\n",
       "      <td>Cotton 98%</td>\n",
       "      <td>Spandex 2%</td>\n",
       "      <td>None</td>\n",
       "    </tr>\n",
       "    <tr>\n",
       "      <th>356</th>\n",
       "      <td>Cotton 98%</td>\n",
       "      <td>Spandex 2%</td>\n",
       "      <td>None</td>\n",
       "    </tr>\n",
       "    <tr>\n",
       "      <th>991</th>\n",
       "      <td>Cotton 98%</td>\n",
       "      <td>Spandex 2%</td>\n",
       "      <td>None</td>\n",
       "    </tr>\n",
       "    <tr>\n",
       "      <th>1238</th>\n",
       "      <td>Cotton 98%</td>\n",
       "      <td>Spandex 2%</td>\n",
       "      <td>None</td>\n",
       "    </tr>\n",
       "    <tr>\n",
       "      <th>1297</th>\n",
       "      <td>Cotton 98%</td>\n",
       "      <td>Spandex 2%</td>\n",
       "      <td>None</td>\n",
       "    </tr>\n",
       "    <tr>\n",
       "      <th>900</th>\n",
       "      <td>Cotton 98%</td>\n",
       "      <td>Spandex 2%</td>\n",
       "      <td>None</td>\n",
       "    </tr>\n",
       "    <tr>\n",
       "      <th>434</th>\n",
       "      <td>Cotton 98%</td>\n",
       "      <td>Spandex 2%</td>\n",
       "      <td>None</td>\n",
       "    </tr>\n",
       "    <tr>\n",
       "      <th>1230</th>\n",
       "      <td>Cotton 98%</td>\n",
       "      <td>Spandex 2%</td>\n",
       "      <td>None</td>\n",
       "    </tr>\n",
       "    <tr>\n",
       "      <th>1639</th>\n",
       "      <td>Cotton 98%</td>\n",
       "      <td>Spandex 2%</td>\n",
       "      <td>None</td>\n",
       "    </tr>\n",
       "    <tr>\n",
       "      <th>833</th>\n",
       "      <td>Cotton 98%</td>\n",
       "      <td>Spandex 2%</td>\n",
       "      <td>None</td>\n",
       "    </tr>\n",
       "    <tr>\n",
       "      <th>917</th>\n",
       "      <td>Cotton 98%</td>\n",
       "      <td>Spandex 2%</td>\n",
       "      <td>None</td>\n",
       "    </tr>\n",
       "    <tr>\n",
       "      <th>929</th>\n",
       "      <td>Cotton 98%</td>\n",
       "      <td>Spandex 2%</td>\n",
       "      <td>None</td>\n",
       "    </tr>\n",
       "    <tr>\n",
       "      <th>979</th>\n",
       "      <td>Cotton 98%</td>\n",
       "      <td>Spandex 2%</td>\n",
       "      <td>None</td>\n",
       "    </tr>\n",
       "    <tr>\n",
       "      <th>1586</th>\n",
       "      <td>Cotton 98%</td>\n",
       "      <td>Spandex 2%</td>\n",
       "      <td>None</td>\n",
       "    </tr>\n",
       "    <tr>\n",
       "      <th>822</th>\n",
       "      <td>Cotton 98%</td>\n",
       "      <td>Spandex 2%</td>\n",
       "      <td>None</td>\n",
       "    </tr>\n",
       "    <tr>\n",
       "      <th>1575</th>\n",
       "      <td>Cotton 98%</td>\n",
       "      <td>Spandex 2%</td>\n",
       "      <td>None</td>\n",
       "    </tr>\n",
       "    <tr>\n",
       "      <th>1278</th>\n",
       "      <td>Cotton 98%</td>\n",
       "      <td>Spandex 2%</td>\n",
       "      <td>None</td>\n",
       "    </tr>\n",
       "    <tr>\n",
       "      <th>1658</th>\n",
       "      <td>Cotton 98%</td>\n",
       "      <td>Spandex 2%</td>\n",
       "      <td>None</td>\n",
       "    </tr>\n",
       "    <tr>\n",
       "      <th>967</th>\n",
       "      <td>Cotton 98%</td>\n",
       "      <td>Spandex 2%</td>\n",
       "      <td>None</td>\n",
       "    </tr>\n",
       "    <tr>\n",
       "      <th>863</th>\n",
       "      <td>Cotton 98%</td>\n",
       "      <td>Spandex 2%</td>\n",
       "      <td>None</td>\n",
       "    </tr>\n",
       "    <tr>\n",
       "      <th>350</th>\n",
       "      <td>Cotton 98%</td>\n",
       "      <td>Spandex 2%</td>\n",
       "      <td>None</td>\n",
       "    </tr>\n",
       "    <tr>\n",
       "      <th>785</th>\n",
       "      <td>Cotton 98%</td>\n",
       "      <td>Spandex 2%</td>\n",
       "      <td>None</td>\n",
       "    </tr>\n",
       "    <tr>\n",
       "      <th>219</th>\n",
       "      <td>Cotton 79%</td>\n",
       "      <td>Polyester 20%</td>\n",
       "      <td>Spandex 1%</td>\n",
       "    </tr>\n",
       "    <tr>\n",
       "      <th>934</th>\n",
       "      <td>Cotton 98%</td>\n",
       "      <td>Spandex 2%</td>\n",
       "      <td>None</td>\n",
       "    </tr>\n",
       "    <tr>\n",
       "      <th>1236</th>\n",
       "      <td>Cotton 98%</td>\n",
       "      <td>Spandex 2%</td>\n",
       "      <td>None</td>\n",
       "    </tr>\n",
       "  </tbody>\n",
       "</table>\n",
       "</div>"
      ],
      "text/plain": [
       "               0               1            2\n",
       "337   Cotton 98%      Spandex 2%         None\n",
       "356   Cotton 98%      Spandex 2%         None\n",
       "991   Cotton 98%      Spandex 2%         None\n",
       "1238  Cotton 98%      Spandex 2%         None\n",
       "1297  Cotton 98%      Spandex 2%         None\n",
       "900   Cotton 98%      Spandex 2%         None\n",
       "434   Cotton 98%      Spandex 2%         None\n",
       "1230  Cotton 98%      Spandex 2%         None\n",
       "1639  Cotton 98%      Spandex 2%         None\n",
       "833   Cotton 98%      Spandex 2%         None\n",
       "917   Cotton 98%      Spandex 2%         None\n",
       "929   Cotton 98%      Spandex 2%         None\n",
       "979   Cotton 98%      Spandex 2%         None\n",
       "1586  Cotton 98%      Spandex 2%         None\n",
       "822   Cotton 98%      Spandex 2%         None\n",
       "1575  Cotton 98%      Spandex 2%         None\n",
       "1278  Cotton 98%      Spandex 2%         None\n",
       "1658  Cotton 98%      Spandex 2%         None\n",
       "967   Cotton 98%      Spandex 2%         None\n",
       "863   Cotton 98%      Spandex 2%         None\n",
       "350   Cotton 98%      Spandex 2%         None\n",
       "785   Cotton 98%      Spandex 2%         None\n",
       "219   Cotton 79%   Polyester 20%   Spandex 1%\n",
       "934   Cotton 98%      Spandex 2%         None\n",
       "1236  Cotton 98%      Spandex 2%         None"
      ]
     },
     "execution_count": 30,
     "metadata": {},
     "output_type": "execute_result"
    }
   ],
   "source": [
    "df1.sample(25)"
   ]
  },
  {
   "cell_type": "code",
   "execution_count": 26,
   "id": "ca229313",
   "metadata": {
    "ExecuteTime": {
     "end_time": "2022-02-11T01:22:02.134049Z",
     "start_time": "2022-02-11T01:22:02.129850Z"
    }
   },
   "outputs": [
    {
     "data": {
      "text/plain": [
       "array(['Cotton 98%', 'Cotton 79%', 'Cotton 78%', 'Cotton 99%'],\n",
       "      dtype=object)"
      ]
     },
     "execution_count": 26,
     "metadata": {},
     "output_type": "execute_result"
    }
   ],
   "source": [
    "df1[0].unique()"
   ]
  },
  {
   "cell_type": "code",
   "execution_count": 27,
   "id": "c43ff70e",
   "metadata": {
    "ExecuteTime": {
     "end_time": "2022-02-11T01:22:16.711365Z",
     "start_time": "2022-02-11T01:22:16.707038Z"
    }
   },
   "outputs": [
    {
     "data": {
      "text/plain": [
       "array([' Spandex 2%', ' Polyester 20%', ' Polyester 21%', ' Spandex 1%'],\n",
       "      dtype=object)"
      ]
     },
     "execution_count": 27,
     "metadata": {},
     "output_type": "execute_result"
    }
   ],
   "source": [
    "df1[1].unique()"
   ]
  },
  {
   "cell_type": "code",
   "execution_count": 36,
   "id": "08774bb2",
   "metadata": {
    "ExecuteTime": {
     "end_time": "2022-02-11T01:26:28.322669Z",
     "start_time": "2022-02-11T01:26:28.318544Z"
    }
   },
   "outputs": [],
   "source": [
    "# cotton | polyester | spandex |\n",
    "df_ref = pd.DataFrame(index=np.arange(len(data01)), columns = ['cotton', 'spandex', 'polyester'])"
   ]
  },
  {
   "cell_type": "code",
   "execution_count": 37,
   "id": "f7c97517",
   "metadata": {
    "ExecuteTime": {
     "end_time": "2022-02-11T01:26:30.133602Z",
     "start_time": "2022-02-11T01:26:30.129525Z"
    }
   },
   "outputs": [
    {
     "data": {
      "text/plain": [
       "(485, 3)"
      ]
     },
     "execution_count": 37,
     "metadata": {},
     "output_type": "execute_result"
    }
   ],
   "source": [
    "df_ref.shape"
   ]
  },
  {
   "cell_type": "code",
   "execution_count": 38,
   "id": "8c2a759d",
   "metadata": {
    "ExecuteTime": {
     "end_time": "2022-02-11T01:26:31.854793Z",
     "start_time": "2022-02-11T01:26:31.850731Z"
    }
   },
   "outputs": [
    {
     "data": {
      "text/plain": [
       "(485, 12)"
      ]
     },
     "execution_count": 38,
     "metadata": {},
     "output_type": "execute_result"
    }
   ],
   "source": [
    "data01.shape"
   ]
  },
  {
   "cell_type": "code",
   "execution_count": null,
   "id": "11813a2d",
   "metadata": {},
   "outputs": [],
   "source": []
  }
 ],
 "metadata": {
  "kernelspec": {
   "display_name": "Python 3 (ipykernel)",
   "language": "python",
   "name": "python3"
  },
  "language_info": {
   "codemirror_mode": {
    "name": "ipython",
    "version": 3
   },
   "file_extension": ".py",
   "mimetype": "text/x-python",
   "name": "python",
   "nbconvert_exporter": "python",
   "pygments_lexer": "ipython3",
   "version": "3.9.7"
  }
 },
 "nbformat": 4,
 "nbformat_minor": 5
}
