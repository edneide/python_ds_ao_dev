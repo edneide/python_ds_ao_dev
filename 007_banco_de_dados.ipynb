{
 "cells": [
  {
   "cell_type": "markdown",
   "id": "50309ce6",
   "metadata": {},
   "source": [
    "# <span style=\"color:#007ba7\"> 1. O Método Cíclico </span>"
   ]
  },
  {
   "cell_type": "markdown",
   "id": "f739ed61",
   "metadata": {
    "heading_collapsed": true
   },
   "source": [
    "## <span style=\"color:#007ba7\"> 1.1. Questão do Negócio </span>"
   ]
  },
  {
   "cell_type": "markdown",
   "id": "e2765225",
   "metadata": {
    "hidden": true
   },
   "source": [
    "Lembrar do problema inicial que é de um e-commerce de calça jeans masculina.\n",
    "\n",
    "1. Qual o melhor preço de venda para as calças?\n",
    "2. Quantos tipos de calças e suas cores para o produto inicial?\n",
    "3. Quais as matérias primas necessárias para confeccionar as calças?\n",
    "\n",
    "Tomar os sites da H&M e Macys como referência."
   ]
  },
  {
   "cell_type": "markdown",
   "id": "08d137e1",
   "metadata": {
    "heading_collapsed": true
   },
   "source": [
    "## <span style=\"color:#007ba7\"> 1.2. Ciclo do CRISP-DM </span>"
   ]
  },
  {
   "cell_type": "markdown",
   "id": "02302ee4",
   "metadata": {
    "hidden": true
   },
   "source": [
    "- Estamos na etapa de limpeza de dados. \n",
    "- É importante garantir que os dados estejam consistentes e limpos antes de subir para um banco de dados, evitando, assim, enviar sujeiras. \n",
    "- Limpar os dados quando já estão no banco de dados é mais complicado do que já subir os dados limpos."
   ]
  },
  {
   "cell_type": "markdown",
   "id": "fae6e2d8",
   "metadata": {
    "heading_collapsed": true
   },
   "source": [
    "# <span style=\"color:#007ba7\"> 2. Granularidade </span>"
   ]
  },
  {
   "cell_type": "markdown",
   "id": "b0661ea9",
   "metadata": {
    "hidden": true
   },
   "source": [
    "É o nível de detalhe na qual o dado é armazenado no banco de dados. \n",
    "\n",
    "(Jan L. Harrington, in Relational Database Design and Implementation)"
   ]
  },
  {
   "cell_type": "markdown",
   "id": "ad2735e9",
   "metadata": {},
   "source": [
    "# <span style=\"color:#007ba7\"> 3. Limpeza e definição da granularidade </span>"
   ]
  },
  {
   "cell_type": "code",
   "execution_count": 4,
   "id": "bc442738",
   "metadata": {
    "ExecuteTime": {
     "end_time": "2022-02-22T14:15:57.366825Z",
     "start_time": "2022-02-22T14:15:57.363537Z"
    }
   },
   "outputs": [],
   "source": [
    "import re\n",
    "import pandas as pd \n",
    "import numpy as np"
   ]
  },
  {
   "cell_type": "code",
   "execution_count": 5,
   "id": "5db97bb7",
   "metadata": {
    "ExecuteTime": {
     "end_time": "2022-02-22T14:15:59.088477Z",
     "start_time": "2022-02-22T14:15:59.014725Z"
    }
   },
   "outputs": [],
   "source": [
    "# Data\n",
    "data = pd.read_csv('products_hm.csv')\n",
    "data = data.drop(['Unnamed: 0'], axis=1)\n",
    "data = data[['product_id_x', 'product_category', 'product_name', 'product_price', 'scrapy_datetime', 'style_id', 'color_id', 'color_name',\n",
    "              'Size', 'Fit', 'Composition', 'More sustainable materials']].copy()\n",
    "# Changing column names\n",
    "data.columns = ['product_id', 'product_category', 'product_name', 'product_price',\n",
    "       'scrapy_datetime', 'style_id', 'color_id', 'color_name', 'size', 'fit',\n",
    "       'composition', 'product_safety']\n",
    "\n",
    "# product_name\n",
    "data['product_name'] = data['product_name'].apply(lambda x: x.replace(' ', '_').lower())\n",
    "\n",
    "# product_price\n",
    "data['product_price'] = data['product_price'].apply(lambda x: x.replace('$ ', '')).astype(float)\n",
    "\n",
    "# scrapy_datetime\n",
    "data['scrapy_datetime'] = pd.to_datetime(data['scrapy_datetime'], format='%Y-%m-%d %H:%M:%S')\n",
    "\n",
    "# style_id\n",
    "data['style_id'] = data['style_id'].astype(int)\n",
    "\n",
    "\n",
    "# color_id\n",
    "data['color_id'] = data['color_id'].astype(int)\n",
    "\n",
    "# color_name\n",
    "data['color_name'] = data['color_name'].apply(lambda x: x.replace(' ', '_').lower())\n",
    "\n",
    "# Fit\n",
    "data['fit'] = data['fit'].apply(lambda x: x.replace(' ', '_').lower())\n",
    "\n",
    "# size number\n",
    "data['size_number'] = data['size'].apply(lambda x: re.search ('\\d{3}cm', x).group(0) if pd.notnull(x) else x)\n",
    "data['size_number'] = data['size'].apply(lambda x: re.search('\\d+', x).group(0) if pd.notnull(x) else x)\n",
    "\n",
    "# size model\n",
    "data['size_model'] = data['size'].str.extract('(\\d+/\\\\d+)')\n",
    "\n",
    "# removing the size variable, because we have already removed the information we wanted\n",
    "data = data.drop(columns=['size', 'product_safety'], axis = 1)\n",
    "\n",
    "# product_composition\n",
    "# Excluding composition I don't want for the first cycle of CRISP\n",
    "data = data[~data['composition'].str.contains('Pocket lining:', na=False)]\n",
    "data = data[~data['composition'].str.contains('Lining:', na=False)]\n",
    "data = data[~data['composition'].str.contains('Shell:', na=False)]\n",
    "data = data[~data['composition'].str.contains('Pocket:', na=False)]\n",
    "\n",
    "# reset_index\n",
    "data = data.reset_index()\n",
    "\n",
    "# composition \n",
    "# cotton | polyester | spandex |\n",
    "df_ref = pd.DataFrame(index=np.arange(len(data)), columns = ['cotton', 'spandex', 'polyester'])\n",
    "\n",
    "# break composition by comma\n",
    "df1 = data['composition'].str.split(',', expand = True)\n",
    "\n",
    "# cotton\n",
    "df_cotton = df1[0]\n",
    "df_cotton.name = 'cotton'\n",
    "df_ref = pd.concat([df_ref, df_cotton], axis=1)\n",
    "df_ref = df_ref.iloc[:, ~df_ref.columns.duplicated(keep='last')]\n",
    "df_ref['cotton'] = df_ref['cotton'].fillna('Cotton 0%')\n",
    "\n",
    "# polyester\n",
    "df_polyester = df1.loc[df1[1].str.contains('Polyester', na=True), 1]\n",
    "df_polyester.name = 'polyester'\n",
    "\n",
    "df_ref = pd.concat([df_ref, df_polyester], axis = 1)\n",
    "df_ref = df_ref.iloc[:, ~df_ref.columns.duplicated(keep='last')]\n",
    "df_ref['polyester'] = df_ref['polyester'].fillna('Polyester 0%')\n",
    "\n",
    "# spandex\n",
    "df_spandex = df1.loc[df1[1].str.contains('Spandex', na=True), 1]\n",
    "df_spandex.name = 'spandex'\n",
    "\n",
    "# combine spandex from both columns 1 and 2\n",
    "df_spandex = df_spandex.combine_first(df1[2])\n",
    "\n",
    "df_ref = pd.concat([df_ref, df_spandex], axis = 1)\n",
    "df_ref = df_ref.iloc[:, ~df_ref.columns.duplicated(keep='last')]\n",
    "df_ref['spandex'] = df_ref['spandex'].fillna('Spandex 0%')\n",
    "\n",
    "# final join\n",
    "data = pd.concat([data, df_ref], axis=1)\n",
    "\n",
    "# Format composition data\n",
    "data['cotton'] = data['cotton'].apply(lambda x: re.search('\\d+', x).group(0) if pd.notnull(x) else x)\n",
    "data['polyester'] = data['polyester'].apply(lambda x: re.search('\\d+', x).group(0) if pd.notnull(x) else x)\n",
    "data['spandex'] = data['spandex'].apply(lambda x: re.search('\\d+', x).group(0) if pd.notnull(x) else x)\n",
    "\n",
    "# Converting composition components to int\n",
    "data['cotton'] = data['cotton'].astype(int)\n",
    "data['polyester'] = data['polyester'].astype(int)\n",
    "data['spandex'] = data['spandex'].astype(int)\n",
    "\n",
    "# Drop  columns\n",
    "data = data.drop(columns=['index', 'composition'])\n",
    "\n",
    "# Drop duplicates\n",
    "data = data.drop_duplicates()"
   ]
  },
  {
   "cell_type": "code",
   "execution_count": 6,
   "id": "5e3f1065",
   "metadata": {
    "ExecuteTime": {
     "end_time": "2022-02-22T14:16:09.406131Z",
     "start_time": "2022-02-22T14:16:09.399944Z"
    }
   },
   "outputs": [],
   "source": [
    "# Salvando a base de dados limpa em csv\n",
    "data.to_csv('products_hm_cleaned.csv', index=False)"
   ]
  }
 ],
 "metadata": {
  "kernelspec": {
   "display_name": "Python 3 (ipykernel)",
   "language": "python",
   "name": "python3"
  },
  "language_info": {
   "codemirror_mode": {
    "name": "ipython",
    "version": 3
   },
   "file_extension": ".py",
   "mimetype": "text/x-python",
   "name": "python",
   "nbconvert_exporter": "python",
   "pygments_lexer": "ipython3",
   "version": "3.9.7"
  }
 },
 "nbformat": 4,
 "nbformat_minor": 5
}
