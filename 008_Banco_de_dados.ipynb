{
 "cells": [
  {
   "cell_type": "markdown",
   "id": "5b9268e6",
   "metadata": {},
   "source": [
    "# <span style=\"color:#ff6600\">Os principais comandos de Banco de Dados </span>"
   ]
  },
  {
   "cell_type": "markdown",
   "id": "37aa75d3",
   "metadata": {},
   "source": [
    "**SELECT** - Extrai de um banco de dados\n",
    "\n",
    "**UPDATE** - Atualiza um dado no banco de dados\n",
    "\n",
    "**DELETE** - Apaga dados de uma tabela do banco de dados, mas mantém a estrutura da tabela\n",
    "\n",
    "**INSERT INTO** - Insere um novo registro em um banco de dados \n",
    "\n",
    "**CREATE DATABASE** - Cria um novo banco de dados\n",
    "\n",
    "**ALTER DATABASE** - Modifica um banco de dados\n",
    "\n",
    "**CREAT TABLE** - Cria uma nova tabela\n",
    "\n",
    "**ALTER TABLE** - Modifica uma tabela\n",
    "\n",
    "**DROP TABLE** - Apaga a tabela e a estrutura\n",
    "\n",
    "**CREAT INDEX** - Cria um index (chave de busca)\n",
    "\n",
    "**DROP INDEX** - Apaga o index"
   ]
  },
  {
   "cell_type": "code",
   "execution_count": null,
   "id": "c7441357",
   "metadata": {},
   "outputs": [],
   "source": []
  }
 ],
 "metadata": {
  "kernelspec": {
   "display_name": "Python 3 (ipykernel)",
   "language": "python",
   "name": "python3"
  },
  "language_info": {
   "codemirror_mode": {
    "name": "ipython",
    "version": 3
   },
   "file_extension": ".py",
   "mimetype": "text/x-python",
   "name": "python",
   "nbconvert_exporter": "python",
   "pygments_lexer": "ipython3",
   "version": "3.9.7"
  }
 },
 "nbformat": 4,
 "nbformat_minor": 5
}
